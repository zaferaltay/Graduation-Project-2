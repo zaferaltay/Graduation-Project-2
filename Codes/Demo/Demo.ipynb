{
  "nbformat": 4,
  "nbformat_minor": 0,
  "metadata": {
    "colab": {
      "name": "Demo.ipynb",
      "provenance": [],
      "collapsed_sections": []
    },
    "kernelspec": {
      "name": "python3",
      "display_name": "Python 3"
    },
    "language_info": {
      "name": "python"
    }
  },
  "cells": [
    {
      "cell_type": "code",
      "execution_count": null,
      "metadata": {
        "id": "XL9HdTVQOiHe"
      },
      "outputs": [],
      "source": [
        "import pandas as pd\n",
        "import numpy as np"
      ]
    },
    {
      "cell_type": "code",
      "source": [
        "urineDS=pd.read_csv(\"/content/drive/MyDrive/Grad2/lastUrine.csv\")\n",
        "urineDS=urineDS.iloc[:,1:]\n",
        "\n",
        "from sklearn.preprocessing import StandardScaler\n",
        "\n",
        "\n",
        "urineOutput=urineDS.iloc[2:,0:1]\n",
        "urineInput=urineDS.iloc[2:,4:]\n",
        "\n",
        "data = urineInput\n",
        "scaler = StandardScaler()\n",
        "scaler.fit(data)\n",
        "urineInput=scaler.transform(data)"
      ],
      "metadata": {
        "id": "WC1rMP0gQZVQ"
      },
      "execution_count": null,
      "outputs": []
    },
    {
      "cell_type": "code",
      "source": [
        "import numpy as np\n",
        "from sklearn.model_selection import train_test_split\n",
        "X_train, X_test, y_train, y_test = train_test_split(urineInput, urineOutput, test_size=0.33, random_state=0)"
      ],
      "metadata": {
        "id": "agxF16VCab7m"
      },
      "execution_count": null,
      "outputs": []
    },
    {
      "cell_type": "code",
      "source": [
        "X_train=X_train.astype(np.float64)\n",
        "X_test=X_test.astype(np.float64)\n",
        "y_train=y_train.astype(np.float64)-1\n",
        "y_test=y_test.astype(np.float64)-1"
      ],
      "metadata": {
        "id": "ERoNbx0NaeYi"
      },
      "execution_count": null,
      "outputs": []
    },
    {
      "cell_type": "code",
      "source": [
        ""
      ],
      "metadata": {
        "id": "14Z_usLAahbA"
      },
      "execution_count": null,
      "outputs": []
    },
    {
      "cell_type": "code",
      "source": [
        "urineDS=pd.read_csv(\"/content/drive/MyDrive/Grad2/lastUrine.csv\")\n",
        "urineDS=urineDS.iloc[:,1:]\n",
        "\n",
        "from sklearn.preprocessing import StandardScaler\n",
        "\n",
        "\n",
        "urineOutput2=urineDS.iloc[2:,1:2]\n",
        "urineInput2=urineDS.iloc[2:,4:]\n",
        "\n",
        "data2 = urineInput2\n",
        "scaler2 = StandardScaler()\n",
        "scaler2.fit(data2)\n",
        "urineInput2=scaler2.transform(data2)"
      ],
      "metadata": {
        "id": "HvwYS6M3Z41e"
      },
      "execution_count": null,
      "outputs": []
    },
    {
      "cell_type": "code",
      "source": [
        "import numpy as np\n",
        "from sklearn.model_selection import train_test_split\n",
        "X_train2, X_test2, y_train2, y_test2 = train_test_split(urineInput2, urineOutput2, test_size=0.33, random_state=0)"
      ],
      "metadata": {
        "id": "XAvG6EuaaZYF"
      },
      "execution_count": null,
      "outputs": []
    },
    {
      "cell_type": "code",
      "source": [
        "X_train2=X_train2.astype(np.float64)\n",
        "X_test2=X_test2.astype(np.float64)\n",
        "y_train2=y_train2.astype(np.float64)\n",
        "y_test2=y_test2.astype(np.float64)\n",
        "\n",
        "X_train2=X_train2.astype(np.int64)\n",
        "y_train2=y_train2.astype(np.int64)\n",
        "X_train2=X_train2.astype(np.float64)\n",
        "y_train2=y_train2.astype(np.float64)\n"
      ],
      "metadata": {
        "id": "7wDVZqltUPdx"
      },
      "execution_count": null,
      "outputs": []
    },
    {
      "cell_type": "code",
      "source": [
        ""
      ],
      "metadata": {
        "id": "193CraTlURET"
      },
      "execution_count": null,
      "outputs": []
    },
    {
      "cell_type": "code",
      "source": [
        ""
      ],
      "metadata": {
        "id": "j2OhP-3CUTmr"
      },
      "execution_count": null,
      "outputs": []
    },
    {
      "cell_type": "code",
      "source": [
        ""
      ],
      "metadata": {
        "id": "OLewHL-bUTgF"
      },
      "execution_count": null,
      "outputs": []
    },
    {
      "cell_type": "code",
      "source": [
        ""
      ],
      "metadata": {
        "id": "CRGC2lEGUTZv"
      },
      "execution_count": null,
      "outputs": []
    },
    {
      "cell_type": "code",
      "source": [
        ""
      ],
      "metadata": {
        "id": "np5vc1OwUTT5"
      },
      "execution_count": null,
      "outputs": []
    },
    {
      "cell_type": "code",
      "source": [
        ""
      ],
      "metadata": {
        "id": "i6RgKuBBUTM3"
      },
      "execution_count": null,
      "outputs": []
    },
    {
      "cell_type": "code",
      "source": [
        "\n"
      ],
      "metadata": {
        "id": "wOtrQ_djQgKe"
      },
      "execution_count": null,
      "outputs": []
    },
    {
      "cell_type": "code",
      "source": [
        "def nmrgcgender():\n",
        "    import os                                   #NMR-GC BEST GENDER IDENTIFICATION MODEL\n",
        "\n",
        "    import tensorflow as tf\n",
        "    from tensorflow import keras\n",
        "    new_model = tf.keras.models.load_model('/content/drive/MyDrive/Grad2Models/cinsiyetNMRGC', compile=False)\n",
        "\n",
        "    prediction=new_model.predict((X_test[:25,:197],X_test[:25,197:521]))\n",
        "\n",
        "    for i in range (prediction.shape[0]):\n",
        "      if prediction[i]< 0.5:\n",
        "        prediction[i]=0\n",
        "      else:\n",
        "        prediction[i]=1  \n",
        "        \n",
        "\n",
        "    yout=y_test.to_numpy()    \n",
        "    counter=0\n",
        "\n",
        "    temp1=\"\"\n",
        "    temp2=\"\"\n",
        "\n",
        "    for i in range (prediction.shape[0]):\n",
        "      if prediction[i]==0:\n",
        "        temp1=\"male  \"\n",
        "      else:\n",
        "        temp1=\"female\"\n",
        "\n",
        "      if yout[i]==0:\n",
        "        temp2=\"male  \"\n",
        "      else:\n",
        "        temp2=\"female\"      \n",
        "      \n",
        "      if prediction[i] == yout[i] :\n",
        "        print(\"Predicted Gender : \",temp1 ,\" Real Gender : \",temp2,\"         CORRECT\")\n",
        "      else:  \n",
        "        print(\"Predicted Gender : \",temp1 ,\" Real Gender : \",temp2,\"         WRONG\")\n",
        "\n",
        "\n"
      ],
      "metadata": {
        "id": "CTgWGMdxQn5U"
      },
      "execution_count": null,
      "outputs": []
    },
    {
      "cell_type": "code",
      "source": [
        "def genderEarly():\n",
        "  import os\n",
        "\n",
        "  import tensorflow as tf\n",
        "  from tensorflow import keras\n",
        "  new_model = tf.keras.models.load_model('/content/drive/MyDrive/Grad2Models/cinsiyetEarly', compile=False)\n",
        "  prediction=new_model.predict(X_test[:25,])\n",
        "\n",
        "  for i in range (prediction.shape[0]):\n",
        "      if prediction[i]< 0.5:\n",
        "        prediction[i]=0\n",
        "      else:\n",
        "        prediction[i]=1  \n",
        "        \n",
        "\n",
        "  yout=y_test.to_numpy()    \n",
        "  counter=0\n",
        "\n",
        "  temp1=\"\"\n",
        "  temp2=\"\"\n",
        "\n",
        "  for i in range (prediction.shape[0]):\n",
        "      if prediction[i]==0:\n",
        "        temp1=\"male  \"\n",
        "      else:\n",
        "        temp1=\"female\"\n",
        "\n",
        "      if yout[i]==0:\n",
        "        temp2=\"male  \"\n",
        "      else:\n",
        "        temp2=\"female\"      \n",
        "      \n",
        "      if prediction[i] == yout[i] :\n",
        "        print(\"Predicted Gender : \",temp1 ,\" Real Gender : \",temp2,\"         CORRECT\")\n",
        "      else:  \n",
        "        print(\"Predicted Gender : \",temp1 ,\" Real Gender : \",temp2,\"         WRONG\")\n"
      ],
      "metadata": {
        "id": "lrefSpp251kW"
      },
      "execution_count": null,
      "outputs": []
    },
    {
      "cell_type": "code",
      "source": [
        "def cbgender():\n",
        "    import os                                 #CB WORST GENDER IDENTIFICATION MODEL\n",
        "\n",
        "    import tensorflow as tf\n",
        "    from tensorflow import keras\n",
        "    new_model = tf.keras.models.load_model('/content/drive/MyDrive/Grad2Models/genderClinic', compile=False)\n",
        "\n",
        "    prediction=new_model.predict(X_test[:25,521:])\n",
        "\n",
        "    for i in range (prediction.shape[0]):\n",
        "      if prediction[i]< 0.5:\n",
        "        prediction[i]=0\n",
        "      else:\n",
        "        prediction[i]=1  \n",
        "        \n",
        "\n",
        "    yout=y_test.to_numpy()    \n",
        "    counter=0\n",
        "\n",
        "    temp1=\"\"\n",
        "    temp2=\"\"\n",
        "\n",
        "    for i in range (prediction.shape[0]):\n",
        "      if prediction[i]==0:\n",
        "        temp1=\"male  \"\n",
        "      else:\n",
        "        temp1=\"female\"\n",
        "\n",
        "      if yout[i]==0:\n",
        "        temp2=\"male  \"\n",
        "      else:\n",
        "        temp2=\"female\"      \n",
        "      \n",
        "      if prediction[i] == yout[i] :\n",
        "        print(\"Predicted Gender : \",temp1 ,\" Real Gender : \",temp2,\"         CORRECT\")\n",
        "      else:  \n",
        "        print(\"Predicted Gender : \",temp1 ,\" Real Gender : \",temp2,\"         WRONG\")"
      ],
      "metadata": {
        "id": "_B9SyIjuUhWW"
      },
      "execution_count": null,
      "outputs": []
    },
    {
      "cell_type": "code",
      "source": [
        ""
      ],
      "metadata": {
        "id": "qK8BX8CtXceU"
      },
      "execution_count": null,
      "outputs": []
    },
    {
      "cell_type": "code",
      "source": [
        ""
      ],
      "metadata": {
        "id": "Q-dRBMRtXcbx"
      },
      "execution_count": null,
      "outputs": []
    },
    {
      "cell_type": "code",
      "source": [
        ""
      ],
      "metadata": {
        "id": "SsrmnGi0XcXg"
      },
      "execution_count": null,
      "outputs": []
    },
    {
      "cell_type": "code",
      "source": [
        ""
      ],
      "metadata": {
        "id": "3Swa34euXcOv"
      },
      "execution_count": null,
      "outputs": []
    },
    {
      "cell_type": "code",
      "source": [
        ""
      ],
      "metadata": {
        "id": "7FuduTZ2Xbm3"
      },
      "execution_count": null,
      "outputs": []
    },
    {
      "cell_type": "code",
      "source": [
        "def yasNmrGc():\n",
        "\n",
        "  import os                                 \n",
        "  import tensorflow as tf\n",
        "  from tensorflow import keras\n",
        "\n",
        "  new_model = tf.keras.models.load_model('/content/drive/MyDrive/Grad2Models/yasNmrGC', compile=False)  #Worst For Age\n",
        "\n",
        "\n",
        "\n",
        "  prediction=new_model.predict((X_test2[:50,:197],X_test2[:50,197:521]))\n",
        "\n",
        "\n",
        "      \n",
        "  yout2=y_test2.to_numpy()    \n",
        "  counter=0\n",
        "  counter2=0\n",
        "  counter3=0\n",
        "  yout2 = yout2. astype(int)\n",
        "  total=0\n",
        "  for i in range (prediction.shape[0]):\n",
        "\n",
        "    if prediction[i]%1>=0.5:\n",
        "      prediction[i]=int(prediction[i])+1\n",
        "    else :\n",
        "      prediction[i]=int(prediction[i])\n",
        "\n",
        "\n",
        "  for i in range (prediction.shape[0]):\n",
        "    diff=prediction[i] - yout2[i]\n",
        "    if diff==0:\n",
        "      print(\"Predicted Age : \",prediction[i] ,\" Real Age : \",yout2[i],\"        Hit\")\n",
        "    elif  diff<=5 and diff>=-5:    \n",
        "      print(\"Predicted Age : \",prediction[i] ,\" Real Age : \",yout2[i],\"        Very Close\")\n",
        "    elif  diff<=10 and diff>=-10:    \n",
        "      print(\"Predicted Age : \",prediction[i] ,\" Real Age : \",yout2[i],\"        Close\")\n",
        "    elif  diff<=20 and diff>=-20:    \n",
        "      print(\"Predicted Age : \",prediction[i] ,\" Real Age : \",yout2[i],\"        Not Bad\")\n",
        "    elif  diff<=30 and diff>=-30:    \n",
        "      print(\"Predicted Age : \",prediction[i] ,\" Real Age : \",yout2[i],\"        Far\")\n",
        "    elif  diff<=40 and diff>=-40:    \n",
        "      print(\"Predicted Age : \",prediction[i] ,\" Real Age : \",yout2[i],\"        Very Far\")\n",
        "    elif  diff>=41 or diff<=-41:    \n",
        "      print(\"Predicted Age : \",prediction[i] ,\" Real Age : \",yout2[i],\"        Terrible\")                   \n",
        "\n"
      ],
      "metadata": {
        "id": "gpuf-f4qXlB6"
      },
      "execution_count": null,
      "outputs": []
    },
    {
      "cell_type": "code",
      "source": [
        ""
      ],
      "metadata": {
        "id": "tXyzeC1R7SYa"
      },
      "execution_count": null,
      "outputs": []
    },
    {
      "cell_type": "code",
      "source": [
        "\n"
      ],
      "metadata": {
        "id": "l6_Bdv-fZR8j"
      },
      "execution_count": null,
      "outputs": []
    },
    {
      "cell_type": "code",
      "source": [
        "def ageGC():\n",
        "  \n",
        "    import tensorflow as tf                                                             #BEST FOR AGE\n",
        "    from tensorflow import keras\n",
        "    new_model = tf.keras.models.load_model('/content/drive/MyDrive/Grad2Models/yasGC')\n",
        "    prediction=new_model.predict(X_test2[:50,201:525])\n",
        "\n",
        "\n",
        "        \n",
        "    yout2=y_test2.to_numpy()    \n",
        "    counter=0\n",
        "    counter2=0\n",
        "    counter3=0\n",
        "    yout2 = yout2. astype(int)\n",
        "    total=0\n",
        "    for i in range (prediction.shape[0]):\n",
        "      \n",
        "      if prediction[i]%1>=0.5:\n",
        "        prediction[i]=int(prediction[i])+1\n",
        "      else :\n",
        "        prediction[i]=int(prediction[i])\n",
        "\n",
        "\n",
        "    for i in range (prediction.shape[0]):\n",
        "      diff=prediction[i] - yout2[i]\n",
        "      if diff==0:\n",
        "        print(\"Predicted Age : \",prediction[i] ,\" Real Age : \",yout2[i],\"        Hit\")\n",
        "      elif  diff<=5 and diff>=-5:    \n",
        "        print(\"Predicted Age : \",prediction[i] ,\" Real Age : \",yout2[i],\"        Very Close\")\n",
        "      elif  diff<=10 and diff>=-10:    \n",
        "        print(\"Predicted Age : \",prediction[i] ,\" Real Age : \",yout2[i],\"        Close\")\n",
        "      elif  diff<=20 and diff>=-20:    \n",
        "        print(\"Predicted Age : \",prediction[i] ,\" Real Age : \",yout2[i],\"        Not Bad\")\n",
        "      elif  diff<=30 and diff>=-30:    \n",
        "        print(\"Predicted Age : \",prediction[i] ,\" Real Age : \",yout2[i],\"        Far\")\n",
        "      elif  diff<=40 and diff>=-40:    \n",
        "        print(\"Predicted Age : \",prediction[i] ,\" Real Age : \",yout2[i],\"        Very Far\")\n",
        "      elif  diff>=41 or diff<=-41:    \n",
        "        print(\"Predicted Age : \",prediction[i] ,\" Real Age : \",yout2[i],\"        Terrible\") "
      ],
      "metadata": {
        "id": "M_GM6E93ZSKb"
      },
      "execution_count": null,
      "outputs": []
    },
    {
      "cell_type": "code",
      "source": [
        ""
      ],
      "metadata": {
        "id": "g2_uz_OKBzSO"
      },
      "execution_count": null,
      "outputs": []
    },
    {
      "cell_type": "code",
      "source": [
        ""
      ],
      "metadata": {
        "id": "epp5M_fGBzPa"
      },
      "execution_count": null,
      "outputs": []
    },
    {
      "cell_type": "code",
      "source": [
        ""
      ],
      "metadata": {
        "id": "G1zvzI3dBzMy"
      },
      "execution_count": null,
      "outputs": []
    },
    {
      "cell_type": "code",
      "source": [
        ""
      ],
      "metadata": {
        "id": "A8MMJXUmBzKa"
      },
      "execution_count": null,
      "outputs": []
    },
    {
      "cell_type": "code",
      "source": [
        ""
      ],
      "metadata": {
        "id": "A4ZMtb22BzH0"
      },
      "execution_count": null,
      "outputs": []
    },
    {
      "cell_type": "code",
      "source": [
        ""
      ],
      "metadata": {
        "id": "LAwp9GooBzAl"
      },
      "execution_count": null,
      "outputs": []
    },
    {
      "cell_type": "code",
      "source": [
        ""
      ],
      "metadata": {
        "id": "2AoN6-XbBy4X"
      },
      "execution_count": null,
      "outputs": []
    },
    {
      "cell_type": "code",
      "source": [
        ""
      ],
      "metadata": {
        "id": "3JsCdyexByv7"
      },
      "execution_count": null,
      "outputs": []
    },
    {
      "cell_type": "code",
      "source": [
        "ageGC()"
      ],
      "metadata": {
        "colab": {
          "base_uri": "https://localhost:8080/"
        },
        "id": "LRgIMTPP7heN",
        "outputId": "a06f6b47-4d92-4d8d-e756-a6d46e1945f4"
      },
      "execution_count": null,
      "outputs": [
        {
          "output_type": "stream",
          "name": "stdout",
          "text": [
            "Predicted Age :  [26.]  Real Age :  [23]         Very Close\n",
            "Predicted Age :  [60.]  Real Age :  [48]         Not Bad\n",
            "Predicted Age :  [42.]  Real Age :  [66]         Far\n",
            "Predicted Age :  [42.]  Real Age :  [24]         Not Bad\n",
            "Predicted Age :  [44.]  Real Age :  [24]         Not Bad\n",
            "Predicted Age :  [46.]  Real Age :  [31]         Not Bad\n",
            "Predicted Age :  [51.]  Real Age :  [61]         Close\n",
            "Predicted Age :  [35.]  Real Age :  [54]         Not Bad\n",
            "Predicted Age :  [48.]  Real Age :  [45]         Very Close\n",
            "Predicted Age :  [26.]  Real Age :  [50]         Far\n",
            "Predicted Age :  [32.]  Real Age :  [34]         Very Close\n",
            "Predicted Age :  [39.]  Real Age :  [22]         Not Bad\n",
            "Predicted Age :  [35.]  Real Age :  [36]         Very Close\n",
            "Predicted Age :  [65.]  Real Age :  [70]         Very Close\n",
            "Predicted Age :  [36.]  Real Age :  [65]         Far\n",
            "Predicted Age :  [78.]  Real Age :  [26]         Terrible\n",
            "Predicted Age :  [31.]  Real Age :  [29]         Very Close\n",
            "Predicted Age :  [25.]  Real Age :  [24]         Very Close\n",
            "Predicted Age :  [52.]  Real Age :  [56]         Very Close\n",
            "Predicted Age :  [51.]  Real Age :  [67]         Not Bad\n",
            "Predicted Age :  [82.]  Real Age :  [49]         Very Far\n",
            "Predicted Age :  [36.]  Real Age :  [32]         Very Close\n",
            "Predicted Age :  [25.]  Real Age :  [36]         Not Bad\n",
            "Predicted Age :  [43.]  Real Age :  [42]         Very Close\n",
            "Predicted Age :  [27.]  Real Age :  [24]         Very Close\n",
            "Predicted Age :  [38.]  Real Age :  [70]         Very Far\n",
            "Predicted Age :  [35.]  Real Age :  [51]         Not Bad\n",
            "Predicted Age :  [53.]  Real Age :  [72]         Not Bad\n",
            "Predicted Age :  [47.]  Real Age :  [67]         Not Bad\n",
            "Predicted Age :  [61.]  Real Age :  [68]         Close\n",
            "Predicted Age :  [38.]  Real Age :  [35]         Very Close\n",
            "Predicted Age :  [36.]  Real Age :  [44]         Close\n",
            "Predicted Age :  [49.]  Real Age :  [55]         Close\n",
            "Predicted Age :  [60.]  Real Age :  [55]         Very Close\n",
            "Predicted Age :  [44.]  Real Age :  [42]         Very Close\n",
            "Predicted Age :  [29.]  Real Age :  [39]         Close\n",
            "Predicted Age :  [72.]  Real Age :  [40]         Very Far\n",
            "Predicted Age :  [74.]  Real Age :  [62]         Not Bad\n",
            "Predicted Age :  [37.]  Real Age :  [41]         Very Close\n",
            "Predicted Age :  [38.]  Real Age :  [46]         Close\n",
            "Predicted Age :  [42.]  Real Age :  [64]         Far\n",
            "Predicted Age :  [66.]  Real Age :  [65]         Very Close\n",
            "Predicted Age :  [34.]  Real Age :  [58]         Far\n",
            "Predicted Age :  [47.]  Real Age :  [24]         Far\n",
            "Predicted Age :  [31.]  Real Age :  [55]         Far\n",
            "Predicted Age :  [49.]  Real Age :  [47]         Very Close\n",
            "Predicted Age :  [26.]  Real Age :  [79]         Terrible\n",
            "Predicted Age :  [37.]  Real Age :  [66]         Far\n",
            "Predicted Age :  [47.]  Real Age :  [31]         Not Bad\n",
            "Predicted Age :  [73.]  Real Age :  [30]         Terrible\n"
          ]
        }
      ]
    },
    {
      "cell_type": "code",
      "source": [
        "yasNmrGc()"
      ],
      "metadata": {
        "colab": {
          "base_uri": "https://localhost:8080/"
        },
        "id": "QEjO2O0u9h2x",
        "outputId": "c2c6f30a-973c-42ca-beaa-e409e6c129b3"
      },
      "execution_count": null,
      "outputs": [
        {
          "output_type": "stream",
          "name": "stdout",
          "text": [
            "Predicted Age :  [10.]  Real Age :  [23]         Not Bad\n",
            "Predicted Age :  [41.]  Real Age :  [48]         Close\n",
            "Predicted Age :  [40.]  Real Age :  [66]         Far\n",
            "Predicted Age :  [6.]  Real Age :  [24]         Not Bad\n",
            "Predicted Age :  [19.]  Real Age :  [24]         Very Close\n",
            "Predicted Age :  [30.]  Real Age :  [31]         Very Close\n",
            "Predicted Age :  [49.]  Real Age :  [61]         Not Bad\n",
            "Predicted Age :  [34.]  Real Age :  [54]         Not Bad\n",
            "Predicted Age :  [22.]  Real Age :  [45]         Far\n",
            "Predicted Age :  [32.]  Real Age :  [50]         Not Bad\n",
            "Predicted Age :  [21.]  Real Age :  [34]         Not Bad\n",
            "Predicted Age :  [28.]  Real Age :  [22]         Close\n",
            "Predicted Age :  [27.]  Real Age :  [36]         Close\n",
            "Predicted Age :  [68.]  Real Age :  [70]         Very Close\n",
            "Predicted Age :  [24.]  Real Age :  [65]         Terrible\n",
            "Predicted Age :  [40.]  Real Age :  [26]         Not Bad\n",
            "Predicted Age :  [23.]  Real Age :  [29]         Close\n",
            "Predicted Age :  [5.]  Real Age :  [24]         Not Bad\n",
            "Predicted Age :  [37.]  Real Age :  [56]         Not Bad\n",
            "Predicted Age :  [38.]  Real Age :  [67]         Far\n",
            "Predicted Age :  [38.]  Real Age :  [49]         Not Bad\n",
            "Predicted Age :  [23.]  Real Age :  [32]         Close\n",
            "Predicted Age :  [25.]  Real Age :  [36]         Not Bad\n",
            "Predicted Age :  [27.]  Real Age :  [42]         Not Bad\n",
            "Predicted Age :  [16.]  Real Age :  [24]         Close\n",
            "Predicted Age :  [30.]  Real Age :  [70]         Very Far\n",
            "Predicted Age :  [32.]  Real Age :  [51]         Not Bad\n",
            "Predicted Age :  [56.]  Real Age :  [72]         Not Bad\n",
            "Predicted Age :  [28.]  Real Age :  [67]         Very Far\n",
            "Predicted Age :  [43.]  Real Age :  [68]         Far\n",
            "Predicted Age :  [13.]  Real Age :  [35]         Far\n",
            "Predicted Age :  [29.]  Real Age :  [44]         Not Bad\n",
            "Predicted Age :  [36.]  Real Age :  [55]         Not Bad\n",
            "Predicted Age :  [21.]  Real Age :  [55]         Very Far\n",
            "Predicted Age :  [42.]  Real Age :  [42]         Hit\n",
            "Predicted Age :  [16.]  Real Age :  [39]         Far\n",
            "Predicted Age :  [38.]  Real Age :  [40]         Very Close\n",
            "Predicted Age :  [46.]  Real Age :  [62]         Not Bad\n",
            "Predicted Age :  [26.]  Real Age :  [41]         Not Bad\n",
            "Predicted Age :  [33.]  Real Age :  [46]         Not Bad\n",
            "Predicted Age :  [36.]  Real Age :  [64]         Far\n",
            "Predicted Age :  [73.]  Real Age :  [65]         Close\n",
            "Predicted Age :  [23.]  Real Age :  [58]         Very Far\n",
            "Predicted Age :  [28.]  Real Age :  [24]         Very Close\n",
            "Predicted Age :  [17.]  Real Age :  [55]         Very Far\n",
            "Predicted Age :  [37.]  Real Age :  [47]         Close\n",
            "Predicted Age :  [24.]  Real Age :  [79]         Terrible\n",
            "Predicted Age :  [46.]  Real Age :  [66]         Not Bad\n",
            "Predicted Age :  [35.]  Real Age :  [31]         Very Close\n",
            "Predicted Age :  [56.]  Real Age :  [30]         Far\n"
          ]
        }
      ]
    },
    {
      "cell_type": "code",
      "source": [
        "cbgender()"
      ],
      "metadata": {
        "colab": {
          "base_uri": "https://localhost:8080/"
        },
        "id": "lJB7rWJ89qMe",
        "outputId": "169015fa-9372-4ede-b956-0bc78e94c898"
      },
      "execution_count": null,
      "outputs": [
        {
          "output_type": "stream",
          "name": "stdout",
          "text": [
            "Predicted Gender :  male    Real Gender :  male            CORRECT\n",
            "Predicted Gender :  female  Real Gender :  male            WRONG\n",
            "Predicted Gender :  female  Real Gender :  female          CORRECT\n",
            "Predicted Gender :  male    Real Gender :  male            CORRECT\n",
            "Predicted Gender :  male    Real Gender :  male            CORRECT\n",
            "Predicted Gender :  male    Real Gender :  female          WRONG\n",
            "Predicted Gender :  female  Real Gender :  male            WRONG\n",
            "Predicted Gender :  male    Real Gender :  female          WRONG\n",
            "Predicted Gender :  male    Real Gender :  male            CORRECT\n",
            "Predicted Gender :  male    Real Gender :  male            CORRECT\n",
            "Predicted Gender :  female  Real Gender :  male            WRONG\n",
            "Predicted Gender :  female  Real Gender :  female          CORRECT\n",
            "Predicted Gender :  male    Real Gender :  female          WRONG\n",
            "Predicted Gender :  female  Real Gender :  female          CORRECT\n",
            "Predicted Gender :  male    Real Gender :  male            CORRECT\n",
            "Predicted Gender :  male    Real Gender :  male            CORRECT\n",
            "Predicted Gender :  male    Real Gender :  male            CORRECT\n",
            "Predicted Gender :  male    Real Gender :  male            CORRECT\n",
            "Predicted Gender :  female  Real Gender :  female          CORRECT\n",
            "Predicted Gender :  female  Real Gender :  female          CORRECT\n",
            "Predicted Gender :  female  Real Gender :  female          CORRECT\n",
            "Predicted Gender :  male    Real Gender :  male            CORRECT\n",
            "Predicted Gender :  male    Real Gender :  male            CORRECT\n",
            "Predicted Gender :  female  Real Gender :  male            WRONG\n",
            "Predicted Gender :  female  Real Gender :  male            WRONG\n"
          ]
        }
      ]
    },
    {
      "cell_type": "code",
      "source": [
        "nmrgcgender()"
      ],
      "metadata": {
        "colab": {
          "base_uri": "https://localhost:8080/"
        },
        "id": "TE39hVMx9ywv",
        "outputId": "2c938bd6-2a20-488d-f7dd-a9592acfcdc4"
      },
      "execution_count": null,
      "outputs": [
        {
          "output_type": "stream",
          "name": "stdout",
          "text": [
            "Predicted Gender :  male    Real Gender :  male            CORRECT\n",
            "Predicted Gender :  male    Real Gender :  male            CORRECT\n",
            "Predicted Gender :  female  Real Gender :  female          CORRECT\n",
            "Predicted Gender :  male    Real Gender :  male            CORRECT\n",
            "Predicted Gender :  male    Real Gender :  male            CORRECT\n",
            "Predicted Gender :  female  Real Gender :  female          CORRECT\n",
            "Predicted Gender :  female  Real Gender :  male            WRONG\n",
            "Predicted Gender :  female  Real Gender :  female          CORRECT\n",
            "Predicted Gender :  male    Real Gender :  male            CORRECT\n",
            "Predicted Gender :  female  Real Gender :  male            WRONG\n",
            "Predicted Gender :  male    Real Gender :  male            CORRECT\n",
            "Predicted Gender :  female  Real Gender :  female          CORRECT\n",
            "Predicted Gender :  female  Real Gender :  female          CORRECT\n",
            "Predicted Gender :  female  Real Gender :  female          CORRECT\n",
            "Predicted Gender :  male    Real Gender :  male            CORRECT\n",
            "Predicted Gender :  male    Real Gender :  male            CORRECT\n",
            "Predicted Gender :  male    Real Gender :  male            CORRECT\n",
            "Predicted Gender :  male    Real Gender :  male            CORRECT\n",
            "Predicted Gender :  male    Real Gender :  female          WRONG\n",
            "Predicted Gender :  female  Real Gender :  female          CORRECT\n",
            "Predicted Gender :  female  Real Gender :  female          CORRECT\n",
            "Predicted Gender :  male    Real Gender :  male            CORRECT\n",
            "Predicted Gender :  male    Real Gender :  male            CORRECT\n",
            "Predicted Gender :  male    Real Gender :  male            CORRECT\n",
            "Predicted Gender :  male    Real Gender :  male            CORRECT\n"
          ]
        }
      ]
    },
    {
      "cell_type": "code",
      "source": [
        ""
      ],
      "metadata": {
        "id": "WC-pHUrq_3Dc"
      },
      "execution_count": null,
      "outputs": []
    }
  ]
}