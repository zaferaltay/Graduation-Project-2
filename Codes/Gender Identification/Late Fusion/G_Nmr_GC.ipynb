{
  "nbformat": 4,
  "nbformat_minor": 0,
  "metadata": {
    "colab": {
      "name": "G-Nmr-GC.ipynb",
      "provenance": []
    },
    "kernelspec": {
      "name": "python3",
      "display_name": "Python 3"
    },
    "language_info": {
      "name": "python"
    }
  },
  "cells": [
    {
      "cell_type": "code",
      "execution_count": null,
      "metadata": {
        "id": "VEu2n21Hb4kI"
      },
      "outputs": [],
      "source": [
        "import pandas as pd\n",
        "import numpy as np"
      ]
    },
    {
      "cell_type": "code",
      "source": [
        "urineDS=pd.read_csv(\"/content/drive/MyDrive/Grad2/lastUrine.csv\")\n",
        "urineDS=urineDS.iloc[:,1:]\n",
        "\n",
        "from sklearn.preprocessing import StandardScaler\n",
        "\n",
        "\n",
        "urineOutput=urineDS.iloc[2:,0:1]\n",
        "urineInput=urineDS.iloc[2:,4:]\n",
        "\n",
        "data = urineInput\n",
        "scaler = StandardScaler()\n",
        "scaler.fit(data)\n",
        "urineInput=scaler.transform(data)"
      ],
      "metadata": {
        "id": "uo7efEi3b8pD"
      },
      "execution_count": null,
      "outputs": []
    },
    {
      "cell_type": "code",
      "source": [
        "import numpy as np\n",
        "from sklearn.model_selection import train_test_split\n",
        "X_train, X_test, y_train, y_test = train_test_split(urineInput, urineOutput, test_size=0.33, random_state=0)"
      ],
      "metadata": {
        "id": "dtMyBa_sb_uT"
      },
      "execution_count": null,
      "outputs": []
    },
    {
      "cell_type": "code",
      "source": [
        "X_train=X_train.astype(np.float64)\n",
        "X_test=X_test.astype(np.float64)\n",
        "y_train=y_train.astype(np.float64)-1\n",
        "y_test=y_test.astype(np.float64)-1\n",
        "\n",
        "print(y_train)"
      ],
      "metadata": {
        "colab": {
          "base_uri": "https://localhost:8080/"
        },
        "id": "U3oWXQBicB9N",
        "outputId": "0f4708e5-a668-4e2b-be96-1d63cb543252"
      },
      "execution_count": null,
      "outputs": [
        {
          "output_type": "stream",
          "name": "stdout",
          "text": [
            "     Metadata\n",
            "231       1.0\n",
            "20        1.0\n",
            "169       0.0\n",
            "254       1.0\n",
            "126       0.0\n",
            "..        ...\n",
            "253       0.0\n",
            "194       0.0\n",
            "119       1.0\n",
            "49        1.0\n",
            "174       1.0\n",
            "\n",
            "[201 rows x 1 columns]\n"
          ]
        }
      ]
    },
    {
      "cell_type": "code",
      "source": [
        "from tensorflow.keras.models import Sequential\n",
        "from tensorflow.keras.layers import Conv1D, Dense, MaxPooling1D, Flatten,concatenate\n",
        "\n",
        "from tensorflow.keras.optimizers import Adam\n",
        "from keras.layers import Dropout\n",
        "import keras\n",
        "from matplotlib import pyplot as plt\n",
        "\n",
        "\n",
        "model2 = Sequential()\n",
        "model2.add(Conv1D(256, 3, activation='relu', input_shape=(324, 1)))\n",
        "model2.add(Conv1D(256, 3, activation='relu'))\n",
        "model2.add(Dropout(0.25))\n",
        "model2.add(MaxPooling1D(2))\n",
        "model2.add(Conv1D(128, 3, activation='relu'))\n",
        "model2.add(MaxPooling1D(2))\n",
        "model2.add(Dropout(0.25))\n",
        "model2.add(Conv1D(64, 3, activation='relu'))\n",
        "model2.add(MaxPooling1D(2))\n",
        "model2.add(Dropout(0.5))\n",
        "model2.add(Flatten())\n",
        "#model2.add(Dense(16, activation='relu'))\n",
        "#model2.add(Dense(1, activation='sigmoid'))\n",
        "#model2.compile(optimizer='adam', loss='binary_crossentropy', metrics=['accuracy'])\n",
        "x2=model2.output\n",
        "\n",
        "model3 = Sequential()\n",
        "model3.add(Conv1D(256, 3, activation='relu', input_shape=(197, 1)))\n",
        "model3.add(Conv1D(256, 3, activation='relu'))\n",
        "model3.add(Dropout(0.25))\n",
        "model3.add(MaxPooling1D(2))\n",
        "model3.add(Conv1D(128, 3, activation='relu'))\n",
        "model3.add(MaxPooling1D(2))\n",
        "model3.add(Dropout(0.25))\n",
        "model3.add(Conv1D(64, 3, activation='relu'))\n",
        "model3.add(MaxPooling1D(2))\n",
        "model3.add(Dropout(0.5))\n",
        "model3.add(Flatten())\n",
        "#model3.add(Dense(16, activation='relu'))\n",
        "#model3.add(Dense(1, activation='sigmoid'))\n",
        "#model3.compile(optimizer='adam', loss='binary_crossentropy', metrics=['accuracy'])\n",
        "x3=model3.output"
      ],
      "metadata": {
        "id": "uunB0FmgcGGB"
      },
      "execution_count": null,
      "outputs": []
    },
    {
      "cell_type": "code",
      "source": [
        "import numpy as np\n",
        "import pandas as pd\n",
        "import tensorflow as tf\n",
        "import os\n",
        "import keras\n",
        "from keras.models import Sequential, Model\n",
        "from keras.layers import GlobalAveragePooling2D, Dense, Input, Dropout, concatenate\n",
        "from keras.applications.vgg16 import VGG16\n",
        "from sklearn.model_selection import train_test_split\n",
        "\n",
        "from math import ceil\n",
        "import datetime"
      ],
      "metadata": {
        "id": "10BoqdhlcT3P"
      },
      "execution_count": null,
      "outputs": []
    },
    {
      "cell_type": "code",
      "source": [
        "x = concatenate([x3, x2])\n",
        "#x = Sequential()(x)\n",
        "x = Dense(16, activation='relu')(x) \n",
        "x = Dropout(0.2)(x)\n",
        "predictions = Dense(1, activation='sigmoid')(x)\n",
        "\n",
        "\n",
        "model4 = Model(inputs=[model3.input, model2.input], outputs=predictions) # Inputs go into 3 different layers\n",
        "model4.compile(optimizer='adam', loss='binary_crossentropy', metrics=['accuracy'])"
      ],
      "metadata": {
        "id": "u3Im0IQdcXil"
      },
      "execution_count": null,
      "outputs": []
    },
    {
      "cell_type": "code",
      "source": [
        "history =model4.fit((X_train[:,:197],X_train[:,197:521]),y_train, batch_size=32, epochs=12, validation_split=0.1)\n",
        "plt.plot(history.history['accuracy'])\n",
        "plt.plot(history.history['val_accuracy'])\n",
        "plt.title('model accuracy')\n",
        "plt.ylabel('accuracy')\n",
        "plt.xlabel('epoch')\n",
        "plt.legend(['train', 'val'], loc='upper left')\n",
        "plt.show()\n",
        "\n",
        "\n",
        "plt.plot(history.history['loss'])\n",
        "plt.plot(history.history['val_loss'])\n",
        "plt.title('model loss')\n",
        "plt.ylabel('loss')\n",
        "plt.xlabel('epoch')\n",
        "plt.legend(['train', 'val'], loc='upper left')\n",
        "plt.show()"
      ],
      "metadata": {
        "colab": {
          "base_uri": "https://localhost:8080/",
          "height": 989
        },
        "id": "DPJGkBtYcfE5",
        "outputId": "9d7598d1-c49d-4d2c-e838-955f33114d2a"
      },
      "execution_count": null,
      "outputs": [
        {
          "output_type": "stream",
          "name": "stdout",
          "text": [
            "Epoch 1/12\n",
            "6/6 [==============================] - 6s 917ms/step - loss: 0.0589 - accuracy: 0.9722 - val_loss: 0.1984 - val_accuracy: 0.9048\n",
            "Epoch 2/12\n",
            "6/6 [==============================] - 5s 747ms/step - loss: 0.0498 - accuracy: 0.9722 - val_loss: 0.2017 - val_accuracy: 0.8571\n",
            "Epoch 3/12\n",
            "6/6 [==============================] - 4s 590ms/step - loss: 0.0318 - accuracy: 0.9944 - val_loss: 0.2452 - val_accuracy: 0.8571\n",
            "Epoch 4/12\n",
            "6/6 [==============================] - 4s 594ms/step - loss: 0.0396 - accuracy: 0.9833 - val_loss: 0.1672 - val_accuracy: 0.9524\n",
            "Epoch 5/12\n",
            "6/6 [==============================] - 4s 595ms/step - loss: 0.0288 - accuracy: 0.9889 - val_loss: 0.2520 - val_accuracy: 0.8571\n",
            "Epoch 6/12\n",
            "6/6 [==============================] - 4s 591ms/step - loss: 0.0508 - accuracy: 0.9944 - val_loss: 0.3825 - val_accuracy: 0.8095\n",
            "Epoch 7/12\n",
            "6/6 [==============================] - 4s 596ms/step - loss: 0.0672 - accuracy: 0.9778 - val_loss: 0.2047 - val_accuracy: 0.9048\n",
            "Epoch 8/12\n",
            "6/6 [==============================] - 4s 600ms/step - loss: 0.0386 - accuracy: 0.9833 - val_loss: 0.2196 - val_accuracy: 0.9048\n",
            "Epoch 9/12\n",
            "6/6 [==============================] - 4s 593ms/step - loss: 0.0587 - accuracy: 0.9722 - val_loss: 0.2254 - val_accuracy: 0.9048\n",
            "Epoch 10/12\n",
            "6/6 [==============================] - 4s 591ms/step - loss: 0.0350 - accuracy: 0.9944 - val_loss: 0.2759 - val_accuracy: 0.9048\n",
            "Epoch 11/12\n",
            "6/6 [==============================] - 4s 594ms/step - loss: 0.0214 - accuracy: 0.9889 - val_loss: 0.2531 - val_accuracy: 0.9048\n",
            "Epoch 12/12\n",
            "6/6 [==============================] - 4s 589ms/step - loss: 0.0418 - accuracy: 0.9833 - val_loss: 0.2273 - val_accuracy: 0.8571\n"
          ]
        },
        {
          "output_type": "display_data",
          "data": {
            "text/plain": [
              "<Figure size 432x288 with 1 Axes>"
            ],
            "image/png": "[encoded data removed]"
          },
          "metadata": {
            "needs_background": "light"
          }
        },
        {
          "output_type": "display_data",
          "data": {
            "text/plain": [
              "<Figure size 432x288 with 1 Axes>"
            ],
            "image/png": "[encoded data removed]"
          },
          "metadata": {
            "needs_background": "light"
          }
        }
      ]
    },
    {
      "cell_type": "code",
      "source": [
        "import os\n",
        "\n",
        "import tensorflow as tf\n",
        "from tensorflow import keras\n",
        "\n",
        "print(tf.version.VERSION)\n",
        "model4.save('/content/drive/MyDrive/Grad2Models/cinsiyetNMRGC')"
      ],
      "metadata": {
        "colab": {
          "base_uri": "https://localhost:8080/"
        },
        "id": "3r-1Ar2AeG_Q",
        "outputId": "07d0731e-c26c-44bc-a666-67ff80093023"
      },
      "execution_count": null,
      "outputs": [
        {
          "output_type": "stream",
          "name": "stdout",
          "text": [
            "2.8.2\n",
            "INFO:tensorflow:Assets written to: /content/drive/MyDrive/Grad2Models/cinsiyetNMRGC/assets\n"
          ]
        }
      ]
    },
    {
      "cell_type": "code",
      "source": [
        "import os\n",
        "\n",
        "import tensorflow as tf\n",
        "from tensorflow import keras\n",
        "new_model = tf.keras.models.load_model('/content/drive/MyDrive/Grad2Models/cinsiyetNMRGC', compile=False)\n",
        "\n",
        "# Check its architecture\n",
        "new_model.summary()"
      ],
      "metadata": {
        "colab": {
          "base_uri": "https://localhost:8080/"
        },
        "id": "NKmdPMSxfXYc",
        "outputId": "3d30ab32-8373-4824-c99e-4fdf505c8583"
      },
      "execution_count": null,
      "outputs": [
        {
          "output_type": "stream",
          "name": "stdout",
          "text": [
            "Model: \"model_1\"\n",
            "__________________________________________________________________________________________________\n",
            " Layer (type)                   Output Shape         Param #     Connected to                     \n",
            "==================================================================================================\n",
            " conv1d_16_input (InputLayer)   [(None, 197, 1)]     0           []                               \n",
            "                                                                                                  \n",
            " conv1d_12_input (InputLayer)   [(None, 324, 1)]     0           []                               \n",
            "                                                                                                  \n",
            " conv1d_16 (Conv1D)             (None, 195, 256)     1024        ['conv1d_16_input[0][0]']        \n",
            "                                                                                                  \n",
            " conv1d_12 (Conv1D)             (None, 322, 256)     1024        ['conv1d_12_input[0][0]']        \n",
            "                                                                                                  \n",
            " conv1d_17 (Conv1D)             (None, 193, 256)     196864      ['conv1d_16[0][0]']              \n",
            "                                                                                                  \n",
            " conv1d_13 (Conv1D)             (None, 320, 256)     196864      ['conv1d_12[0][0]']              \n",
            "                                                                                                  \n",
            " dropout_12 (Dropout)           (None, 193, 256)     0           ['conv1d_17[0][0]']              \n",
            "                                                                                                  \n",
            " dropout_9 (Dropout)            (None, 320, 256)     0           ['conv1d_13[0][0]']              \n",
            "                                                                                                  \n",
            " max_pooling1d_12 (MaxPooling1D  (None, 96, 256)     0           ['dropout_12[0][0]']             \n",
            " )                                                                                                \n",
            "                                                                                                  \n",
            " max_pooling1d_9 (MaxPooling1D)  (None, 160, 256)    0           ['dropout_9[0][0]']              \n",
            "                                                                                                  \n",
            " conv1d_18 (Conv1D)             (None, 94, 128)      98432       ['max_pooling1d_12[0][0]']       \n",
            "                                                                                                  \n",
            " conv1d_14 (Conv1D)             (None, 158, 128)     98432       ['max_pooling1d_9[0][0]']        \n",
            "                                                                                                  \n",
            " max_pooling1d_13 (MaxPooling1D  (None, 47, 128)     0           ['conv1d_18[0][0]']              \n",
            " )                                                                                                \n",
            "                                                                                                  \n",
            " max_pooling1d_10 (MaxPooling1D  (None, 79, 128)     0           ['conv1d_14[0][0]']              \n",
            " )                                                                                                \n",
            "                                                                                                  \n",
            " dropout_13 (Dropout)           (None, 47, 128)      0           ['max_pooling1d_13[0][0]']       \n",
            "                                                                                                  \n",
            " dropout_10 (Dropout)           (None, 79, 128)      0           ['max_pooling1d_10[0][0]']       \n",
            "                                                                                                  \n",
            " conv1d_19 (Conv1D)             (None, 45, 64)       24640       ['dropout_13[0][0]']             \n",
            "                                                                                                  \n",
            " conv1d_15 (Conv1D)             (None, 77, 64)       24640       ['dropout_10[0][0]']             \n",
            "                                                                                                  \n",
            " max_pooling1d_14 (MaxPooling1D  (None, 22, 64)      0           ['conv1d_19[0][0]']              \n",
            " )                                                                                                \n",
            "                                                                                                  \n",
            " max_pooling1d_11 (MaxPooling1D  (None, 38, 64)      0           ['conv1d_15[0][0]']              \n",
            " )                                                                                                \n",
            "                                                                                                  \n",
            " dropout_14 (Dropout)           (None, 22, 64)       0           ['max_pooling1d_14[0][0]']       \n",
            "                                                                                                  \n",
            " dropout_11 (Dropout)           (None, 38, 64)       0           ['max_pooling1d_11[0][0]']       \n",
            "                                                                                                  \n",
            " flatten_4 (Flatten)            (None, 1408)         0           ['dropout_14[0][0]']             \n",
            "                                                                                                  \n",
            " flatten_3 (Flatten)            (None, 2432)         0           ['dropout_11[0][0]']             \n",
            "                                                                                                  \n",
            " concatenate_1 (Concatenate)    (None, 3840)         0           ['flatten_4[0][0]',              \n",
            "                                                                  'flatten_3[0][0]']              \n",
            "                                                                                                  \n",
            " dense_2 (Dense)                (None, 16)           61456       ['concatenate_1[0][0]']          \n",
            "                                                                                                  \n",
            " dropout_16 (Dropout)           (None, 16)           0           ['dense_2[0][0]']                \n",
            "                                                                                                  \n",
            " dense_3 (Dense)                (None, 1)            17          ['dropout_16[0][0]']             \n",
            "                                                                                                  \n",
            "==================================================================================================\n",
            "Total params: 703,393\n",
            "Trainable params: 703,393\n",
            "Non-trainable params: 0\n",
            "__________________________________________________________________________________________________\n"
          ]
        }
      ]
    },
    {
      "cell_type": "code",
      "source": [
        "prediction=new_model.predict((X_test[:,:197],X_test[:,197:521]))\n",
        "\n",
        "for i in range (prediction.shape[0]):\n",
        "  if prediction[i]< 0.5:\n",
        "    prediction[i]=0\n",
        "  else:\n",
        "    prediction[i]=1  \n",
        "    \n",
        "\n",
        "yout=y_test.to_numpy()    \n",
        "counter=0\n",
        "\n",
        "temp1=\"\"\n",
        "temp2=\"\"\n",
        "\n",
        "for i in range (prediction.shape[0]):\n",
        "  if prediction[i]==0:\n",
        "    temp1=\"male  \"\n",
        "  else:\n",
        "    temp1=\"female\"\n",
        "\n",
        "  if yout[i]==0:\n",
        "    temp2=\"male  \"\n",
        "  else:\n",
        "    temp2=\"female\"      \n",
        "  print(\"Predicted Gender : \",temp1 ,\" Real Gender : \",temp2)\n",
        "  if prediction[i] == yout[i] :\n",
        "    counter=counter+1\n",
        "\n",
        "\n",
        "print(\"Accuracy is \",counter,\"%\")"
      ],
      "metadata": {
        "colab": {
          "base_uri": "https://localhost:8080/"
        },
        "id": "w7p__IxyfhiU",
        "outputId": "5d1ae097-4353-40f1-93d9-c6ba48756795"
      },
      "execution_count": null,
      "outputs": [
        {
          "output_type": "stream",
          "name": "stdout",
          "text": [
            "Predicted Gender :  male    Real Gender :  male  \n",
            "Predicted Gender :  male    Real Gender :  male  \n",
            "Predicted Gender :  female  Real Gender :  female\n",
            "Predicted Gender :  male    Real Gender :  male  \n",
            "Predicted Gender :  male    Real Gender :  male  \n",
            "Predicted Gender :  female  Real Gender :  female\n",
            "Predicted Gender :  female  Real Gender :  male  \n",
            "Predicted Gender :  female  Real Gender :  female\n",
            "Predicted Gender :  male    Real Gender :  male  \n",
            "Predicted Gender :  female  Real Gender :  male  \n",
            "Predicted Gender :  male    Real Gender :  male  \n",
            "Predicted Gender :  female  Real Gender :  female\n",
            "Predicted Gender :  female  Real Gender :  female\n",
            "Predicted Gender :  female  Real Gender :  female\n",
            "Predicted Gender :  male    Real Gender :  male  \n",
            "Predicted Gender :  male    Real Gender :  male  \n",
            "Predicted Gender :  male    Real Gender :  male  \n",
            "Predicted Gender :  male    Real Gender :  male  \n",
            "Predicted Gender :  male    Real Gender :  female\n",
            "Predicted Gender :  female  Real Gender :  female\n",
            "Predicted Gender :  female  Real Gender :  female\n",
            "Predicted Gender :  male    Real Gender :  male  \n",
            "Predicted Gender :  male    Real Gender :  male  \n",
            "Predicted Gender :  male    Real Gender :  male  \n",
            "Predicted Gender :  male    Real Gender :  male  \n",
            "Predicted Gender :  male    Real Gender :  male  \n",
            "Predicted Gender :  female  Real Gender :  female\n",
            "Predicted Gender :  female  Real Gender :  female\n",
            "Predicted Gender :  male    Real Gender :  male  \n",
            "Predicted Gender :  female  Real Gender :  female\n",
            "Predicted Gender :  male    Real Gender :  male  \n",
            "Predicted Gender :  male    Real Gender :  male  \n",
            "Predicted Gender :  male    Real Gender :  female\n",
            "Predicted Gender :  male    Real Gender :  male  \n",
            "Predicted Gender :  female  Real Gender :  female\n",
            "Predicted Gender :  male    Real Gender :  male  \n",
            "Predicted Gender :  male    Real Gender :  female\n",
            "Predicted Gender :  male    Real Gender :  female\n",
            "Predicted Gender :  male    Real Gender :  male  \n",
            "Predicted Gender :  male    Real Gender :  male  \n",
            "Predicted Gender :  male    Real Gender :  male  \n",
            "Predicted Gender :  male    Real Gender :  male  \n",
            "Predicted Gender :  male    Real Gender :  male  \n",
            "Predicted Gender :  male    Real Gender :  male  \n",
            "Predicted Gender :  female  Real Gender :  male  \n",
            "Predicted Gender :  male    Real Gender :  male  \n",
            "Predicted Gender :  female  Real Gender :  male  \n",
            "Predicted Gender :  female  Real Gender :  female\n",
            "Predicted Gender :  male    Real Gender :  female\n",
            "Predicted Gender :  male    Real Gender :  male  \n",
            "Predicted Gender :  female  Real Gender :  female\n",
            "Predicted Gender :  male    Real Gender :  male  \n",
            "Predicted Gender :  female  Real Gender :  female\n",
            "Predicted Gender :  female  Real Gender :  female\n",
            "Predicted Gender :  female  Real Gender :  female\n",
            "Predicted Gender :  female  Real Gender :  female\n",
            "Predicted Gender :  male    Real Gender :  male  \n",
            "Predicted Gender :  female  Real Gender :  male  \n",
            "Predicted Gender :  male    Real Gender :  male  \n",
            "Predicted Gender :  female  Real Gender :  female\n",
            "Predicted Gender :  male    Real Gender :  female\n",
            "Predicted Gender :  female  Real Gender :  female\n",
            "Predicted Gender :  male    Real Gender :  female\n",
            "Predicted Gender :  male    Real Gender :  male  \n",
            "Predicted Gender :  female  Real Gender :  female\n",
            "Predicted Gender :  female  Real Gender :  male  \n",
            "Predicted Gender :  male    Real Gender :  male  \n",
            "Predicted Gender :  female  Real Gender :  female\n",
            "Predicted Gender :  male    Real Gender :  male  \n",
            "Predicted Gender :  male    Real Gender :  male  \n",
            "Predicted Gender :  male    Real Gender :  male  \n",
            "Predicted Gender :  female  Real Gender :  female\n",
            "Predicted Gender :  male    Real Gender :  male  \n",
            "Predicted Gender :  female  Real Gender :  female\n",
            "Predicted Gender :  female  Real Gender :  female\n",
            "Predicted Gender :  male    Real Gender :  male  \n",
            "Predicted Gender :  male    Real Gender :  male  \n",
            "Predicted Gender :  male    Real Gender :  female\n",
            "Predicted Gender :  male    Real Gender :  male  \n",
            "Predicted Gender :  male    Real Gender :  male  \n",
            "Predicted Gender :  male    Real Gender :  male  \n",
            "Predicted Gender :  male    Real Gender :  female\n",
            "Predicted Gender :  male    Real Gender :  male  \n",
            "Predicted Gender :  female  Real Gender :  female\n",
            "Predicted Gender :  male    Real Gender :  female\n",
            "Predicted Gender :  male    Real Gender :  male  \n",
            "Predicted Gender :  male    Real Gender :  male  \n",
            "Predicted Gender :  female  Real Gender :  female\n",
            "Predicted Gender :  female  Real Gender :  female\n",
            "Predicted Gender :  male    Real Gender :  male  \n",
            "Predicted Gender :  female  Real Gender :  female\n",
            "Predicted Gender :  female  Real Gender :  male  \n",
            "Predicted Gender :  female  Real Gender :  female\n",
            "Predicted Gender :  female  Real Gender :  male  \n",
            "Predicted Gender :  male    Real Gender :  female\n",
            "Predicted Gender :  male    Real Gender :  male  \n",
            "Predicted Gender :  female  Real Gender :  female\n",
            "Predicted Gender :  female  Real Gender :  female\n",
            "Predicted Gender :  male    Real Gender :  male  \n",
            "Predicted Gender :  female  Real Gender :  female\n",
            "Accuracy is  81 %\n"
          ]
        }
      ]
    },
    {
      "cell_type": "code",
      "source": [
        ""
      ],
      "metadata": {
        "id": "UbVD0kYLB7dJ"
      },
      "execution_count": null,
      "outputs": []
    },
    {
      "cell_type": "code",
      "source": [
        ""
      ],
      "metadata": {
        "id": "2yn_ob9oB7aR"
      },
      "execution_count": null,
      "outputs": []
    },
    {
      "cell_type": "code",
      "source": [
        ""
      ],
      "metadata": {
        "id": "R_jvVlRTB7Xr"
      },
      "execution_count": null,
      "outputs": []
    },
    {
      "cell_type": "code",
      "source": [
        ""
      ],
      "metadata": {
        "id": "a3dUpwduB7VF"
      },
      "execution_count": null,
      "outputs": []
    },
    {
      "cell_type": "code",
      "source": [
        ""
      ],
      "metadata": {
        "id": "7mCHKYmiB7Sd"
      },
      "execution_count": null,
      "outputs": []
    },
    {
      "cell_type": "code",
      "source": [
        ""
      ],
      "metadata": {
        "id": "Y3K97nmgB7Ki"
      },
      "execution_count": null,
      "outputs": []
    },
    {
      "cell_type": "code",
      "source": [
        ""
      ],
      "metadata": {
        "id": "b98IcmuKB7Ht"
      },
      "execution_count": null,
      "outputs": []
    },
    {
      "cell_type": "code",
      "source": [
        "from sklearn.metrics import confusion_matrix\n",
        "import seaborn as sns\n",
        "sns.set()\n",
        "cm = confusion_matrix(yout, prediction)"
      ],
      "metadata": {
        "id": "V3ixGtGzgAjt"
      },
      "execution_count": null,
      "outputs": []
    },
    {
      "cell_type": "code",
      "source": [
        "p = sns.heatmap(pd.DataFrame(cm), annot=True, cmap=\"YlGnBu\" ,fmt='g')\n",
        "plt.title('Confusion matrix', y=1.1)\n",
        "plt.ylabel('Actual label')\n",
        "plt.xlabel('Predicted label')"
      ],
      "metadata": {
        "colab": {
          "base_uri": "https://localhost:8080/",
          "height": 318
        },
        "id": "9x9e62sDgClK",
        "outputId": "872ce7b6-a97b-4325-fefd-65d74095e148"
      },
      "execution_count": null,
      "outputs": [
        {
          "output_type": "execute_result",
          "data": {
            "text/plain": [
              "Text(0.5, 12.5, 'Predicted label')"
            ]
          },
          "metadata": {},
          "execution_count": 17
        },
        {
          "output_type": "display_data",
          "data": {
            "text/plain": [
              "<Figure size 432x288 with 2 Axes>"
            ],
            "image/png": "[encoded data removed]"
          },
          "metadata": {}
        }
      ]
    },
    {
      "cell_type": "code",
      "source": [
        "from sklearn.metrics import classification_report\n",
        "print(classification_report(yout,prediction))"
      ],
      "metadata": {
        "colab": {
          "base_uri": "https://localhost:8080/"
        },
        "id": "ZuraeMblgFHi",
        "outputId": "26db873b-391a-4caa-ca17-11df9b820588"
      },
      "execution_count": null,
      "outputs": [
        {
          "output_type": "stream",
          "name": "stdout",
          "text": [
            "              precision    recall  f1-score   support\n",
            "\n",
            "         0.0       0.81      0.86      0.83        56\n",
            "         1.0       0.80      0.75      0.78        44\n",
            "\n",
            "    accuracy                           0.81       100\n",
            "   macro avg       0.81      0.80      0.81       100\n",
            "weighted avg       0.81      0.81      0.81       100\n",
            "\n"
          ]
        }
      ]
    },
    {
      "cell_type": "code",
      "source": [
        "from sklearn.metrics import roc_curve\n",
        "from sklearn.metrics import roc_auc_score\n",
        "from matplotlib import pyplot\n",
        "\n",
        "ns_probs = [0 for _ in range(len(yout))]\n",
        "\n",
        "ns_auc = roc_auc_score(yout, ns_probs)\n",
        "lr_auc = roc_auc_score(yout, prediction)\n",
        "\n",
        "ns_fpr, ns_tpr, _ = roc_curve(yout, ns_probs)\n",
        "lr_fpr, lr_tpr, _ = roc_curve(yout, prediction)\n",
        "\n",
        "pyplot.plot(ns_fpr, ns_tpr, linestyle='--', label='No Skill')\n",
        "pyplot.plot(lr_fpr, lr_tpr, marker='.', label='Logistic')\n",
        "# axis labels\n",
        "pyplot.xlabel('False Positive Rate')\n",
        "pyplot.ylabel('True Positive Rate')\n",
        "# show the legend\n",
        "pyplot.legend()\n",
        "# show the plot\n",
        "pyplot.show()"
      ],
      "metadata": {
        "id": "DBuQzJyfgHRM",
        "outputId": "b029bf11-fbd0-41c7-8ad4-2107f195dc47",
        "colab": {
          "base_uri": "https://localhost:8080/",
          "height": 285
        }
      },
      "execution_count": null,
      "outputs": [
        {
          "output_type": "display_data",
          "data": {
            "text/plain": [
              "<Figure size 432x288 with 1 Axes>"
            ],
            "image/png": "[encoded data removed]"
          },
          "metadata": {}
        }
      ]
    }
  ]
}