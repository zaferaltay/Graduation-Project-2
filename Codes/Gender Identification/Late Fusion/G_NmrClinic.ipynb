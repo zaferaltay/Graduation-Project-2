{
  "nbformat": 4,
  "nbformat_minor": 0,
  "metadata": {
    "colab": {
      "name": "G-NmrClinic.ipynb",
      "provenance": []
    },
    "kernelspec": {
      "name": "python3",
      "display_name": "Python 3"
    },
    "language_info": {
      "name": "python"
    }
  },
  "cells": [
    {
      "cell_type": "code",
      "execution_count": null,
      "metadata": {
        "id": "TH0MvyB3h561"
      },
      "outputs": [],
      "source": [
        "import pandas as pd\n",
        "import numpy as np"
      ]
    },
    {
      "cell_type": "code",
      "source": [
        "urineDS=pd.read_csv(\"/content/drive/MyDrive/Grad2/lastUrine.csv\")\n",
        "urineDS=urineDS.iloc[:,1:]\n",
        "\n",
        "from sklearn.preprocessing import StandardScaler\n",
        "\n",
        "\n",
        "urineOutput=urineDS.iloc[2:,0:1]\n",
        "urineInput=urineDS.iloc[2:,4:]\n",
        "\n",
        "data = urineInput\n",
        "scaler = StandardScaler()\n",
        "scaler.fit(data)\n",
        "urineInput=scaler.transform(data)"
      ],
      "metadata": {
        "id": "FWMXBA4UiDXw"
      },
      "execution_count": null,
      "outputs": []
    },
    {
      "cell_type": "code",
      "source": [
        "import numpy as np\n",
        "from sklearn.model_selection import train_test_split\n",
        "X_train, X_test, y_train, y_test = train_test_split(urineInput, urineOutput, test_size=0.33, random_state=0)"
      ],
      "metadata": {
        "id": "83ndq646iFQF"
      },
      "execution_count": null,
      "outputs": []
    },
    {
      "cell_type": "code",
      "source": [
        "X_train=X_train.astype(np.float64)\n",
        "X_test=X_test.astype(np.float64)\n",
        "y_train=y_train.astype(np.float64)-1\n",
        "y_test=y_test.astype(np.float64)-1\n",
        "\n",
        "print(y_train)"
      ],
      "metadata": {
        "colab": {
          "base_uri": "https://localhost:8080/"
        },
        "id": "B0-3evI6iFrz",
        "outputId": "18a50cfc-e63a-4997-a9b3-ff7fc8e9171f"
      },
      "execution_count": null,
      "outputs": [
        {
          "output_type": "stream",
          "name": "stdout",
          "text": [
            "     Metadata\n",
            "231       1.0\n",
            "20        1.0\n",
            "169       0.0\n",
            "254       1.0\n",
            "126       0.0\n",
            "..        ...\n",
            "253       0.0\n",
            "194       0.0\n",
            "119       1.0\n",
            "49        1.0\n",
            "174       1.0\n",
            "\n",
            "[201 rows x 1 columns]\n"
          ]
        }
      ]
    },
    {
      "cell_type": "code",
      "source": [
        "from tensorflow.keras.models import Sequential\n",
        "from tensorflow.keras.layers import Conv1D, Dense, MaxPooling1D, Flatten,concatenate\n",
        "\n",
        "from tensorflow.keras.optimizers import Adam\n",
        "from keras.layers import Dropout\n",
        "import keras\n",
        "from matplotlib import pyplot as plt\n",
        "\n",
        "model = Sequential()\n",
        "model.add(Conv1D(256, 3, activation='relu', input_shape=(8, 1)))\n",
        "model.add(Conv1D(256, 3, activation='relu'))\n",
        "model.add(Dropout(0.25))\n",
        "model.add(MaxPooling1D(2))\n",
        "model.add(Conv1D(128, 2, activation='relu'))\n",
        "model.add(MaxPooling1D(1))\n",
        "model.add(Dropout(0.25))\n",
        "model.add(Conv1D(64, 1, activation='relu'))\n",
        "model.add(MaxPooling1D(1))\n",
        "model.add(Dropout(0.5))\n",
        "model.add(Flatten())\n",
        "#model.add(Dense(16, activation='relu'))\n",
        "#model.add(Dense(1, activation='sigmoid'))\n",
        "#model.compile(optimizer='adam', loss='binary_crossentropy', metrics=['accuracy'])\n",
        "x1=model.output\n",
        "\n",
        "\n",
        "model3 = Sequential()\n",
        "model3.add(Conv1D(256, 3, activation='relu', input_shape=(197, 1)))\n",
        "model3.add(Conv1D(256, 3, activation='relu'))\n",
        "model3.add(Dropout(0.25))\n",
        "model3.add(MaxPooling1D(2))\n",
        "model3.add(Conv1D(128, 3, activation='relu'))\n",
        "model3.add(MaxPooling1D(2))\n",
        "model3.add(Dropout(0.25))\n",
        "model3.add(Conv1D(64, 3, activation='relu'))\n",
        "model3.add(MaxPooling1D(2))\n",
        "model3.add(Dropout(0.5))\n",
        "model3.add(Flatten())\n",
        "#model3.add(Dense(16, activation='relu'))\n",
        "#model3.add(Dense(1, activation='sigmoid'))\n",
        "#model3.compile(optimizer='adam', loss='binary_crossentropy', metrics=['accuracy'])\n",
        "x3=model3.output\n"
      ],
      "metadata": {
        "id": "bkgEs_MeiK_d"
      },
      "execution_count": null,
      "outputs": []
    },
    {
      "cell_type": "code",
      "source": [
        "import numpy as np\n",
        "import pandas as pd\n",
        "import tensorflow as tf\n",
        "import os\n",
        "import keras\n",
        "from keras.models import Sequential, Model\n",
        "from keras.layers import GlobalAveragePooling2D, Dense, Input, Dropout, concatenate\n",
        "from keras.applications.vgg16 import VGG16\n",
        "from sklearn.model_selection import train_test_split\n",
        "\n",
        "from math import ceil\n",
        "import datetime"
      ],
      "metadata": {
        "id": "onKXXBTYiP8P"
      },
      "execution_count": null,
      "outputs": []
    },
    {
      "cell_type": "code",
      "source": [
        "x = concatenate([x3,x1])\n",
        "#x = Sequential()(x)\n",
        "x = Dense(16, activation='relu')(x) \n",
        "x = Dropout(0.2)(x)\n",
        "predictions = Dense(1, activation='sigmoid')(x)\n",
        "\n",
        "\n",
        "model4 = Model(inputs=[model3.input,model.input], outputs=predictions) # Inputs go into 3 different layers\n",
        "model4.compile(optimizer='adam', loss='binary_crossentropy', metrics=['accuracy'])"
      ],
      "metadata": {
        "id": "7KBZYFR1iS1r"
      },
      "execution_count": null,
      "outputs": []
    },
    {
      "cell_type": "code",
      "source": [
        "\n",
        "history =model4.fit((X_train[:,:197],X_train[:,521:529]),y_train, batch_size=32, epochs=13, validation_split=0.1)\n",
        "plt.plot(history.history['accuracy'])\n",
        "plt.plot(history.history['val_accuracy'])\n",
        "plt.title('model accuracy')\n",
        "plt.ylabel('accuracy')\n",
        "plt.xlabel('epoch')\n",
        "plt.legend(['train', 'val'], loc='upper left')\n",
        "plt.show()\n",
        "\n",
        "\n",
        "plt.plot(history.history['loss'])\n",
        "plt.plot(history.history['val_loss'])\n",
        "plt.title('model loss')\n",
        "plt.ylabel('loss')\n",
        "plt.xlabel('epoch')\n",
        "plt.legend(['train', 'val'], loc='upper left')\n",
        "plt.show()"
      ],
      "metadata": {
        "colab": {
          "base_uri": "https://localhost:8080/",
          "height": 1000
        },
        "id": "vFFruebMiZGV",
        "outputId": "ab6ef1ad-d62f-49db-d457-1bd254274be8"
      },
      "execution_count": null,
      "outputs": [
        {
          "output_type": "stream",
          "name": "stdout",
          "text": [
            "Epoch 1/13\n",
            "6/6 [==============================] - 2s 274ms/step - loss: 0.0572 - accuracy: 0.9778 - val_loss: 0.5198 - val_accuracy: 0.7619\n",
            "Epoch 2/13\n",
            "6/6 [==============================] - 2s 268ms/step - loss: 0.0801 - accuracy: 0.9556 - val_loss: 0.5203 - val_accuracy: 0.8095\n",
            "Epoch 3/13\n",
            "6/6 [==============================] - 2s 264ms/step - loss: 0.0363 - accuracy: 0.9944 - val_loss: 0.8414 - val_accuracy: 0.7143\n",
            "Epoch 4/13\n",
            "6/6 [==============================] - 2s 266ms/step - loss: 0.0846 - accuracy: 0.9722 - val_loss: 0.6930 - val_accuracy: 0.7619\n",
            "Epoch 5/13\n",
            "6/6 [==============================] - 2s 263ms/step - loss: 0.0604 - accuracy: 0.9833 - val_loss: 0.5901 - val_accuracy: 0.7143\n",
            "Epoch 6/13\n",
            "6/6 [==============================] - 2s 265ms/step - loss: 0.1114 - accuracy: 0.9500 - val_loss: 0.6006 - val_accuracy: 0.7619\n",
            "Epoch 7/13\n",
            "6/6 [==============================] - 2s 263ms/step - loss: 0.0616 - accuracy: 0.9778 - val_loss: 0.6071 - val_accuracy: 0.7619\n",
            "Epoch 8/13\n",
            "6/6 [==============================] - 2s 259ms/step - loss: 0.1632 - accuracy: 0.9667 - val_loss: 0.5174 - val_accuracy: 0.7619\n",
            "Epoch 9/13\n",
            "6/6 [==============================] - 2s 267ms/step - loss: 0.0674 - accuracy: 0.9778 - val_loss: 0.6392 - val_accuracy: 0.7143\n",
            "Epoch 10/13\n",
            "6/6 [==============================] - 2s 259ms/step - loss: 0.0685 - accuracy: 0.9722 - val_loss: 0.6739 - val_accuracy: 0.7143\n",
            "Epoch 11/13\n",
            "6/6 [==============================] - 2s 265ms/step - loss: 0.0382 - accuracy: 0.9889 - val_loss: 0.8069 - val_accuracy: 0.7143\n",
            "Epoch 12/13\n",
            "6/6 [==============================] - 2s 264ms/step - loss: 0.0564 - accuracy: 0.9722 - val_loss: 0.7450 - val_accuracy: 0.7619\n",
            "Epoch 13/13\n",
            "6/6 [==============================] - 2s 261ms/step - loss: 0.0551 - accuracy: 0.9778 - val_loss: 0.6491 - val_accuracy: 0.7619\n"
          ]
        },
        {
          "output_type": "display_data",
          "data": {
            "text/plain": [
              "<Figure size 432x288 with 1 Axes>"
            ],
            "image/png": "[encoded data removed]"
          },
          "metadata": {
            "needs_background": "light"
          }
        },
        {
          "output_type": "display_data",
          "data": {
            "text/plain": [
              "<Figure size 432x288 with 1 Axes>"
            ],
            "image/png": "[encoded data removed]"
          },
          "metadata": {
            "needs_background": "light"
          }
        }
      ]
    },
    {
      "cell_type": "code",
      "source": [
        "import os\n",
        "\n",
        "import tensorflow as tf\n",
        "from tensorflow import keras\n",
        "\n",
        "print(tf.version.VERSION)\n",
        "model4.save('/content/drive/MyDrive/Grad2Models/cinsiyetNMRClinic')"
      ],
      "metadata": {
        "colab": {
          "base_uri": "https://localhost:8080/"
        },
        "id": "LhKn22VjjfBb",
        "outputId": "7908cd18-2f7b-47e0-b23f-03aac8d46c7a"
      },
      "execution_count": null,
      "outputs": [
        {
          "output_type": "stream",
          "name": "stdout",
          "text": [
            "2.8.2\n",
            "INFO:tensorflow:Assets written to: /content/drive/MyDrive/Grad2Models/cinsiyetNMRClinic/assets\n"
          ]
        }
      ]
    },
    {
      "cell_type": "code",
      "source": [
        "import os\n",
        "\n",
        "import tensorflow as tf\n",
        "from tensorflow import keras\n",
        "new_model = tf.keras.models.load_model('/content/drive/MyDrive/Grad2Models/cinsiyetNMRClinic', compile=False)\n",
        "\n",
        "# Check its architecture\n",
        "new_model.summary()"
      ],
      "metadata": {
        "colab": {
          "base_uri": "https://localhost:8080/"
        },
        "id": "lDAgrosijmMY",
        "outputId": "f5ece7e9-026a-482e-c077-e4659f534ff9"
      },
      "execution_count": null,
      "outputs": [
        {
          "output_type": "stream",
          "name": "stdout",
          "text": [
            "Model: \"model\"\n",
            "__________________________________________________________________________________________________\n",
            " Layer (type)                   Output Shape         Param #     Connected to                     \n",
            "==================================================================================================\n",
            " conv1d_4_input (InputLayer)    [(None, 197, 1)]     0           []                               \n",
            "                                                                                                  \n",
            " conv1d_input (InputLayer)      [(None, 8, 1)]       0           []                               \n",
            "                                                                                                  \n",
            " conv1d_4 (Conv1D)              (None, 195, 256)     1024        ['conv1d_4_input[0][0]']         \n",
            "                                                                                                  \n",
            " conv1d (Conv1D)                (None, 6, 256)       1024        ['conv1d_input[0][0]']           \n",
            "                                                                                                  \n",
            " conv1d_5 (Conv1D)              (None, 193, 256)     196864      ['conv1d_4[0][0]']               \n",
            "                                                                                                  \n",
            " conv1d_1 (Conv1D)              (None, 4, 256)       196864      ['conv1d[0][0]']                 \n",
            "                                                                                                  \n",
            " dropout_3 (Dropout)            (None, 193, 256)     0           ['conv1d_5[0][0]']               \n",
            "                                                                                                  \n",
            " dropout (Dropout)              (None, 4, 256)       0           ['conv1d_1[0][0]']               \n",
            "                                                                                                  \n",
            " max_pooling1d_3 (MaxPooling1D)  (None, 96, 256)     0           ['dropout_3[0][0]']              \n",
            "                                                                                                  \n",
            " max_pooling1d (MaxPooling1D)   (None, 2, 256)       0           ['dropout[0][0]']                \n",
            "                                                                                                  \n",
            " conv1d_6 (Conv1D)              (None, 94, 128)      98432       ['max_pooling1d_3[0][0]']        \n",
            "                                                                                                  \n",
            " conv1d_2 (Conv1D)              (None, 1, 128)       65664       ['max_pooling1d[0][0]']          \n",
            "                                                                                                  \n",
            " max_pooling1d_4 (MaxPooling1D)  (None, 47, 128)     0           ['conv1d_6[0][0]']               \n",
            "                                                                                                  \n",
            " max_pooling1d_1 (MaxPooling1D)  (None, 1, 128)      0           ['conv1d_2[0][0]']               \n",
            "                                                                                                  \n",
            " dropout_4 (Dropout)            (None, 47, 128)      0           ['max_pooling1d_4[0][0]']        \n",
            "                                                                                                  \n",
            " dropout_1 (Dropout)            (None, 1, 128)       0           ['max_pooling1d_1[0][0]']        \n",
            "                                                                                                  \n",
            " conv1d_7 (Conv1D)              (None, 45, 64)       24640       ['dropout_4[0][0]']              \n",
            "                                                                                                  \n",
            " conv1d_3 (Conv1D)              (None, 1, 64)        8256        ['dropout_1[0][0]']              \n",
            "                                                                                                  \n",
            " max_pooling1d_5 (MaxPooling1D)  (None, 22, 64)      0           ['conv1d_7[0][0]']               \n",
            "                                                                                                  \n",
            " max_pooling1d_2 (MaxPooling1D)  (None, 1, 64)       0           ['conv1d_3[0][0]']               \n",
            "                                                                                                  \n",
            " dropout_5 (Dropout)            (None, 22, 64)       0           ['max_pooling1d_5[0][0]']        \n",
            "                                                                                                  \n",
            " dropout_2 (Dropout)            (None, 1, 64)        0           ['max_pooling1d_2[0][0]']        \n",
            "                                                                                                  \n",
            " flatten_1 (Flatten)            (None, 1408)         0           ['dropout_5[0][0]']              \n",
            "                                                                                                  \n",
            " flatten (Flatten)              (None, 64)           0           ['dropout_2[0][0]']              \n",
            "                                                                                                  \n",
            " concatenate (Concatenate)      (None, 1472)         0           ['flatten_1[0][0]',              \n",
            "                                                                  'flatten[0][0]']                \n",
            "                                                                                                  \n",
            " dense (Dense)                  (None, 16)           23568       ['concatenate[0][0]']            \n",
            "                                                                                                  \n",
            " dropout_6 (Dropout)            (None, 16)           0           ['dense[0][0]']                  \n",
            "                                                                                                  \n",
            " dense_1 (Dense)                (None, 1)            17          ['dropout_6[0][0]']              \n",
            "                                                                                                  \n",
            "==================================================================================================\n",
            "Total params: 616,353\n",
            "Trainable params: 616,353\n",
            "Non-trainable params: 0\n",
            "__________________________________________________________________________________________________\n"
          ]
        }
      ]
    },
    {
      "cell_type": "code",
      "source": [
        "prediction=new_model.predict((X_test[:,:197],X_test[:,521:529]))\n",
        "\n",
        "for i in range (prediction.shape[0]):\n",
        "  if prediction[i]< 0.5:\n",
        "    prediction[i]=0\n",
        "  else:\n",
        "    prediction[i]=1  \n",
        "    \n",
        "\n",
        "yout=y_test.to_numpy()    \n",
        "counter=0\n",
        "\n",
        "\n",
        "for i in range (prediction.shape[0]):\n",
        "  print(\"pred\",prediction[i],\"---- Real\",yout[i])\n",
        "  if prediction[i] == yout[i] :\n",
        "    counter=counter+1\n",
        "\n",
        "\n",
        "print(\"Accuracy is \",counter,\"%\")"
      ],
      "metadata": {
        "colab": {
          "base_uri": "https://localhost:8080/"
        },
        "id": "IBg1zG6ejuUa",
        "outputId": "3c6921ef-556c-4901-c3ef-a5528edd7ef4"
      },
      "execution_count": null,
      "outputs": [
        {
          "output_type": "stream",
          "name": "stdout",
          "text": [
            "pred [0.] ---- Real [0.]\n",
            "pred [0.] ---- Real [0.]\n",
            "pred [1.] ---- Real [1.]\n",
            "pred [0.] ---- Real [0.]\n",
            "pred [0.] ---- Real [0.]\n",
            "pred [1.] ---- Real [1.]\n",
            "pred [1.] ---- Real [0.]\n",
            "pred [1.] ---- Real [1.]\n",
            "pred [0.] ---- Real [0.]\n",
            "pred [1.] ---- Real [0.]\n",
            "pred [1.] ---- Real [0.]\n",
            "pred [1.] ---- Real [1.]\n",
            "pred [1.] ---- Real [1.]\n",
            "pred [1.] ---- Real [1.]\n",
            "pred [0.] ---- Real [0.]\n",
            "pred [0.] ---- Real [0.]\n",
            "pred [0.] ---- Real [0.]\n",
            "pred [0.] ---- Real [0.]\n",
            "pred [1.] ---- Real [1.]\n",
            "pred [1.] ---- Real [1.]\n",
            "pred [1.] ---- Real [1.]\n",
            "pred [1.] ---- Real [0.]\n",
            "pred [0.] ---- Real [0.]\n",
            "pred [1.] ---- Real [0.]\n",
            "pred [0.] ---- Real [0.]\n",
            "pred [0.] ---- Real [0.]\n",
            "pred [1.] ---- Real [1.]\n",
            "pred [1.] ---- Real [1.]\n",
            "pred [0.] ---- Real [0.]\n",
            "pred [1.] ---- Real [1.]\n",
            "pred [0.] ---- Real [0.]\n",
            "pred [0.] ---- Real [0.]\n",
            "pred [1.] ---- Real [1.]\n",
            "pred [0.] ---- Real [0.]\n",
            "pred [1.] ---- Real [1.]\n",
            "pred [0.] ---- Real [0.]\n",
            "pred [0.] ---- Real [1.]\n",
            "pred [1.] ---- Real [1.]\n",
            "pred [0.] ---- Real [0.]\n",
            "pred [0.] ---- Real [0.]\n",
            "pred [0.] ---- Real [0.]\n",
            "pred [0.] ---- Real [0.]\n",
            "pred [0.] ---- Real [0.]\n",
            "pred [0.] ---- Real [0.]\n",
            "pred [1.] ---- Real [0.]\n",
            "pred [0.] ---- Real [0.]\n",
            "pred [1.] ---- Real [0.]\n",
            "pred [1.] ---- Real [1.]\n",
            "pred [1.] ---- Real [1.]\n",
            "pred [0.] ---- Real [0.]\n",
            "pred [0.] ---- Real [1.]\n",
            "pred [0.] ---- Real [0.]\n",
            "pred [1.] ---- Real [1.]\n",
            "pred [1.] ---- Real [1.]\n",
            "pred [1.] ---- Real [1.]\n",
            "pred [1.] ---- Real [1.]\n",
            "pred [1.] ---- Real [0.]\n",
            "pred [1.] ---- Real [0.]\n",
            "pred [1.] ---- Real [0.]\n",
            "pred [0.] ---- Real [1.]\n",
            "pred [0.] ---- Real [1.]\n",
            "pred [1.] ---- Real [1.]\n",
            "pred [0.] ---- Real [1.]\n",
            "pred [0.] ---- Real [0.]\n",
            "pred [1.] ---- Real [1.]\n",
            "pred [1.] ---- Real [0.]\n",
            "pred [0.] ---- Real [0.]\n",
            "pred [1.] ---- Real [1.]\n",
            "pred [1.] ---- Real [0.]\n",
            "pred [0.] ---- Real [0.]\n",
            "pred [0.] ---- Real [0.]\n",
            "pred [1.] ---- Real [1.]\n",
            "pred [0.] ---- Real [0.]\n",
            "pred [1.] ---- Real [1.]\n",
            "pred [1.] ---- Real [1.]\n",
            "pred [0.] ---- Real [0.]\n",
            "pred [0.] ---- Real [0.]\n",
            "pred [0.] ---- Real [1.]\n",
            "pred [0.] ---- Real [0.]\n",
            "pred [0.] ---- Real [0.]\n",
            "pred [0.] ---- Real [0.]\n",
            "pred [0.] ---- Real [1.]\n",
            "pred [0.] ---- Real [0.]\n",
            "pred [1.] ---- Real [1.]\n",
            "pred [0.] ---- Real [1.]\n",
            "pred [0.] ---- Real [0.]\n",
            "pred [0.] ---- Real [0.]\n",
            "pred [1.] ---- Real [1.]\n",
            "pred [1.] ---- Real [1.]\n",
            "pred [0.] ---- Real [0.]\n",
            "pred [1.] ---- Real [1.]\n",
            "pred [1.] ---- Real [0.]\n",
            "pred [1.] ---- Real [1.]\n",
            "pred [1.] ---- Real [0.]\n",
            "pred [1.] ---- Real [1.]\n",
            "pred [0.] ---- Real [0.]\n",
            "pred [1.] ---- Real [1.]\n",
            "pred [1.] ---- Real [1.]\n",
            "pred [1.] ---- Real [0.]\n",
            "pred [1.] ---- Real [1.]\n",
            "Accuracy is  77 %\n"
          ]
        }
      ]
    },
    {
      "cell_type": "code",
      "source": [
        "from sklearn.metrics import confusion_matrix\n",
        "import seaborn as sns\n",
        "sns.set()\n",
        "cm = confusion_matrix(yout, prediction)"
      ],
      "metadata": {
        "id": "fdpXTm4vj1ov"
      },
      "execution_count": null,
      "outputs": []
    },
    {
      "cell_type": "code",
      "source": [
        "p = sns.heatmap(pd.DataFrame(cm), annot=True, cmap=\"YlGnBu\" ,fmt='g')\n",
        "plt.title('Confusion matrix', y=1.1)\n",
        "plt.ylabel('Actual label')\n",
        "plt.xlabel('Predicted label')"
      ],
      "metadata": {
        "colab": {
          "base_uri": "https://localhost:8080/",
          "height": 318
        },
        "id": "CcCPe0bkj31e",
        "outputId": "066b973c-56ac-43e3-ee1c-aea737eb5156"
      },
      "execution_count": null,
      "outputs": [
        {
          "output_type": "execute_result",
          "data": {
            "text/plain": [
              "Text(0.5, 12.5, 'Predicted label')"
            ]
          },
          "metadata": {},
          "execution_count": 15
        },
        {
          "output_type": "display_data",
          "data": {
            "text/plain": [
              "<Figure size 432x288 with 2 Axes>"
            ],
            "image/png": "[encoded data removed]"
          },
          "metadata": {}
        }
      ]
    },
    {
      "cell_type": "code",
      "source": [
        "from sklearn.metrics import classification_report\n",
        "print(classification_report(yout,prediction))"
      ],
      "metadata": {
        "colab": {
          "base_uri": "https://localhost:8080/"
        },
        "id": "P-J4kkaQj6Mz",
        "outputId": "64234548-da8d-4b63-8a6a-59edbf2cb9c9"
      },
      "execution_count": null,
      "outputs": [
        {
          "output_type": "stream",
          "name": "stdout",
          "text": [
            "              precision    recall  f1-score   support\n",
            "\n",
            "         0.0       0.84      0.73      0.78        56\n",
            "         1.0       0.71      0.82      0.76        44\n",
            "\n",
            "    accuracy                           0.77       100\n",
            "   macro avg       0.77      0.78      0.77       100\n",
            "weighted avg       0.78      0.77      0.77       100\n",
            "\n"
          ]
        }
      ]
    },
    {
      "cell_type": "code",
      "source": [
        "from sklearn.metrics import roc_curve\n",
        "from sklearn.metrics import roc_auc_score\n",
        "from matplotlib import pyplot\n",
        "\n",
        "ns_probs = [0 for _ in range(len(yout))]\n",
        "\n",
        "ns_auc = roc_auc_score(yout, ns_probs)\n",
        "lr_auc = roc_auc_score(yout, prediction)\n",
        "\n",
        "ns_fpr, ns_tpr, _ = roc_curve(yout, ns_probs)\n",
        "lr_fpr, lr_tpr, _ = roc_curve(yout, prediction)\n",
        "\n",
        "pyplot.plot(ns_fpr, ns_tpr, linestyle='--', label='No Skill')\n",
        "pyplot.plot(lr_fpr, lr_tpr, marker='.', label='Logistic')\n",
        "# axis labels\n",
        "pyplot.xlabel('False Positive Rate')\n",
        "pyplot.ylabel('True Positive Rate')\n",
        "# show the legend\n",
        "pyplot.legend()\n",
        "# show the plot\n",
        "pyplot.show()"
      ],
      "metadata": {
        "id": "V_hS4c07j9rs",
        "outputId": "cde8705c-cd61-412a-cb8f-34facfa3160f",
        "colab": {
          "base_uri": "https://localhost:8080/",
          "height": 285
        }
      },
      "execution_count": null,
      "outputs": [
        {
          "output_type": "display_data",
          "data": {
            "text/plain": [
              "<Figure size 432x288 with 1 Axes>"
            ],
            "image/png": "[encoded data removed]"
          },
          "metadata": {}
        }
      ]
    }
  ]
}