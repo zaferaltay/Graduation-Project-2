{
  "nbformat": 4,
  "nbformat_minor": 0,
  "metadata": {
    "colab": {
      "name": "G-GC-Clinic.ipynb",
      "provenance": []
    },
    "kernelspec": {
      "name": "python3",
      "display_name": "Python 3"
    },
    "language_info": {
      "name": "python"
    }
  },
  "cells": [
    {
      "cell_type": "code",
      "execution_count": null,
      "metadata": {
        "id": "F5oqKVS4iqCL"
      },
      "outputs": [],
      "source": [
        "import pandas as pd\n",
        "import numpy as np"
      ]
    },
    {
      "cell_type": "code",
      "source": [
        "urineDS=pd.read_csv(\"/content/drive/MyDrive/Grad2/lastUrine.csv\")\n",
        "urineDS=urineDS.iloc[:,1:]\n",
        "\n",
        "from sklearn.preprocessing import StandardScaler\n",
        "\n",
        "\n",
        "urineOutput=urineDS.iloc[2:,0:1]\n",
        "urineInput=urineDS.iloc[2:,4:]\n",
        "\n",
        "data = urineInput\n",
        "scaler = StandardScaler()\n",
        "scaler.fit(data)\n",
        "urineInput=scaler.transform(data)"
      ],
      "metadata": {
        "id": "kFLbi3wti1Vx"
      },
      "execution_count": null,
      "outputs": []
    },
    {
      "cell_type": "code",
      "source": [
        "import numpy as np\n",
        "from sklearn.model_selection import train_test_split\n",
        "X_train, X_test, y_train, y_test = train_test_split(urineInput, urineOutput, test_size=0.33, random_state=0)"
      ],
      "metadata": {
        "id": "d8CbhGbJi3FN"
      },
      "execution_count": null,
      "outputs": []
    },
    {
      "cell_type": "code",
      "source": [
        "X_train=X_train.astype(np.float64)\n",
        "X_test=X_test.astype(np.float64)\n",
        "y_train=y_train.astype(np.float64)-1\n",
        "y_test=y_test.astype(np.float64)-1\n",
        "\n",
        "print(y_train)"
      ],
      "metadata": {
        "colab": {
          "base_uri": "https://localhost:8080/"
        },
        "id": "_ygtrf9ai4vB",
        "outputId": "255022c2-c869-4a88-f18b-1b80c9bb79e0"
      },
      "execution_count": null,
      "outputs": [
        {
          "output_type": "stream",
          "name": "stdout",
          "text": [
            "     Metadata\n",
            "231       1.0\n",
            "20        1.0\n",
            "169       0.0\n",
            "254       1.0\n",
            "126       0.0\n",
            "..        ...\n",
            "253       0.0\n",
            "194       0.0\n",
            "119       1.0\n",
            "49        1.0\n",
            "174       1.0\n",
            "\n",
            "[201 rows x 1 columns]\n"
          ]
        }
      ]
    },
    {
      "cell_type": "code",
      "source": [
        "from tensorflow.keras.models import Sequential\n",
        "from tensorflow.keras.layers import Conv1D, Dense, MaxPooling1D, Flatten,concatenate\n",
        "\n",
        "from tensorflow.keras.optimizers import Adam\n",
        "from keras.layers import Dropout\n",
        "import keras\n",
        "from matplotlib import pyplot as plt\n",
        "\n",
        "model = Sequential()\n",
        "model.add(Conv1D(256, 3, activation='relu', input_shape=(8, 1)))\n",
        "model.add(Conv1D(256, 3, activation='relu'))\n",
        "model.add(Dropout(0.25))\n",
        "model.add(MaxPooling1D(2))\n",
        "model.add(Conv1D(128, 2, activation='relu'))\n",
        "model.add(MaxPooling1D(1))\n",
        "model.add(Dropout(0.25))\n",
        "model.add(Conv1D(64, 1, activation='relu'))\n",
        "model.add(MaxPooling1D(1))\n",
        "model.add(Dropout(0.5))\n",
        "model.add(Flatten())\n",
        "#model.add(Dense(16, activation='relu'))\n",
        "#model.add(Dense(1, activation='sigmoid'))\n",
        "#model.compile(optimizer='adam', loss='binary_crossentropy', metrics=['accuracy'])\n",
        "x1=model.output\n",
        "\n",
        "model2 = Sequential()\n",
        "model2.add(Conv1D(256, 3, activation='relu', input_shape=(324, 1)))\n",
        "model2.add(Conv1D(256, 3, activation='relu'))\n",
        "model2.add(Dropout(0.25))\n",
        "model2.add(MaxPooling1D(2))\n",
        "model2.add(Conv1D(128, 3, activation='relu'))\n",
        "model2.add(MaxPooling1D(2))\n",
        "model2.add(Dropout(0.25))\n",
        "model2.add(Conv1D(64, 3, activation='relu'))\n",
        "model2.add(MaxPooling1D(2))\n",
        "model2.add(Dropout(0.5))\n",
        "model2.add(Flatten())\n",
        "#model2.add(Dense(16, activation='relu'))\n",
        "#model2.add(Dense(1, activation='sigmoid'))\n",
        "#model2.compile(optimizer='adam', loss='binary_crossentropy', metrics=['accuracy'])\n",
        "x2=model2.output\n",
        "\n",
        "\n",
        "\n",
        "\n"
      ],
      "metadata": {
        "id": "04c_rvpqjCRp"
      },
      "execution_count": null,
      "outputs": []
    },
    {
      "cell_type": "code",
      "source": [
        "import numpy as np\n",
        "import pandas as pd\n",
        "import tensorflow as tf\n",
        "import os\n",
        "import keras\n",
        "from keras.models import Sequential, Model\n",
        "from keras.layers import GlobalAveragePooling2D, Dense, Input, Dropout, concatenate\n",
        "from keras.applications.vgg16 import VGG16\n",
        "from sklearn.model_selection import train_test_split\n",
        "\n",
        "from math import ceil\n",
        "import datetime"
      ],
      "metadata": {
        "id": "lhWvXpnBjNYD"
      },
      "execution_count": null,
      "outputs": []
    },
    {
      "cell_type": "code",
      "source": [
        "x = concatenate([x2,x1])\n",
        "#x = Sequential()(x)\n",
        "x = Dense(16, activation='relu')(x) \n",
        "x = Dropout(0.2)(x)\n",
        "predictions = Dense(1, activation='sigmoid')(x)\n",
        "\n",
        "\n",
        "model4 = Model(inputs=[ model2.input,model.input], outputs=predictions) # Inputs go into 3 different layers\n",
        "model4.compile(optimizer='adam', loss='binary_crossentropy', metrics=['accuracy'])"
      ],
      "metadata": {
        "id": "JMm1JUwtjQLt"
      },
      "execution_count": null,
      "outputs": []
    },
    {
      "cell_type": "code",
      "source": [
        "history =model4.fit((X_train[:,197:521],X_train[:,521:529]),y_train, batch_size=32, epochs=9, validation_split=0.1)\n",
        "plt.plot(history.history['accuracy'])\n",
        "plt.plot(history.history['val_accuracy'])\n",
        "plt.title('model accuracy')\n",
        "plt.ylabel('accuracy')\n",
        "plt.xlabel('epoch')\n",
        "plt.legend(['train', 'val'], loc='upper left')\n",
        "plt.show()\n",
        "\n",
        "\n",
        "plt.plot(history.history['loss'])\n",
        "plt.plot(history.history['val_loss'])\n",
        "plt.title('model loss')\n",
        "plt.ylabel('loss')\n",
        "plt.xlabel('epoch')\n",
        "plt.legend(['train', 'val'], loc='upper left')\n",
        "plt.show()"
      ],
      "metadata": {
        "colab": {
          "base_uri": "https://localhost:8080/",
          "height": 885
        },
        "id": "X0ZCnslmjVvo",
        "outputId": "1e0120cf-c69e-4580-cd03-5d46318297ec"
      },
      "execution_count": null,
      "outputs": [
        {
          "output_type": "stream",
          "name": "stdout",
          "text": [
            "Epoch 1/9\n",
            "6/6 [==============================] - 4s 661ms/step - loss: 0.0920 - accuracy: 0.9667 - val_loss: 0.4697 - val_accuracy: 0.8571\n",
            "Epoch 2/9\n",
            "6/6 [==============================] - 4s 629ms/step - loss: 0.0233 - accuracy: 0.9889 - val_loss: 0.7667 - val_accuracy: 0.8571\n",
            "Epoch 3/9\n",
            "6/6 [==============================] - 4s 670ms/step - loss: 0.0660 - accuracy: 0.9889 - val_loss: 0.3772 - val_accuracy: 0.8571\n",
            "Epoch 4/9\n",
            "6/6 [==============================] - 3s 560ms/step - loss: 0.0408 - accuracy: 0.9833 - val_loss: 0.4843 - val_accuracy: 0.8571\n",
            "Epoch 5/9\n",
            "6/6 [==============================] - 3s 520ms/step - loss: 0.0385 - accuracy: 0.9889 - val_loss: 0.4404 - val_accuracy: 0.8571\n",
            "Epoch 6/9\n",
            "6/6 [==============================] - 2s 362ms/step - loss: 0.0348 - accuracy: 0.9833 - val_loss: 0.2727 - val_accuracy: 0.9048\n",
            "Epoch 7/9\n",
            "6/6 [==============================] - 2s 415ms/step - loss: 0.0553 - accuracy: 0.9722 - val_loss: 0.4575 - val_accuracy: 0.8095\n",
            "Epoch 8/9\n",
            "6/6 [==============================] - 4s 572ms/step - loss: 0.0666 - accuracy: 0.9833 - val_loss: 0.6418 - val_accuracy: 0.8571\n",
            "Epoch 9/9\n",
            "6/6 [==============================] - 3s 509ms/step - loss: 0.0248 - accuracy: 0.9944 - val_loss: 0.4206 - val_accuracy: 0.8095\n"
          ]
        },
        {
          "output_type": "display_data",
          "data": {
            "text/plain": [
              "<Figure size 432x288 with 1 Axes>"
            ],
            "image/png": "[encoded data removed]"
          },
          "metadata": {
            "needs_background": "light"
          }
        },
        {
          "output_type": "display_data",
          "data": {
            "text/plain": [
              "<Figure size 432x288 with 1 Axes>"
            ],
            "image/png": "[encoded data removed]"
          },
          "metadata": {
            "needs_background": "light"
          }
        }
      ]
    },
    {
      "cell_type": "code",
      "source": [
        "import os\n",
        "\n",
        "import tensorflow as tf\n",
        "from tensorflow import keras\n",
        "\n",
        "print(tf.version.VERSION)\n",
        "model4.save('/content/drive/MyDrive/Grad2Models/cinsiyetGCClinic')"
      ],
      "metadata": {
        "colab": {
          "base_uri": "https://localhost:8080/"
        },
        "id": "RJAqsrn6kkWt",
        "outputId": "5e55cd35-80ef-408e-eb64-baa533a3f2d1"
      },
      "execution_count": null,
      "outputs": [
        {
          "output_type": "stream",
          "name": "stdout",
          "text": [
            "2.8.2\n",
            "INFO:tensorflow:Assets written to: /content/drive/MyDrive/Grad2Models/cinsiyetGCClinic/assets\n"
          ]
        }
      ]
    },
    {
      "cell_type": "code",
      "source": [
        "import os\n",
        "\n",
        "import tensorflow as tf\n",
        "from tensorflow import keras\n",
        "new_model = tf.keras.models.load_model('/content/drive/MyDrive/Grad2Models/cinsiyetGCClinic', compile=False)\n",
        "\n",
        "# Check its architecture\n",
        "new_model.summary()"
      ],
      "metadata": {
        "colab": {
          "base_uri": "https://localhost:8080/"
        },
        "id": "YX-U4VJiksOm",
        "outputId": "0bb0b502-9545-4b99-ee49-e10492c88617"
      },
      "execution_count": null,
      "outputs": [
        {
          "output_type": "stream",
          "name": "stdout",
          "text": [
            "Model: \"model\"\n",
            "__________________________________________________________________________________________________\n",
            " Layer (type)                   Output Shape         Param #     Connected to                     \n",
            "==================================================================================================\n",
            " conv1d_4_input (InputLayer)    [(None, 324, 1)]     0           []                               \n",
            "                                                                                                  \n",
            " conv1d_input (InputLayer)      [(None, 8, 1)]       0           []                               \n",
            "                                                                                                  \n",
            " conv1d_4 (Conv1D)              (None, 322, 256)     1024        ['conv1d_4_input[0][0]']         \n",
            "                                                                                                  \n",
            " conv1d (Conv1D)                (None, 6, 256)       1024        ['conv1d_input[0][0]']           \n",
            "                                                                                                  \n",
            " conv1d_5 (Conv1D)              (None, 320, 256)     196864      ['conv1d_4[0][0]']               \n",
            "                                                                                                  \n",
            " conv1d_1 (Conv1D)              (None, 4, 256)       196864      ['conv1d[0][0]']                 \n",
            "                                                                                                  \n",
            " dropout_3 (Dropout)            (None, 320, 256)     0           ['conv1d_5[0][0]']               \n",
            "                                                                                                  \n",
            " dropout (Dropout)              (None, 4, 256)       0           ['conv1d_1[0][0]']               \n",
            "                                                                                                  \n",
            " max_pooling1d_3 (MaxPooling1D)  (None, 160, 256)    0           ['dropout_3[0][0]']              \n",
            "                                                                                                  \n",
            " max_pooling1d (MaxPooling1D)   (None, 2, 256)       0           ['dropout[0][0]']                \n",
            "                                                                                                  \n",
            " conv1d_6 (Conv1D)              (None, 158, 128)     98432       ['max_pooling1d_3[0][0]']        \n",
            "                                                                                                  \n",
            " conv1d_2 (Conv1D)              (None, 1, 128)       65664       ['max_pooling1d[0][0]']          \n",
            "                                                                                                  \n",
            " max_pooling1d_4 (MaxPooling1D)  (None, 79, 128)     0           ['conv1d_6[0][0]']               \n",
            "                                                                                                  \n",
            " max_pooling1d_1 (MaxPooling1D)  (None, 1, 128)      0           ['conv1d_2[0][0]']               \n",
            "                                                                                                  \n",
            " dropout_4 (Dropout)            (None, 79, 128)      0           ['max_pooling1d_4[0][0]']        \n",
            "                                                                                                  \n",
            " dropout_1 (Dropout)            (None, 1, 128)       0           ['max_pooling1d_1[0][0]']        \n",
            "                                                                                                  \n",
            " conv1d_7 (Conv1D)              (None, 77, 64)       24640       ['dropout_4[0][0]']              \n",
            "                                                                                                  \n",
            " conv1d_3 (Conv1D)              (None, 1, 64)        8256        ['dropout_1[0][0]']              \n",
            "                                                                                                  \n",
            " max_pooling1d_5 (MaxPooling1D)  (None, 38, 64)      0           ['conv1d_7[0][0]']               \n",
            "                                                                                                  \n",
            " max_pooling1d_2 (MaxPooling1D)  (None, 1, 64)       0           ['conv1d_3[0][0]']               \n",
            "                                                                                                  \n",
            " dropout_5 (Dropout)            (None, 38, 64)       0           ['max_pooling1d_5[0][0]']        \n",
            "                                                                                                  \n",
            " dropout_2 (Dropout)            (None, 1, 64)        0           ['max_pooling1d_2[0][0]']        \n",
            "                                                                                                  \n",
            " flatten_1 (Flatten)            (None, 2432)         0           ['dropout_5[0][0]']              \n",
            "                                                                                                  \n",
            " flatten (Flatten)              (None, 64)           0           ['dropout_2[0][0]']              \n",
            "                                                                                                  \n",
            " concatenate (Concatenate)      (None, 2496)         0           ['flatten_1[0][0]',              \n",
            "                                                                  'flatten[0][0]']                \n",
            "                                                                                                  \n",
            " dense (Dense)                  (None, 16)           39952       ['concatenate[0][0]']            \n",
            "                                                                                                  \n",
            " dropout_6 (Dropout)            (None, 16)           0           ['dense[0][0]']                  \n",
            "                                                                                                  \n",
            " dense_1 (Dense)                (None, 1)            17          ['dropout_6[0][0]']              \n",
            "                                                                                                  \n",
            "==================================================================================================\n",
            "Total params: 632,737\n",
            "Trainable params: 632,737\n",
            "Non-trainable params: 0\n",
            "__________________________________________________________________________________________________\n"
          ]
        }
      ]
    },
    {
      "cell_type": "code",
      "source": [
        "prediction=new_model.predict((X_test[:,197:521],X_test[:,521:529]))\n",
        "\n",
        "for i in range (prediction.shape[0]):\n",
        "  if prediction[i]< 0.5:\n",
        "    prediction[i]=0\n",
        "  else:\n",
        "    prediction[i]=1  \n",
        "    \n",
        "\n",
        "yout=y_test.to_numpy()    \n",
        "counter=0\n",
        "\n",
        "\n",
        "for i in range (prediction.shape[0]):\n",
        "  print(\"pred\",prediction[i],\"---- Real\",yout[i])\n",
        "  if prediction[i] == yout[i] :\n",
        "    counter=counter+1\n",
        "\n",
        "\n",
        "print(\"Accuracy is \",counter,\"%\")\n"
      ],
      "metadata": {
        "colab": {
          "base_uri": "https://localhost:8080/"
        },
        "id": "ZM_pmSxYkyoq",
        "outputId": "0434cfa7-5cd2-4560-87f4-d9e786792c10"
      },
      "execution_count": null,
      "outputs": [
        {
          "output_type": "stream",
          "name": "stdout",
          "text": [
            "pred [0.] ---- Real [0.]\n",
            "pred [1.] ---- Real [0.]\n",
            "pred [1.] ---- Real [1.]\n",
            "pred [0.] ---- Real [0.]\n",
            "pred [0.] ---- Real [0.]\n",
            "pred [0.] ---- Real [1.]\n",
            "pred [1.] ---- Real [0.]\n",
            "pred [1.] ---- Real [1.]\n",
            "pred [0.] ---- Real [0.]\n",
            "pred [0.] ---- Real [0.]\n",
            "pred [0.] ---- Real [0.]\n",
            "pred [1.] ---- Real [1.]\n",
            "pred [1.] ---- Real [1.]\n",
            "pred [1.] ---- Real [1.]\n",
            "pred [0.] ---- Real [0.]\n",
            "pred [1.] ---- Real [0.]\n",
            "pred [0.] ---- Real [0.]\n",
            "pred [1.] ---- Real [0.]\n",
            "pred [0.] ---- Real [1.]\n",
            "pred [1.] ---- Real [1.]\n",
            "pred [1.] ---- Real [1.]\n",
            "pred [0.] ---- Real [0.]\n",
            "pred [0.] ---- Real [0.]\n",
            "pred [0.] ---- Real [0.]\n",
            "pred [0.] ---- Real [0.]\n",
            "pred [0.] ---- Real [0.]\n",
            "pred [0.] ---- Real [1.]\n",
            "pred [1.] ---- Real [1.]\n",
            "pred [1.] ---- Real [0.]\n",
            "pred [1.] ---- Real [1.]\n",
            "pred [0.] ---- Real [0.]\n",
            "pred [0.] ---- Real [0.]\n",
            "pred [1.] ---- Real [1.]\n",
            "pred [0.] ---- Real [0.]\n",
            "pred [1.] ---- Real [1.]\n",
            "pred [0.] ---- Real [0.]\n",
            "pred [0.] ---- Real [1.]\n",
            "pred [0.] ---- Real [1.]\n",
            "pred [0.] ---- Real [0.]\n",
            "pred [0.] ---- Real [0.]\n",
            "pred [0.] ---- Real [0.]\n",
            "pred [1.] ---- Real [0.]\n",
            "pred [0.] ---- Real [0.]\n",
            "pred [0.] ---- Real [0.]\n",
            "pred [1.] ---- Real [0.]\n",
            "pred [0.] ---- Real [0.]\n",
            "pred [1.] ---- Real [0.]\n",
            "pred [1.] ---- Real [1.]\n",
            "pred [1.] ---- Real [1.]\n",
            "pred [0.] ---- Real [0.]\n",
            "pred [1.] ---- Real [1.]\n",
            "pred [1.] ---- Real [0.]\n",
            "pred [1.] ---- Real [1.]\n",
            "pred [1.] ---- Real [1.]\n",
            "pred [0.] ---- Real [1.]\n",
            "pred [1.] ---- Real [1.]\n",
            "pred [1.] ---- Real [0.]\n",
            "pred [0.] ---- Real [0.]\n",
            "pred [1.] ---- Real [0.]\n",
            "pred [0.] ---- Real [1.]\n",
            "pred [0.] ---- Real [1.]\n",
            "pred [1.] ---- Real [1.]\n",
            "pred [0.] ---- Real [1.]\n",
            "pred [0.] ---- Real [0.]\n",
            "pred [1.] ---- Real [1.]\n",
            "pred [0.] ---- Real [0.]\n",
            "pred [0.] ---- Real [0.]\n",
            "pred [0.] ---- Real [1.]\n",
            "pred [1.] ---- Real [0.]\n",
            "pred [0.] ---- Real [0.]\n",
            "pred [0.] ---- Real [0.]\n",
            "pred [1.] ---- Real [1.]\n",
            "pred [0.] ---- Real [0.]\n",
            "pred [1.] ---- Real [1.]\n",
            "pred [0.] ---- Real [1.]\n",
            "pred [1.] ---- Real [0.]\n",
            "pred [0.] ---- Real [0.]\n",
            "pred [0.] ---- Real [1.]\n",
            "pred [0.] ---- Real [0.]\n",
            "pred [1.] ---- Real [0.]\n",
            "pred [0.] ---- Real [0.]\n",
            "pred [0.] ---- Real [1.]\n",
            "pred [0.] ---- Real [0.]\n",
            "pred [1.] ---- Real [1.]\n",
            "pred [0.] ---- Real [1.]\n",
            "pred [1.] ---- Real [0.]\n",
            "pred [1.] ---- Real [0.]\n",
            "pred [1.] ---- Real [1.]\n",
            "pred [1.] ---- Real [1.]\n",
            "pred [0.] ---- Real [0.]\n",
            "pred [1.] ---- Real [1.]\n",
            "pred [0.] ---- Real [0.]\n",
            "pred [1.] ---- Real [1.]\n",
            "pred [1.] ---- Real [0.]\n",
            "pred [0.] ---- Real [1.]\n",
            "pred [1.] ---- Real [0.]\n",
            "pred [1.] ---- Real [1.]\n",
            "pred [1.] ---- Real [1.]\n",
            "pred [0.] ---- Real [0.]\n",
            "pred [1.] ---- Real [1.]\n",
            "Accuracy is  67 %\n"
          ]
        }
      ]
    },
    {
      "cell_type": "code",
      "source": [
        "from sklearn.metrics import confusion_matrix\n",
        "import seaborn as sns\n",
        "sns.set()\n",
        "cm = confusion_matrix(yout, prediction)"
      ],
      "metadata": {
        "id": "pxiL0T_pk7Vq"
      },
      "execution_count": null,
      "outputs": []
    },
    {
      "cell_type": "code",
      "source": [
        "p = sns.heatmap(pd.DataFrame(cm), annot=True, cmap=\"YlGnBu\" ,fmt='g')\n",
        "plt.title('Confusion matrix', y=1.1)\n",
        "plt.ylabel('Actual label')\n",
        "plt.xlabel('Predicted label')"
      ],
      "metadata": {
        "colab": {
          "base_uri": "https://localhost:8080/",
          "height": 318
        },
        "id": "PP9jqZRIk9k9",
        "outputId": "5c473df2-719d-48ac-accf-d0bd50d8d311"
      },
      "execution_count": null,
      "outputs": [
        {
          "output_type": "execute_result",
          "data": {
            "text/plain": [
              "Text(0.5, 12.5, 'Predicted label')"
            ]
          },
          "metadata": {},
          "execution_count": 17
        },
        {
          "output_type": "display_data",
          "data": {
            "text/plain": [
              "<Figure size 432x288 with 2 Axes>"
            ],
            "image/png": "[encoded data removed]"
          },
          "metadata": {}
        }
      ]
    },
    {
      "cell_type": "code",
      "source": [
        "from sklearn.metrics import classification_report\n",
        "print(classification_report(yout,prediction))"
      ],
      "metadata": {
        "colab": {
          "base_uri": "https://localhost:8080/"
        },
        "id": "erZXwfrrk_4f",
        "outputId": "80096e4b-5c88-4554-828b-c85496a79e67"
      },
      "execution_count": null,
      "outputs": [
        {
          "output_type": "stream",
          "name": "stdout",
          "text": [
            "              precision    recall  f1-score   support\n",
            "\n",
            "         0.0       0.72      0.68      0.70        56\n",
            "         1.0       0.62      0.66      0.64        44\n",
            "\n",
            "    accuracy                           0.67       100\n",
            "   macro avg       0.67      0.67      0.67       100\n",
            "weighted avg       0.67      0.67      0.67       100\n",
            "\n"
          ]
        }
      ]
    },
    {
      "cell_type": "code",
      "source": [
        "from sklearn.metrics import roc_curve\n",
        "from sklearn.metrics import roc_auc_score\n",
        "from matplotlib import pyplot\n",
        "\n",
        "ns_probs = [0 for _ in range(len(yout))]\n",
        "\n",
        "ns_auc = roc_auc_score(yout, ns_probs)\n",
        "lr_auc = roc_auc_score(yout, prediction)\n",
        "\n",
        "ns_fpr, ns_tpr, _ = roc_curve(yout, ns_probs)\n",
        "lr_fpr, lr_tpr, _ = roc_curve(yout, prediction)\n",
        "\n",
        "pyplot.plot(ns_fpr, ns_tpr, linestyle='--', label='No Skill')\n",
        "pyplot.plot(lr_fpr, lr_tpr, marker='.', label='GC-CLINIC')\n",
        "# axis labels\n",
        "pyplot.xlabel('False Positive Rate')\n",
        "pyplot.ylabel('True Positive Rate')\n",
        "# show the legend\n",
        "pyplot.legend()\n",
        "# show the plot\n",
        "pyplot.show()"
      ],
      "metadata": {
        "colab": {
          "base_uri": "https://localhost:8080/",
          "height": 285
        },
        "id": "m6LRgczwlCeJ",
        "outputId": "98cb85b2-7f81-4ec9-a3ca-f1eac9571104"
      },
      "execution_count": null,
      "outputs": [
        {
          "output_type": "display_data",
          "data": {
            "text/plain": [
              "<Figure size 432x288 with 1 Axes>"
            ],
            "image/png": "[encoded data removed]"
          },
          "metadata": {}
        }
      ]
    }
  ]
}