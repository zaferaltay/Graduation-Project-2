{
  "nbformat": 4,
  "nbformat_minor": 0,
  "metadata": {
    "colab": {
      "name": "CinsiyetLate.ipynb",
      "provenance": [],
      "collapsed_sections": []
    },
    "kernelspec": {
      "name": "python3",
      "display_name": "Python 3"
    },
    "language_info": {
      "name": "python"
    }
  },
  "cells": [
    {
      "cell_type": "code",
      "execution_count": null,
      "metadata": {
        "id": "OEY5DCdpMD95"
      },
      "outputs": [],
      "source": [
        "import pandas as pd\n",
        "import numpy as np"
      ]
    },
    {
      "cell_type": "code",
      "source": [
        "urineDS=pd.read_csv(\"/content/drive/MyDrive/Grad2/lastUrine.csv\")\n",
        "urineDS=urineDS.iloc[:,1:]\n",
        "\n",
        "from sklearn.preprocessing import StandardScaler\n",
        "\n",
        "\n",
        "urineOutput=urineDS.iloc[2:,0:1]\n",
        "urineInput=urineDS.iloc[2:,4:]\n",
        "\n",
        "data = urineInput\n",
        "scaler = StandardScaler()\n",
        "scaler.fit(data)\n",
        "urineInput=scaler.transform(data)\n",
        "'''\n",
        "data = urineOutput\n",
        "scaler = StandardScaler()\n",
        "scaler.fit(data)\n",
        "urineOutput=scaler.transform(data)\n",
        "'''\n"
      ],
      "metadata": {
        "id": "2Y2sF4OrMjlr",
        "colab": {
          "base_uri": "https://localhost:8080/",
          "height": 36
        },
        "outputId": "94c718a9-27e6-487d-8c3c-8609b633512d"
      },
      "execution_count": null,
      "outputs": [
        {
          "output_type": "execute_result",
          "data": {
            "text/plain": [
              "'\\ndata = urineOutput\\nscaler = StandardScaler()\\nscaler.fit(data)\\nurineOutput=scaler.transform(data)\\n'"
            ],
            "application/vnd.google.colaboratory.intrinsic+json": {
              "type": "string"
            }
          },
          "metadata": {},
          "execution_count": 2
        }
      ]
    },
    {
      "cell_type": "code",
      "source": [
        "import numpy as np\n",
        "from sklearn.model_selection import train_test_split\n",
        "X_train, X_test, y_train, y_test = train_test_split(urineInput, urineOutput, test_size=0.33, random_state=0)"
      ],
      "metadata": {
        "id": "Taw0_utdMyxE"
      },
      "execution_count": null,
      "outputs": []
    },
    {
      "cell_type": "code",
      "source": [
        "X_train=X_train.astype(np.float64)\n",
        "X_test=X_test.astype(np.float64)\n",
        "y_train=y_train.astype(np.float64)-1\n",
        "y_test=y_test.astype(np.float64)-1\n",
        "\n",
        "print(y_train)\n"
      ],
      "metadata": {
        "id": "H2pIzPBUTl2j",
        "colab": {
          "base_uri": "https://localhost:8080/"
        },
        "outputId": "3800fb7d-2f7a-4a6f-9603-f99d406e1427"
      },
      "execution_count": null,
      "outputs": [
        {
          "output_type": "stream",
          "name": "stdout",
          "text": [
            "     Metadata\n",
            "231       1.0\n",
            "20        1.0\n",
            "169       0.0\n",
            "254       1.0\n",
            "126       0.0\n",
            "..        ...\n",
            "253       0.0\n",
            "194       0.0\n",
            "119       1.0\n",
            "49        1.0\n",
            "174       1.0\n",
            "\n",
            "[201 rows x 1 columns]\n"
          ]
        }
      ]
    },
    {
      "cell_type": "code",
      "source": [
        ""
      ],
      "metadata": {
        "id": "Zt6Z7dbsazxe"
      },
      "execution_count": null,
      "outputs": []
    },
    {
      "cell_type": "code",
      "source": [
        "from tensorflow.keras.models import Sequential\n",
        "from tensorflow.keras.layers import Conv1D, Dense, MaxPooling1D, Flatten,concatenate\n",
        "\n",
        "from tensorflow.keras.optimizers import Adam\n",
        "from keras.layers import Dropout\n",
        "import keras\n",
        "from matplotlib import pyplot as plt\n",
        "\n",
        "model = Sequential()\n",
        "model.add(Conv1D(256, 3, activation='relu', input_shape=(8, 1)))\n",
        "model.add(Conv1D(256, 3, activation='relu'))\n",
        "model.add(Dropout(0.25))\n",
        "model.add(MaxPooling1D(2))\n",
        "model.add(Conv1D(128, 2, activation='relu'))\n",
        "model.add(MaxPooling1D(1))\n",
        "model.add(Dropout(0.25))\n",
        "model.add(Conv1D(64, 1, activation='relu'))\n",
        "model.add(MaxPooling1D(1))\n",
        "model.add(Dropout(0.5))\n",
        "model.add(Flatten())\n",
        "#model.add(Dense(16, activation='relu'))\n",
        "#model.add(Dense(1, activation='sigmoid'))\n",
        "#model.compile(optimizer='adam', loss='binary_crossentropy', metrics=['accuracy'])\n",
        "x1=model.output\n",
        "\n",
        "model2 = Sequential()\n",
        "model2.add(Conv1D(256, 3, activation='relu', input_shape=(324, 1)))\n",
        "model2.add(Conv1D(256, 3, activation='relu'))\n",
        "model2.add(Dropout(0.25))\n",
        "model2.add(MaxPooling1D(2))\n",
        "model2.add(Conv1D(128, 3, activation='relu'))\n",
        "model2.add(MaxPooling1D(2))\n",
        "model2.add(Dropout(0.25))\n",
        "model2.add(Conv1D(64, 3, activation='relu'))\n",
        "model2.add(MaxPooling1D(2))\n",
        "model2.add(Dropout(0.5))\n",
        "model2.add(Flatten())\n",
        "#model2.add(Dense(16, activation='relu'))\n",
        "#model2.add(Dense(1, activation='sigmoid'))\n",
        "#model2.compile(optimizer='adam', loss='binary_crossentropy', metrics=['accuracy'])\n",
        "x2=model2.output\n",
        "\n",
        "model3 = Sequential()\n",
        "model3.add(Conv1D(256, 3, activation='relu', input_shape=(197, 1)))\n",
        "model3.add(Conv1D(256, 3, activation='relu'))\n",
        "model3.add(Dropout(0.25))\n",
        "model3.add(MaxPooling1D(2))\n",
        "model3.add(Conv1D(128, 3, activation='relu'))\n",
        "model3.add(MaxPooling1D(2))\n",
        "model3.add(Dropout(0.25))\n",
        "model3.add(Conv1D(64, 3, activation='relu'))\n",
        "model3.add(MaxPooling1D(2))\n",
        "model3.add(Dropout(0.5))\n",
        "model3.add(Flatten())\n",
        "#model3.add(Dense(16, activation='relu'))\n",
        "#model3.add(Dense(1, activation='sigmoid'))\n",
        "#model3.compile(optimizer='adam', loss='binary_crossentropy', metrics=['accuracy'])\n",
        "x3=model3.output\n",
        "\n",
        "\n",
        "\n",
        "\n",
        "\n",
        "\n"
      ],
      "metadata": {
        "id": "5UFR-eUeOD--"
      },
      "execution_count": null,
      "outputs": []
    },
    {
      "cell_type": "code",
      "source": [
        "model3.output"
      ],
      "metadata": {
        "id": "vy223MlDHXkN",
        "outputId": "4487b00d-ec39-4ffe-fc37-1dbdcd92e9ef",
        "colab": {
          "base_uri": "https://localhost:8080/"
        }
      },
      "execution_count": null,
      "outputs": [
        {
          "output_type": "execute_result",
          "data": {
            "text/plain": [
              "<KerasTensor: shape=(None, 1408) dtype=float32 (created by layer 'flatten_2')>"
            ]
          },
          "metadata": {},
          "execution_count": 6
        }
      ]
    },
    {
      "cell_type": "code",
      "source": [
        "import numpy as np\n",
        "import pandas as pd\n",
        "import tensorflow as tf\n",
        "import os\n",
        "import keras\n",
        "from keras.models import Sequential, Model\n",
        "from keras.layers import GlobalAveragePooling2D, Dense, Input, Dropout, concatenate\n",
        "from keras.applications.vgg16 import VGG16\n",
        "from sklearn.model_selection import train_test_split\n",
        "\n",
        "from math import ceil\n",
        "import datetime"
      ],
      "metadata": {
        "id": "iyArE2yPgBRP"
      },
      "execution_count": null,
      "outputs": []
    },
    {
      "cell_type": "code",
      "source": [
        "x = concatenate([x3, x2,x1])\n",
        "#x = Sequential()(x)\n",
        "x = Dense(16, activation='relu')(x) \n",
        "x = Dropout(0.2)(x)\n",
        "predictions = Dense(1, activation='sigmoid')(x)\n",
        "\n",
        "\n",
        "model4 = Model(inputs=[model3.input, model2.input,model.input], outputs=predictions) # Inputs go into 3 different layers\n",
        "model4.compile(optimizer='adam', loss='binary_crossentropy', metrics=['accuracy'])"
      ],
      "metadata": {
        "id": "p4Ri2kW4f50-"
      },
      "execution_count": null,
      "outputs": []
    },
    {
      "cell_type": "code",
      "source": [
        "model4.input"
      ],
      "metadata": {
        "colab": {
          "base_uri": "https://localhost:8080/"
        },
        "id": "0PrOSYa3BEhX",
        "outputId": "0b7e960d-82a6-45a5-e219-651d0e7dea48"
      },
      "execution_count": null,
      "outputs": [
        {
          "output_type": "execute_result",
          "data": {
            "text/plain": [
              "[<KerasTensor: shape=(None, 197, 1) dtype=float32 (created by layer 'conv1d_8_input')>,\n",
              " <KerasTensor: shape=(None, 324, 1) dtype=float32 (created by layer 'conv1d_4_input')>,\n",
              " <KerasTensor: shape=(None, 8, 1) dtype=float32 (created by layer 'conv1d_input')>]"
            ]
          },
          "metadata": {},
          "execution_count": 9
        }
      ]
    },
    {
      "cell_type": "code",
      "source": [
        "\n",
        "\n",
        "\n",
        "history =model4.fit((X_train[:,:197],X_train[:,197:521],X_train[:,521:529]),y_train, batch_size=32, epochs=17, validation_split=0.1)\n",
        "plt.plot(history.history['accuracy'])\n",
        "plt.plot(history.history['val_accuracy'])\n",
        "plt.title('model accuracy')\n",
        "plt.ylabel('accuracy')\n",
        "plt.xlabel('epoch')\n",
        "plt.legend(['train', 'val'], loc='upper left')\n",
        "plt.show()\n",
        "\n",
        "\n",
        "plt.plot(history.history['loss'])\n",
        "plt.plot(history.history['val_loss'])\n",
        "plt.title('model loss')\n",
        "plt.ylabel('loss')\n",
        "plt.xlabel('epoch')\n",
        "plt.legend(['train', 'val'], loc='upper left')\n",
        "plt.show()"
      ],
      "metadata": {
        "colab": {
          "base_uri": "https://localhost:8080/",
          "height": 1000
        },
        "id": "7A32H2eFZxiH",
        "outputId": "c043baab-7fd2-4279-fa49-53a7acf8bca2"
      },
      "execution_count": null,
      "outputs": [
        {
          "output_type": "stream",
          "name": "stdout",
          "text": [
            "Epoch 1/17\n",
            "6/6 [==============================] - 8s 692ms/step - loss: 0.6859 - accuracy: 0.5167 - val_loss: 0.6297 - val_accuracy: 0.5714\n",
            "Epoch 2/17\n",
            "6/6 [==============================] - 4s 612ms/step - loss: 0.6567 - accuracy: 0.6333 - val_loss: 0.5716 - val_accuracy: 0.6667\n",
            "Epoch 3/17\n",
            "6/6 [==============================] - 4s 609ms/step - loss: 0.6013 - accuracy: 0.6444 - val_loss: 0.4682 - val_accuracy: 0.8571\n",
            "Epoch 4/17\n",
            "6/6 [==============================] - 4s 609ms/step - loss: 0.5552 - accuracy: 0.7111 - val_loss: 0.4435 - val_accuracy: 0.7619\n",
            "Epoch 5/17\n",
            "6/6 [==============================] - 4s 615ms/step - loss: 0.5590 - accuracy: 0.7111 - val_loss: 0.3833 - val_accuracy: 0.9048\n",
            "Epoch 6/17\n",
            "6/6 [==============================] - 4s 611ms/step - loss: 0.4330 - accuracy: 0.7889 - val_loss: 0.4188 - val_accuracy: 0.8095\n",
            "Epoch 7/17\n",
            "6/6 [==============================] - 4s 609ms/step - loss: 0.4508 - accuracy: 0.8000 - val_loss: 0.2880 - val_accuracy: 0.9048\n",
            "Epoch 8/17\n",
            "6/6 [==============================] - 4s 615ms/step - loss: 0.4779 - accuracy: 0.7833 - val_loss: 0.3538 - val_accuracy: 0.8095\n",
            "Epoch 9/17\n",
            "6/6 [==============================] - 4s 610ms/step - loss: 0.4647 - accuracy: 0.7889 - val_loss: 0.2890 - val_accuracy: 0.9048\n",
            "Epoch 10/17\n",
            "6/6 [==============================] - 4s 606ms/step - loss: 0.3953 - accuracy: 0.8167 - val_loss: 0.3882 - val_accuracy: 0.8571\n",
            "Epoch 11/17\n",
            "6/6 [==============================] - 4s 606ms/step - loss: 0.3643 - accuracy: 0.8500 - val_loss: 0.2661 - val_accuracy: 0.9048\n",
            "Epoch 12/17\n",
            "6/6 [==============================] - 4s 609ms/step - loss: 0.3116 - accuracy: 0.8778 - val_loss: 0.2555 - val_accuracy: 0.9048\n",
            "Epoch 13/17\n",
            "6/6 [==============================] - 4s 610ms/step - loss: 0.2828 - accuracy: 0.8833 - val_loss: 0.1900 - val_accuracy: 0.9524\n",
            "Epoch 14/17\n",
            "6/6 [==============================] - 4s 605ms/step - loss: 0.2542 - accuracy: 0.9056 - val_loss: 0.1747 - val_accuracy: 0.9524\n",
            "Epoch 15/17\n",
            "6/6 [==============================] - 4s 610ms/step - loss: 0.3022 - accuracy: 0.8778 - val_loss: 0.1830 - val_accuracy: 0.9524\n",
            "Epoch 16/17\n",
            "6/6 [==============================] - 4s 602ms/step - loss: 0.2623 - accuracy: 0.9000 - val_loss: 0.2520 - val_accuracy: 0.9048\n",
            "Epoch 17/17\n",
            "6/6 [==============================] - 4s 604ms/step - loss: 0.2653 - accuracy: 0.8833 - val_loss: 0.1841 - val_accuracy: 0.9524\n"
          ]
        },
        {
          "output_type": "display_data",
          "data": {
            "text/plain": [
              "<Figure size 432x288 with 1 Axes>"
            ],
            "image/png": "[encoded data removed]"
          },
          "metadata": {
            "needs_background": "light"
          }
        },
        {
          "output_type": "display_data",
          "data": {
            "text/plain": [
              "<Figure size 432x288 with 1 Axes>"
            ],
            "image/png": "[encoded data removed]"
          },
          "metadata": {
            "needs_background": "light"
          }
        }
      ]
    },
    {
      "cell_type": "code",
      "source": [
        "import os\n",
        "\n",
        "import tensorflow as tf\n",
        "from tensorflow import keras\n",
        "\n",
        "print(tf.version.VERSION)\n",
        "model4.save('/content/drive/MyDrive/Grad2Models/cinsiyetLate')"
      ],
      "metadata": {
        "colab": {
          "base_uri": "https://localhost:8080/"
        },
        "id": "ab0gIBFUheUH",
        "outputId": "0555b296-9c33-4f76-a824-fefee2951b6a"
      },
      "execution_count": null,
      "outputs": [
        {
          "output_type": "stream",
          "name": "stdout",
          "text": [
            "2.8.2\n",
            "INFO:tensorflow:Assets written to: /content/drive/MyDrive/Grad2Models/cinsiyetLate/assets\n"
          ]
        }
      ]
    },
    {
      "cell_type": "code",
      "source": [
        "import os\n",
        "\n",
        "import tensorflow as tf\n",
        "from tensorflow import keras\n",
        "new_model = tf.keras.models.load_model('/content/drive/MyDrive/Grad2Models/cinsiyetLate', compile=False)\n",
        "\n",
        "# Check its architecture\n",
        "new_model.summary()"
      ],
      "metadata": {
        "colab": {
          "base_uri": "https://localhost:8080/"
        },
        "id": "bBfYA-TihrcC",
        "outputId": "40f363f5-4607-41f4-a5fd-cf0fd4337c43"
      },
      "execution_count": null,
      "outputs": [
        {
          "output_type": "stream",
          "name": "stdout",
          "text": [
            "Model: \"model\"\n",
            "__________________________________________________________________________________________________\n",
            " Layer (type)                   Output Shape         Param #     Connected to                     \n",
            "==================================================================================================\n",
            " conv1d_8_input (InputLayer)    [(None, 197, 1)]     0           []                               \n",
            "                                                                                                  \n",
            " conv1d_4_input (InputLayer)    [(None, 324, 1)]     0           []                               \n",
            "                                                                                                  \n",
            " conv1d_input (InputLayer)      [(None, 8, 1)]       0           []                               \n",
            "                                                                                                  \n",
            " conv1d_8 (Conv1D)              (None, 195, 256)     1024        ['conv1d_8_input[0][0]']         \n",
            "                                                                                                  \n",
            " conv1d_4 (Conv1D)              (None, 322, 256)     1024        ['conv1d_4_input[0][0]']         \n",
            "                                                                                                  \n",
            " conv1d (Conv1D)                (None, 6, 256)       1024        ['conv1d_input[0][0]']           \n",
            "                                                                                                  \n",
            " conv1d_9 (Conv1D)              (None, 193, 256)     196864      ['conv1d_8[0][0]']               \n",
            "                                                                                                  \n",
            " conv1d_5 (Conv1D)              (None, 320, 256)     196864      ['conv1d_4[0][0]']               \n",
            "                                                                                                  \n",
            " conv1d_1 (Conv1D)              (None, 4, 256)       196864      ['conv1d[0][0]']                 \n",
            "                                                                                                  \n",
            " dropout_6 (Dropout)            (None, 193, 256)     0           ['conv1d_9[0][0]']               \n",
            "                                                                                                  \n",
            " dropout_3 (Dropout)            (None, 320, 256)     0           ['conv1d_5[0][0]']               \n",
            "                                                                                                  \n",
            " dropout (Dropout)              (None, 4, 256)       0           ['conv1d_1[0][0]']               \n",
            "                                                                                                  \n",
            " max_pooling1d_6 (MaxPooling1D)  (None, 96, 256)     0           ['dropout_6[0][0]']              \n",
            "                                                                                                  \n",
            " max_pooling1d_3 (MaxPooling1D)  (None, 160, 256)    0           ['dropout_3[0][0]']              \n",
            "                                                                                                  \n",
            " max_pooling1d (MaxPooling1D)   (None, 2, 256)       0           ['dropout[0][0]']                \n",
            "                                                                                                  \n",
            " conv1d_10 (Conv1D)             (None, 94, 128)      98432       ['max_pooling1d_6[0][0]']        \n",
            "                                                                                                  \n",
            " conv1d_6 (Conv1D)              (None, 158, 128)     98432       ['max_pooling1d_3[0][0]']        \n",
            "                                                                                                  \n",
            " conv1d_2 (Conv1D)              (None, 1, 128)       65664       ['max_pooling1d[0][0]']          \n",
            "                                                                                                  \n",
            " max_pooling1d_7 (MaxPooling1D)  (None, 47, 128)     0           ['conv1d_10[0][0]']              \n",
            "                                                                                                  \n",
            " max_pooling1d_4 (MaxPooling1D)  (None, 79, 128)     0           ['conv1d_6[0][0]']               \n",
            "                                                                                                  \n",
            " max_pooling1d_1 (MaxPooling1D)  (None, 1, 128)      0           ['conv1d_2[0][0]']               \n",
            "                                                                                                  \n",
            " dropout_7 (Dropout)            (None, 47, 128)      0           ['max_pooling1d_7[0][0]']        \n",
            "                                                                                                  \n",
            " dropout_4 (Dropout)            (None, 79, 128)      0           ['max_pooling1d_4[0][0]']        \n",
            "                                                                                                  \n",
            " dropout_1 (Dropout)            (None, 1, 128)       0           ['max_pooling1d_1[0][0]']        \n",
            "                                                                                                  \n",
            " conv1d_11 (Conv1D)             (None, 45, 64)       24640       ['dropout_7[0][0]']              \n",
            "                                                                                                  \n",
            " conv1d_7 (Conv1D)              (None, 77, 64)       24640       ['dropout_4[0][0]']              \n",
            "                                                                                                  \n",
            " conv1d_3 (Conv1D)              (None, 1, 64)        8256        ['dropout_1[0][0]']              \n",
            "                                                                                                  \n",
            " max_pooling1d_8 (MaxPooling1D)  (None, 22, 64)      0           ['conv1d_11[0][0]']              \n",
            "                                                                                                  \n",
            " max_pooling1d_5 (MaxPooling1D)  (None, 38, 64)      0           ['conv1d_7[0][0]']               \n",
            "                                                                                                  \n",
            " max_pooling1d_2 (MaxPooling1D)  (None, 1, 64)       0           ['conv1d_3[0][0]']               \n",
            "                                                                                                  \n",
            " dropout_8 (Dropout)            (None, 22, 64)       0           ['max_pooling1d_8[0][0]']        \n",
            "                                                                                                  \n",
            " dropout_5 (Dropout)            (None, 38, 64)       0           ['max_pooling1d_5[0][0]']        \n",
            "                                                                                                  \n",
            " dropout_2 (Dropout)            (None, 1, 64)        0           ['max_pooling1d_2[0][0]']        \n",
            "                                                                                                  \n",
            " flatten_2 (Flatten)            (None, 1408)         0           ['dropout_8[0][0]']              \n",
            "                                                                                                  \n",
            " flatten_1 (Flatten)            (None, 2432)         0           ['dropout_5[0][0]']              \n",
            "                                                                                                  \n",
            " flatten (Flatten)              (None, 64)           0           ['dropout_2[0][0]']              \n",
            "                                                                                                  \n",
            " concatenate (Concatenate)      (None, 3904)         0           ['flatten_2[0][0]',              \n",
            "                                                                  'flatten_1[0][0]',              \n",
            "                                                                  'flatten[0][0]']                \n",
            "                                                                                                  \n",
            " dense (Dense)                  (None, 16)           62480       ['concatenate[0][0]']            \n",
            "                                                                                                  \n",
            " dropout_9 (Dropout)            (None, 16)           0           ['dense[0][0]']                  \n",
            "                                                                                                  \n",
            " dense_1 (Dense)                (None, 1)            17          ['dropout_9[0][0]']              \n",
            "                                                                                                  \n",
            "==================================================================================================\n",
            "Total params: 976,225\n",
            "Trainable params: 976,225\n",
            "Non-trainable params: 0\n",
            "__________________________________________________________________________________________________\n"
          ]
        }
      ]
    },
    {
      "cell_type": "code",
      "source": [
        "prediction=new_model.predict((X_test[:,:197],X_test[:,197:521],X_test[:,521:529]))\n",
        "\n",
        "for i in range (prediction.shape[0]):\n",
        "  if prediction[i]< 0.5:\n",
        "    prediction[i]=0\n",
        "  else:\n",
        "    prediction[i]=1  \n",
        "    \n",
        "\n",
        "yout=y_test.to_numpy()    \n",
        "counter=0\n",
        "\n",
        "\n",
        "for i in range (prediction.shape[0]):\n",
        "  print(\"pred\",prediction[i],\"---- Real\",yout[i])\n",
        "  if prediction[i] == yout[i] :\n",
        "    counter=counter+1\n",
        "\n",
        "\n",
        "print(\"Accuracy is \",counter,\"%\")\n"
      ],
      "metadata": {
        "id": "pIGMEeaPCb8z",
        "colab": {
          "base_uri": "https://localhost:8080/"
        },
        "outputId": "0da86401-a436-4e92-8805-fae194cfece2"
      },
      "execution_count": null,
      "outputs": [
        {
          "output_type": "stream",
          "name": "stdout",
          "text": [
            "pred [0.] ---- Real [0.]\n",
            "pred [0.] ---- Real [0.]\n",
            "pred [1.] ---- Real [1.]\n",
            "pred [0.] ---- Real [0.]\n",
            "pred [0.] ---- Real [0.]\n",
            "pred [0.] ---- Real [1.]\n",
            "pred [1.] ---- Real [0.]\n",
            "pred [1.] ---- Real [1.]\n",
            "pred [0.] ---- Real [0.]\n",
            "pred [1.] ---- Real [0.]\n",
            "pred [1.] ---- Real [0.]\n",
            "pred [1.] ---- Real [1.]\n",
            "pred [1.] ---- Real [1.]\n",
            "pred [1.] ---- Real [1.]\n",
            "pred [0.] ---- Real [0.]\n",
            "pred [1.] ---- Real [0.]\n",
            "pred [0.] ---- Real [0.]\n",
            "pred [0.] ---- Real [0.]\n",
            "pred [1.] ---- Real [1.]\n",
            "pred [1.] ---- Real [1.]\n",
            "pred [1.] ---- Real [1.]\n",
            "pred [1.] ---- Real [0.]\n",
            "pred [0.] ---- Real [0.]\n",
            "pred [1.] ---- Real [0.]\n",
            "pred [0.] ---- Real [0.]\n",
            "pred [0.] ---- Real [0.]\n",
            "pred [1.] ---- Real [1.]\n",
            "pred [1.] ---- Real [1.]\n",
            "pred [0.] ---- Real [0.]\n",
            "pred [1.] ---- Real [1.]\n",
            "pred [0.] ---- Real [0.]\n",
            "pred [0.] ---- Real [0.]\n",
            "pred [1.] ---- Real [1.]\n",
            "pred [0.] ---- Real [0.]\n",
            "pred [1.] ---- Real [1.]\n",
            "pred [0.] ---- Real [0.]\n",
            "pred [0.] ---- Real [1.]\n",
            "pred [1.] ---- Real [1.]\n",
            "pred [0.] ---- Real [0.]\n",
            "pred [0.] ---- Real [0.]\n",
            "pred [0.] ---- Real [0.]\n",
            "pred [1.] ---- Real [0.]\n",
            "pred [0.] ---- Real [0.]\n",
            "pred [0.] ---- Real [0.]\n",
            "pred [1.] ---- Real [0.]\n",
            "pred [0.] ---- Real [0.]\n",
            "pred [1.] ---- Real [0.]\n",
            "pred [1.] ---- Real [1.]\n",
            "pred [1.] ---- Real [1.]\n",
            "pred [0.] ---- Real [0.]\n",
            "pred [1.] ---- Real [1.]\n",
            "pred [0.] ---- Real [0.]\n",
            "pred [1.] ---- Real [1.]\n",
            "pred [1.] ---- Real [1.]\n",
            "pred [1.] ---- Real [1.]\n",
            "pred [1.] ---- Real [1.]\n",
            "pred [1.] ---- Real [0.]\n",
            "pred [0.] ---- Real [0.]\n",
            "pred [1.] ---- Real [0.]\n",
            "pred [0.] ---- Real [1.]\n",
            "pred [0.] ---- Real [1.]\n",
            "pred [0.] ---- Real [1.]\n",
            "pred [0.] ---- Real [1.]\n",
            "pred [0.] ---- Real [0.]\n",
            "pred [1.] ---- Real [1.]\n",
            "pred [1.] ---- Real [0.]\n",
            "pred [0.] ---- Real [0.]\n",
            "pred [1.] ---- Real [1.]\n",
            "pred [1.] ---- Real [0.]\n",
            "pred [0.] ---- Real [0.]\n",
            "pred [0.] ---- Real [0.]\n",
            "pred [1.] ---- Real [1.]\n",
            "pred [0.] ---- Real [0.]\n",
            "pred [1.] ---- Real [1.]\n",
            "pred [1.] ---- Real [1.]\n",
            "pred [0.] ---- Real [0.]\n",
            "pred [0.] ---- Real [0.]\n",
            "pred [0.] ---- Real [1.]\n",
            "pred [0.] ---- Real [0.]\n",
            "pred [0.] ---- Real [0.]\n",
            "pred [0.] ---- Real [0.]\n",
            "pred [0.] ---- Real [1.]\n",
            "pred [0.] ---- Real [0.]\n",
            "pred [1.] ---- Real [1.]\n",
            "pred [0.] ---- Real [1.]\n",
            "pred [0.] ---- Real [0.]\n",
            "pred [0.] ---- Real [0.]\n",
            "pred [1.] ---- Real [1.]\n",
            "pred [1.] ---- Real [1.]\n",
            "pred [0.] ---- Real [0.]\n",
            "pred [1.] ---- Real [1.]\n",
            "pred [0.] ---- Real [0.]\n",
            "pred [1.] ---- Real [1.]\n",
            "pred [0.] ---- Real [0.]\n",
            "pred [1.] ---- Real [1.]\n",
            "pred [0.] ---- Real [0.]\n",
            "pred [1.] ---- Real [1.]\n",
            "pred [1.] ---- Real [1.]\n",
            "pred [1.] ---- Real [0.]\n",
            "pred [1.] ---- Real [1.]\n",
            "Accuracy is  77 %\n"
          ]
        }
      ]
    },
    {
      "cell_type": "code",
      "source": [
        "from sklearn.metrics import confusion_matrix\n",
        "import seaborn as sns\n",
        "sns.set()\n",
        "cm = confusion_matrix(yout, prediction)"
      ],
      "metadata": {
        "id": "EE7sW8fMAC6Q"
      },
      "execution_count": null,
      "outputs": []
    },
    {
      "cell_type": "code",
      "source": [
        "p = sns.heatmap(pd.DataFrame(cm), annot=True, cmap=\"YlGnBu\" ,fmt='g')\n",
        "plt.title('Confusion matrix', y=1.1)\n",
        "plt.ylabel('Actual label')\n",
        "plt.xlabel('Predicted label')"
      ],
      "metadata": {
        "colab": {
          "base_uri": "https://localhost:8080/",
          "height": 318
        },
        "id": "uAagFuNJbHYy",
        "outputId": "7a848d26-da34-4943-c6f1-566b5e376ece"
      },
      "execution_count": null,
      "outputs": [
        {
          "output_type": "execute_result",
          "data": {
            "text/plain": [
              "Text(0.5, 12.5, 'Predicted label')"
            ]
          },
          "metadata": {},
          "execution_count": 13
        },
        {
          "output_type": "display_data",
          "data": {
            "text/plain": [
              "<Figure size 432x288 with 2 Axes>"
            ],
            "image/png": "[encoded data removed]"
          },
          "metadata": {}
        }
      ]
    },
    {
      "cell_type": "code",
      "source": [
        "from sklearn.metrics import classification_report\n",
        "print(classification_report(yout,prediction))"
      ],
      "metadata": {
        "colab": {
          "base_uri": "https://localhost:8080/"
        },
        "id": "RuaXh59HbJSv",
        "outputId": "c5d55aab-e658-4601-dfa3-518571049a83"
      },
      "execution_count": null,
      "outputs": [
        {
          "output_type": "stream",
          "name": "stdout",
          "text": [
            "              precision    recall  f1-score   support\n",
            "\n",
            "         0.0       0.82      0.75      0.79        56\n",
            "         1.0       0.71      0.80      0.75        44\n",
            "\n",
            "    accuracy                           0.77       100\n",
            "   macro avg       0.77      0.77      0.77       100\n",
            "weighted avg       0.78      0.77      0.77       100\n",
            "\n"
          ]
        }
      ]
    },
    {
      "cell_type": "code",
      "source": [
        "from sklearn.metrics import roc_curve\n",
        "from sklearn.metrics import roc_auc_score\n",
        "from matplotlib import pyplot\n",
        "\n",
        "ns_probs = [0 for _ in range(len(yout))]\n",
        "\n",
        "ns_auc = roc_auc_score(yout, ns_probs)\n",
        "lr_auc = roc_auc_score(yout, prediction)\n",
        "\n",
        "ns_fpr, ns_tpr, _ = roc_curve(yout, ns_probs)\n",
        "lr_fpr, lr_tpr, _ = roc_curve(yout, prediction)\n",
        "\n",
        "pyplot.plot(ns_fpr, ns_tpr, linestyle='--', label='No Skill')\n",
        "pyplot.plot(lr_fpr, lr_tpr, marker='.', label='Logistic')\n",
        "# axis labels\n",
        "pyplot.xlabel('False Positive Rate')\n",
        "pyplot.ylabel('True Positive Rate')\n",
        "# show the legend\n",
        "pyplot.legend()\n",
        "# show the plot\n",
        "pyplot.show()"
      ],
      "metadata": {
        "id": "5CXDAAUUbTQL",
        "colab": {
          "base_uri": "https://localhost:8080/",
          "height": 279
        },
        "outputId": "54629a1c-c646-4404-92cf-88e417926480"
      },
      "execution_count": null,
      "outputs": [
        {
          "output_type": "display_data",
          "data": {
            "text/plain": [
              "<Figure size 432x288 with 1 Axes>"
            ],
            "image/png": "[encoded data removed]"
          },
          "metadata": {
            "needs_background": "light"
          }
        }
      ]
    }
  ]
}