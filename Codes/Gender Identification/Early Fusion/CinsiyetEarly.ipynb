{
  "nbformat": 4,
  "nbformat_minor": 0,
  "metadata": {
    "colab": {
      "name": "CinsiyetEarly.ipynb",
      "provenance": []
    },
    "kernelspec": {
      "name": "python3",
      "display_name": "Python 3"
    },
    "language_info": {
      "name": "python"
    }
  },
  "cells": [
    {
      "cell_type": "code",
      "execution_count": null,
      "metadata": {
        "id": "ZRqvORC1i0B1"
      },
      "outputs": [],
      "source": [
        "import pandas as pd\n",
        "import numpy as np\n",
        "\n",
        "urineDS=pd.read_csv(\"/content/drive/MyDrive/Grad2/lastUrine.csv\")\n",
        "urineDS=urineDS.iloc[:,1:]\n",
        "\n",
        "from sklearn.preprocessing import StandardScaler\n",
        "\n",
        "\n",
        "urineOutput=urineDS.iloc[2:,0:1]\n",
        "urineInput=urineDS.iloc[2:,4:]\n",
        "\n",
        "data = urineInput\n",
        "scaler = StandardScaler()\n",
        "scaler.fit(data)\n",
        "urineInput=scaler.transform(data)\n"
      ]
    },
    {
      "cell_type": "code",
      "source": [
        "import numpy as np\n",
        "from sklearn.model_selection import train_test_split\n",
        "X_train, X_test, y_train, y_test = train_test_split(urineInput, urineOutput, test_size=0.33, random_state=0)"
      ],
      "metadata": {
        "id": "HzdPQhXFi9Lv"
      },
      "execution_count": null,
      "outputs": []
    },
    {
      "cell_type": "code",
      "source": [
        "X_train=X_train.astype(np.float64)\n",
        "X_test=X_test.astype(np.float64)\n",
        "y_train=y_train.astype(np.float64)-1\n",
        "y_test=y_test.astype(np.float64)-1\n",
        "\n",
        "print(y_train)"
      ],
      "metadata": {
        "colab": {
          "base_uri": "https://localhost:8080/"
        },
        "id": "mectSKfQi-_G",
        "outputId": "1f07aa32-c1e8-4751-8606-3bfd5f9f3424"
      },
      "execution_count": null,
      "outputs": [
        {
          "output_type": "stream",
          "name": "stdout",
          "text": [
            "     Metadata\n",
            "231       1.0\n",
            "20        1.0\n",
            "169       0.0\n",
            "254       1.0\n",
            "126       0.0\n",
            "..        ...\n",
            "253       0.0\n",
            "194       0.0\n",
            "119       1.0\n",
            "49        1.0\n",
            "174       1.0\n",
            "\n",
            "[201 rows x 1 columns]\n"
          ]
        }
      ]
    },
    {
      "cell_type": "code",
      "source": [
        "from tensorflow.keras.models import Sequential\n",
        "from tensorflow.keras.layers import Conv1D, Dense, MaxPooling1D, Flatten,concatenate\n",
        "\n",
        "from tensorflow.keras.optimizers import Adam\n",
        "from keras.layers import Dropout\n",
        "import keras\n",
        "from matplotlib import pyplot as plt\n",
        "\n",
        "model = Sequential()\n",
        "model.add(Conv1D(256, 3, activation='relu', input_shape=(529, 1)))\n",
        "model.add(Conv1D(256, 3, activation='relu'))\n",
        "model.add(Dropout(0.25))\n",
        "model.add(MaxPooling1D(2))\n",
        "model.add(Conv1D(128, 2, activation='relu'))\n",
        "model.add(MaxPooling1D(1))\n",
        "model.add(Dropout(0.25))\n",
        "model.add(Conv1D(64, 1, activation='relu'))\n",
        "model.add(MaxPooling1D(1))\n",
        "model.add(Dropout(0.5))\n",
        "model.add(Flatten())\n",
        "model.add(Dense(16, activation='relu'))\n",
        "model.add(Dense(1, activation='relu'))\n",
        "model.compile(optimizer='adam', loss='binary_crossentropy', metrics=['accuracy'])"
      ],
      "metadata": {
        "id": "bPGxxleWjBfj"
      },
      "execution_count": null,
      "outputs": []
    },
    {
      "cell_type": "code",
      "source": [
        "history =model.fit(X_train,y_train, batch_size=32, epochs=7, validation_split=0.1)\n",
        "plt.plot(history.history['accuracy'])\n",
        "plt.plot(history.history['val_accuracy'])\n",
        "plt.title('model accuracy')\n",
        "plt.ylabel('accuracy')\n",
        "plt.xlabel('epoch')\n",
        "plt.legend(['train', 'val'], loc='upper left')\n",
        "plt.show()\n",
        "\n",
        "\n",
        "plt.plot(history.history['loss'])\n",
        "plt.plot(history.history['val_loss'])\n",
        "plt.title('model loss')\n",
        "plt.ylabel('loss')\n",
        "plt.xlabel('epoch')\n",
        "plt.legend(['train', 'val'], loc='upper left')\n",
        "plt.show()"
      ],
      "metadata": {
        "colab": {
          "base_uri": "https://localhost:8080/",
          "height": 828
        },
        "id": "bes7MhDcjLUS",
        "outputId": "a75a0e47-adda-4eae-809e-8d029e7a48c3"
      },
      "execution_count": null,
      "outputs": [
        {
          "output_type": "stream",
          "name": "stdout",
          "text": [
            "Epoch 1/7\n",
            "6/6 [==============================] - 5s 615ms/step - loss: 4.2453 - accuracy: 0.4667 - val_loss: 0.9192 - val_accuracy: 0.5714\n",
            "Epoch 2/7\n",
            "6/6 [==============================] - 3s 561ms/step - loss: 3.7495 - accuracy: 0.5778 - val_loss: 0.6982 - val_accuracy: 0.5714\n",
            "Epoch 3/7\n",
            "6/6 [==============================] - 3s 568ms/step - loss: 0.8620 - accuracy: 0.5722 - val_loss: 0.5708 - val_accuracy: 0.7143\n",
            "Epoch 4/7\n",
            "6/6 [==============================] - 3s 570ms/step - loss: 0.5854 - accuracy: 0.6889 - val_loss: 0.6557 - val_accuracy: 0.5714\n",
            "Epoch 5/7\n",
            "6/6 [==============================] - 3s 574ms/step - loss: 0.5547 - accuracy: 0.6889 - val_loss: 0.5381 - val_accuracy: 0.6190\n",
            "Epoch 6/7\n",
            "6/6 [==============================] - 3s 573ms/step - loss: 0.4555 - accuracy: 0.7833 - val_loss: 0.4208 - val_accuracy: 0.7619\n",
            "Epoch 7/7\n",
            "6/6 [==============================] - 3s 571ms/step - loss: 0.4217 - accuracy: 0.8444 - val_loss: 0.4326 - val_accuracy: 0.7619\n"
          ]
        },
        {
          "output_type": "display_data",
          "data": {
            "text/plain": [
              "<Figure size 432x288 with 1 Axes>"
            ],
            "image/png": "[encoded data removed]"
          },
          "metadata": {}
        },
        {
          "output_type": "display_data",
          "data": {
            "text/plain": [
              "<Figure size 432x288 with 1 Axes>"
            ],
            "image/png": "[encoded data removed]"
          },
          "metadata": {}
        }
      ]
    },
    {
      "cell_type": "code",
      "source": [
        "import os\n",
        "\n",
        "import tensorflow as tf\n",
        "from tensorflow import keras\n",
        "\n",
        "print(tf.version.VERSION)\n",
        "model.save('/content/drive/MyDrive/Grad2Models/cinsiyetEarly')"
      ],
      "metadata": {
        "colab": {
          "base_uri": "https://localhost:8080/"
        },
        "id": "Lz_3kKezjNDw",
        "outputId": "e5495e7a-9225-4ac0-d537-c77fabff6c9d"
      },
      "execution_count": null,
      "outputs": [
        {
          "output_type": "stream",
          "name": "stdout",
          "text": [
            "2.8.2\n",
            "INFO:tensorflow:Assets written to: /content/drive/MyDrive/Grad2Models/cinsiyetEarly/assets\n"
          ]
        }
      ]
    },
    {
      "cell_type": "code",
      "source": [
        "import os\n",
        "\n",
        "import tensorflow as tf\n",
        "from tensorflow import keras\n",
        "new_model = tf.keras.models.load_model('/content/drive/MyDrive/Grad2Models/cinsiyetEarly', compile=False)\n",
        "\n",
        "# Check its architecture\n",
        "new_model.summary()"
      ],
      "metadata": {
        "colab": {
          "base_uri": "https://localhost:8080/"
        },
        "id": "MbAnZdTqjPr-",
        "outputId": "6221e15a-efb1-455e-e4b4-fd2606db728b"
      },
      "execution_count": null,
      "outputs": [
        {
          "output_type": "stream",
          "name": "stdout",
          "text": [
            "Model: \"sequential_1\"\n",
            "_________________________________________________________________\n",
            " Layer (type)                Output Shape              Param #   \n",
            "=================================================================\n",
            " conv1d_4 (Conv1D)           (None, 527, 256)          1024      \n",
            "                                                                 \n",
            " conv1d_5 (Conv1D)           (None, 525, 256)          196864    \n",
            "                                                                 \n",
            " dropout_3 (Dropout)         (None, 525, 256)          0         \n",
            "                                                                 \n",
            " max_pooling1d_3 (MaxPooling  (None, 262, 256)         0         \n",
            " 1D)                                                             \n",
            "                                                                 \n",
            " conv1d_6 (Conv1D)           (None, 261, 128)          65664     \n",
            "                                                                 \n",
            " max_pooling1d_4 (MaxPooling  (None, 261, 128)         0         \n",
            " 1D)                                                             \n",
            "                                                                 \n",
            " dropout_4 (Dropout)         (None, 261, 128)          0         \n",
            "                                                                 \n",
            " conv1d_7 (Conv1D)           (None, 261, 64)           8256      \n",
            "                                                                 \n",
            " max_pooling1d_5 (MaxPooling  (None, 261, 64)          0         \n",
            " 1D)                                                             \n",
            "                                                                 \n",
            " dropout_5 (Dropout)         (None, 261, 64)           0         \n",
            "                                                                 \n",
            " flatten_1 (Flatten)         (None, 16704)             0         \n",
            "                                                                 \n",
            " dense_2 (Dense)             (None, 16)                267280    \n",
            "                                                                 \n",
            " dense_3 (Dense)             (None, 1)                 17        \n",
            "                                                                 \n",
            "=================================================================\n",
            "Total params: 539,105\n",
            "Trainable params: 539,105\n",
            "Non-trainable params: 0\n",
            "_________________________________________________________________\n"
          ]
        }
      ]
    },
    {
      "cell_type": "code",
      "source": [
        "prediction=new_model.predict(X_test)\n",
        "\n",
        "for i in range (prediction.shape[0]):\n",
        "  if prediction[i]< 0.5:\n",
        "    prediction[i]=0\n",
        "  else:\n",
        "    prediction[i]=1  \n",
        "    \n",
        "\n",
        "yout=y_test.to_numpy()    \n",
        "counter=0\n",
        "\n",
        "\n",
        "for i in range (prediction.shape[0]):\n",
        "  print(\"pred\",prediction[i],\"---- Real\",yout[i])\n",
        "  if prediction[i] == yout[i] :\n",
        "    counter=counter+1\n",
        "\n",
        "\n",
        "print(\"Accuracy is \",counter,\"%\")"
      ],
      "metadata": {
        "colab": {
          "base_uri": "https://localhost:8080/"
        },
        "id": "opaFOp68jXcL",
        "outputId": "1645b02a-1681-4727-f07e-548834c4dfa0"
      },
      "execution_count": null,
      "outputs": [
        {
          "output_type": "stream",
          "name": "stdout",
          "text": [
            "pred [0.] ---- Real [0.]\n",
            "pred [0.] ---- Real [0.]\n",
            "pred [1.] ---- Real [1.]\n",
            "pred [0.] ---- Real [0.]\n",
            "pred [0.] ---- Real [0.]\n",
            "pred [1.] ---- Real [1.]\n",
            "pred [1.] ---- Real [0.]\n",
            "pred [1.] ---- Real [1.]\n",
            "pred [0.] ---- Real [0.]\n",
            "pred [0.] ---- Real [0.]\n",
            "pred [0.] ---- Real [0.]\n",
            "pred [1.] ---- Real [1.]\n",
            "pred [1.] ---- Real [1.]\n",
            "pred [1.] ---- Real [1.]\n",
            "pred [0.] ---- Real [0.]\n",
            "pred [0.] ---- Real [0.]\n",
            "pred [0.] ---- Real [0.]\n",
            "pred [0.] ---- Real [0.]\n",
            "pred [1.] ---- Real [1.]\n",
            "pred [1.] ---- Real [1.]\n",
            "pred [1.] ---- Real [1.]\n",
            "pred [1.] ---- Real [0.]\n",
            "pred [0.] ---- Real [0.]\n",
            "pred [0.] ---- Real [0.]\n",
            "pred [0.] ---- Real [0.]\n",
            "pred [0.] ---- Real [0.]\n",
            "pred [1.] ---- Real [1.]\n",
            "pred [1.] ---- Real [1.]\n",
            "pred [0.] ---- Real [0.]\n",
            "pred [1.] ---- Real [1.]\n",
            "pred [0.] ---- Real [0.]\n",
            "pred [0.] ---- Real [0.]\n",
            "pred [1.] ---- Real [1.]\n",
            "pred [0.] ---- Real [0.]\n",
            "pred [1.] ---- Real [1.]\n",
            "pred [0.] ---- Real [0.]\n",
            "pred [0.] ---- Real [1.]\n",
            "pred [1.] ---- Real [1.]\n",
            "pred [0.] ---- Real [0.]\n",
            "pred [0.] ---- Real [0.]\n",
            "pred [0.] ---- Real [0.]\n",
            "pred [1.] ---- Real [0.]\n",
            "pred [0.] ---- Real [0.]\n",
            "pred [0.] ---- Real [0.]\n",
            "pred [1.] ---- Real [0.]\n",
            "pred [0.] ---- Real [0.]\n",
            "pred [1.] ---- Real [0.]\n",
            "pred [1.] ---- Real [1.]\n",
            "pred [1.] ---- Real [1.]\n",
            "pred [0.] ---- Real [0.]\n",
            "pred [1.] ---- Real [1.]\n",
            "pred [0.] ---- Real [0.]\n",
            "pred [1.] ---- Real [1.]\n",
            "pred [1.] ---- Real [1.]\n",
            "pred [1.] ---- Real [1.]\n",
            "pred [1.] ---- Real [1.]\n",
            "pred [0.] ---- Real [0.]\n",
            "pred [0.] ---- Real [0.]\n",
            "pred [1.] ---- Real [0.]\n",
            "pred [1.] ---- Real [1.]\n",
            "pred [0.] ---- Real [1.]\n",
            "pred [1.] ---- Real [1.]\n",
            "pred [0.] ---- Real [1.]\n",
            "pred [0.] ---- Real [0.]\n",
            "pred [1.] ---- Real [1.]\n",
            "pred [0.] ---- Real [0.]\n",
            "pred [0.] ---- Real [0.]\n",
            "pred [1.] ---- Real [1.]\n",
            "pred [1.] ---- Real [0.]\n",
            "pred [0.] ---- Real [0.]\n",
            "pred [0.] ---- Real [0.]\n",
            "pred [1.] ---- Real [1.]\n",
            "pred [0.] ---- Real [0.]\n",
            "pred [0.] ---- Real [1.]\n",
            "pred [1.] ---- Real [1.]\n",
            "pred [0.] ---- Real [0.]\n",
            "pred [0.] ---- Real [0.]\n",
            "pred [1.] ---- Real [1.]\n",
            "pred [0.] ---- Real [0.]\n",
            "pred [0.] ---- Real [0.]\n",
            "pred [0.] ---- Real [0.]\n",
            "pred [0.] ---- Real [1.]\n",
            "pred [0.] ---- Real [0.]\n",
            "pred [1.] ---- Real [1.]\n",
            "pred [1.] ---- Real [1.]\n",
            "pred [0.] ---- Real [0.]\n",
            "pred [0.] ---- Real [0.]\n",
            "pred [1.] ---- Real [1.]\n",
            "pred [1.] ---- Real [1.]\n",
            "pred [0.] ---- Real [0.]\n",
            "pred [1.] ---- Real [1.]\n",
            "pred [0.] ---- Real [0.]\n",
            "pred [1.] ---- Real [1.]\n",
            "pred [1.] ---- Real [0.]\n",
            "pred [1.] ---- Real [1.]\n",
            "pred [0.] ---- Real [0.]\n",
            "pred [1.] ---- Real [1.]\n",
            "pred [1.] ---- Real [1.]\n",
            "pred [0.] ---- Real [0.]\n",
            "pred [1.] ---- Real [1.]\n",
            "Accuracy is  87 %\n"
          ]
        }
      ]
    },
    {
      "cell_type": "code",
      "source": [
        "from sklearn.metrics import confusion_matrix\n",
        "import seaborn as sns\n",
        "sns.set()\n",
        "cm = confusion_matrix(yout, prediction)"
      ],
      "metadata": {
        "id": "7J5PM1aSjg1X"
      },
      "execution_count": null,
      "outputs": []
    },
    {
      "cell_type": "code",
      "source": [
        "p = sns.heatmap(pd.DataFrame(cm), annot=True, cmap=\"YlGnBu\" ,fmt='g')\n",
        "plt.title('Confusion matrix', y=1.1)\n",
        "plt.ylabel('Actual label')\n",
        "plt.xlabel('Predicted label')"
      ],
      "metadata": {
        "colab": {
          "base_uri": "https://localhost:8080/",
          "height": 318
        },
        "id": "X1J_aem_jilh",
        "outputId": "2ad6c3f8-99bf-495e-b964-dad70d7f90d1"
      },
      "execution_count": null,
      "outputs": [
        {
          "output_type": "execute_result",
          "data": {
            "text/plain": [
              "Text(0.5, 12.5, 'Predicted label')"
            ]
          },
          "metadata": {},
          "execution_count": 32
        },
        {
          "output_type": "display_data",
          "data": {
            "text/plain": [
              "<Figure size 432x288 with 2 Axes>"
            ],
            "image/png": "[encoded data removed]"
          },
          "metadata": {}
        }
      ]
    },
    {
      "cell_type": "code",
      "source": [
        "from sklearn.metrics import classification_report\n",
        "print(classification_report(yout,prediction))"
      ],
      "metadata": {
        "colab": {
          "base_uri": "https://localhost:8080/"
        },
        "id": "Y2T423Mpjkcv",
        "outputId": "8ca4bbd0-85d6-4d8b-8c3e-5f898f26d3a6"
      },
      "execution_count": null,
      "outputs": [
        {
          "output_type": "stream",
          "name": "stdout",
          "text": [
            "              precision    recall  f1-score   support\n",
            "\n",
            "         0.0       0.71      0.98      0.83        56\n",
            "         1.0       0.96      0.50      0.66        44\n",
            "\n",
            "    accuracy                           0.77       100\n",
            "   macro avg       0.84      0.74      0.74       100\n",
            "weighted avg       0.82      0.77      0.75       100\n",
            "\n"
          ]
        }
      ]
    },
    {
      "cell_type": "code",
      "source": [
        "from sklearn.metrics import roc_curve\n",
        "from sklearn.metrics import roc_auc_score\n",
        "from matplotlib import pyplot\n",
        "\n",
        "ns_probs = [0 for _ in range(len(yout))]\n",
        "\n",
        "ns_auc = roc_auc_score(yout, ns_probs)\n",
        "lr_auc = roc_auc_score(yout, prediction)\n",
        "\n",
        "ns_fpr, ns_tpr, _ = roc_curve(yout, ns_probs)\n",
        "lr_fpr, lr_tpr, _ = roc_curve(yout, prediction)\n",
        "\n",
        "pyplot.plot(ns_fpr, ns_tpr, linestyle='--', label='No Skill')\n",
        "pyplot.plot(lr_fpr, lr_tpr, marker='.', label='Logistic')\n",
        "# axis labels\n",
        "pyplot.xlabel('False Positive Rate')\n",
        "pyplot.ylabel('True Positive Rate')\n",
        "# show the legend\n",
        "pyplot.legend()\n",
        "# show the plot\n",
        "pyplot.show()"
      ],
      "metadata": {
        "colab": {
          "base_uri": "https://localhost:8080/",
          "height": 279
        },
        "id": "mrERe1f6aj_e",
        "outputId": "9a39d50c-626c-4ce8-cd38-d7f6f4f9521f"
      },
      "execution_count": null,
      "outputs": [
        {
          "output_type": "display_data",
          "data": {
            "text/plain": [
              "<Figure size 432x288 with 1 Axes>"
            ],
            "image/png": "[encoded data removed]"
          },
          "metadata": {
            "needs_background": "light"
          }
        }
      ]
    }
  ]
}