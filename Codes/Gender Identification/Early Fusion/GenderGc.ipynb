{
  "nbformat": 4,
  "nbformat_minor": 0,
  "metadata": {
    "colab": {
      "name": "GenderGc.ipynb",
      "provenance": []
    },
    "kernelspec": {
      "name": "python3",
      "display_name": "Python 3"
    },
    "language_info": {
      "name": "python"
    }
  },
  "cells": [
    {
      "cell_type": "code",
      "execution_count": null,
      "metadata": {
        "id": "wjyT9SoJVWiw"
      },
      "outputs": [],
      "source": [
        "import pandas as pd\n",
        "import numpy as np\n",
        "from sklearn.preprocessing import StandardScaler"
      ]
    },
    {
      "cell_type": "code",
      "source": [
        "urineDS=pd.read_csv(\"/content/drive/MyDrive/Grad2/lastUrine.csv\")\n",
        "urineDS=urineDS.iloc[:,1:]\n",
        "\n",
        "urineOutput=urineDS.iloc[2:,0:1]\n",
        "urineInput=urineDS.iloc[2:,201:525]\n",
        "\n",
        "data = urineInput\n",
        "scaler = StandardScaler()\n",
        "scaler.fit(data)\n",
        "urineInput=scaler.transform(data)"
      ],
      "metadata": {
        "id": "zCu-sbSkVa67"
      },
      "execution_count": null,
      "outputs": []
    },
    {
      "cell_type": "code",
      "source": [
        "import numpy as np\n",
        "from sklearn.model_selection import train_test_split\n",
        "X_train, X_test, y_train, y_test = train_test_split(urineInput, urineOutput, test_size=0.33, random_state=0)"
      ],
      "metadata": {
        "id": "ptqxXbfwWJWE"
      },
      "execution_count": null,
      "outputs": []
    },
    {
      "cell_type": "code",
      "source": [
        "X_train=X_train.astype(np.float64)\n",
        "X_test=X_test.astype(np.float64)\n",
        "y_train=y_train.astype(np.float64)-1\n",
        "y_test=y_test.astype(np.float64)-1\n",
        "\n",
        "print(y_train)"
      ],
      "metadata": {
        "colab": {
          "base_uri": "https://localhost:8080/"
        },
        "id": "nXOlVU5eWNUI",
        "outputId": "af7c6362-02eb-4d38-836a-97510f4ea47c"
      },
      "execution_count": null,
      "outputs": [
        {
          "output_type": "stream",
          "name": "stdout",
          "text": [
            "     Metadata\n",
            "231       1.0\n",
            "20        1.0\n",
            "169       0.0\n",
            "254       1.0\n",
            "126       0.0\n",
            "..        ...\n",
            "253       0.0\n",
            "194       0.0\n",
            "119       1.0\n",
            "49        1.0\n",
            "174       1.0\n",
            "\n",
            "[201 rows x 1 columns]\n"
          ]
        }
      ]
    },
    {
      "cell_type": "code",
      "source": [
        "from tensorflow.keras.models import Sequential\n",
        "from tensorflow.keras.layers import Conv1D, Dense, MaxPooling1D, Flatten,concatenate\n",
        "\n",
        "from tensorflow.keras.optimizers import Adam\n",
        "from keras.layers import Dropout\n",
        "import keras\n",
        "from matplotlib import pyplot as plt\n",
        "\n",
        "model3 = Sequential()\n",
        "model3.add(Conv1D(256, 3, activation='relu', input_shape=(324, 1)))\n",
        "model3.add(Conv1D(256, 3, activation='relu'))\n",
        "model3.add(Dropout(0.25))\n",
        "model3.add(MaxPooling1D(2))\n",
        "model3.add(Conv1D(128, 3, activation='relu'))\n",
        "model3.add(MaxPooling1D(2))\n",
        "model3.add(Dropout(0.25))\n",
        "model3.add(Conv1D(64, 3, activation='relu'))\n",
        "model3.add(MaxPooling1D(2))\n",
        "model3.add(Dropout(0.5))\n",
        "model3.add(Flatten())\n",
        "model3.add(Dense(16, activation='relu'))\n",
        "model3.add(Dense(1, activation='sigmoid'))\n",
        "model3.compile(optimizer='adam', loss='binary_crossentropy', metrics=['accuracy'])"
      ],
      "metadata": {
        "id": "8mELrxi9WPf8"
      },
      "execution_count": null,
      "outputs": []
    },
    {
      "cell_type": "code",
      "source": [
        "history =model3.fit(X_train,y_train, batch_size=32, epochs=17, validation_split=0.1)\n",
        "plt.plot(history.history['accuracy'])\n",
        "plt.plot(history.history['val_accuracy'])\n",
        "plt.title('model accuracy')\n",
        "plt.ylabel('accuracy')\n",
        "plt.xlabel('epoch')\n",
        "plt.legend(['train', 'val'], loc='upper left')\n",
        "plt.show()\n",
        "\n",
        "\n",
        "plt.plot(history.history['loss'])\n",
        "plt.plot(history.history['val_loss'])\n",
        "plt.title('model loss')\n",
        "plt.ylabel('loss')\n",
        "plt.xlabel('epoch')\n",
        "plt.legend(['train', 'val'], loc='upper left')\n",
        "plt.show()"
      ],
      "metadata": {
        "colab": {
          "base_uri": "https://localhost:8080/",
          "height": 1000
        },
        "id": "6_3W63qhWXQY",
        "outputId": "e370e2a4-75b9-4b75-a19e-f856829af2b5"
      },
      "execution_count": null,
      "outputs": [
        {
          "output_type": "stream",
          "name": "stdout",
          "text": [
            "Epoch 1/17\n",
            "6/6 [==============================] - 9s 824ms/step - loss: 0.7002 - accuracy: 0.5722 - val_loss: 0.6879 - val_accuracy: 0.5714\n",
            "Epoch 2/17\n",
            "6/6 [==============================] - 2s 339ms/step - loss: 0.6864 - accuracy: 0.5333 - val_loss: 0.6640 - val_accuracy: 0.6190\n",
            "Epoch 3/17\n",
            "6/6 [==============================] - 2s 334ms/step - loss: 0.6873 - accuracy: 0.6222 - val_loss: 0.6422 - val_accuracy: 0.6190\n",
            "Epoch 4/17\n",
            "6/6 [==============================] - 2s 336ms/step - loss: 0.6599 - accuracy: 0.6556 - val_loss: 0.6184 - val_accuracy: 0.8571\n",
            "Epoch 5/17\n",
            "6/6 [==============================] - 2s 337ms/step - loss: 0.6418 - accuracy: 0.6444 - val_loss: 0.6009 - val_accuracy: 0.6667\n",
            "Epoch 6/17\n",
            "6/6 [==============================] - 2s 336ms/step - loss: 0.5807 - accuracy: 0.7278 - val_loss: 0.5706 - val_accuracy: 0.9524\n",
            "Epoch 7/17\n",
            "6/6 [==============================] - 2s 333ms/step - loss: 0.5502 - accuracy: 0.7722 - val_loss: 0.5098 - val_accuracy: 0.8095\n",
            "Epoch 8/17\n",
            "6/6 [==============================] - 2s 335ms/step - loss: 0.5343 - accuracy: 0.7611 - val_loss: 0.4859 - val_accuracy: 0.8571\n",
            "Epoch 9/17\n",
            "6/6 [==============================] - 2s 335ms/step - loss: 0.4802 - accuracy: 0.7667 - val_loss: 0.5595 - val_accuracy: 0.7143\n",
            "Epoch 10/17\n",
            "6/6 [==============================] - 2s 332ms/step - loss: 0.4084 - accuracy: 0.8389 - val_loss: 0.4277 - val_accuracy: 0.9048\n",
            "Epoch 11/17\n",
            "6/6 [==============================] - 2s 333ms/step - loss: 0.4005 - accuracy: 0.8000 - val_loss: 0.4015 - val_accuracy: 0.8571\n",
            "Epoch 12/17\n",
            "6/6 [==============================] - 2s 332ms/step - loss: 0.3459 - accuracy: 0.8333 - val_loss: 0.3682 - val_accuracy: 0.9048\n",
            "Epoch 13/17\n",
            "6/6 [==============================] - 2s 333ms/step - loss: 0.3257 - accuracy: 0.8722 - val_loss: 0.3347 - val_accuracy: 0.9048\n",
            "Epoch 14/17\n",
            "6/6 [==============================] - 2s 332ms/step - loss: 0.3030 - accuracy: 0.8722 - val_loss: 0.3092 - val_accuracy: 0.9524\n",
            "Epoch 15/17\n",
            "6/6 [==============================] - 2s 332ms/step - loss: 0.3039 - accuracy: 0.8833 - val_loss: 0.2978 - val_accuracy: 0.9048\n",
            "Epoch 16/17\n",
            "6/6 [==============================] - 2s 332ms/step - loss: 0.2598 - accuracy: 0.8833 - val_loss: 0.3642 - val_accuracy: 0.8571\n",
            "Epoch 17/17\n",
            "6/6 [==============================] - 2s 332ms/step - loss: 0.2315 - accuracy: 0.9000 - val_loss: 0.2935 - val_accuracy: 0.9048\n"
          ]
        },
        {
          "output_type": "display_data",
          "data": {
            "text/plain": [
              "<Figure size 432x288 with 1 Axes>"
            ],
            "image/png": "[encoded data removed]"
          },
          "metadata": {
            "needs_background": "light"
          }
        },
        {
          "output_type": "display_data",
          "data": {
            "text/plain": [
              "<Figure size 432x288 with 1 Axes>"
            ],
            "image/png": "[encoded data removed]"
          },
          "metadata": {
            "needs_background": "light"
          }
        }
      ]
    },
    {
      "cell_type": "code",
      "source": [
        "import os\n",
        "\n",
        "import tensorflow as tf\n",
        "from tensorflow import keras\n",
        "\n",
        "print(tf.version.VERSION)\n",
        "model3.save('/content/drive/MyDrive/Grad2Models/genderGC')"
      ],
      "metadata": {
        "colab": {
          "base_uri": "https://localhost:8080/"
        },
        "id": "GP-UqHFZn3bI",
        "outputId": "1a9e9d3d-e348-4698-e83b-dc29cb6781ee"
      },
      "execution_count": null,
      "outputs": [
        {
          "output_type": "stream",
          "name": "stdout",
          "text": [
            "2.8.2\n",
            "INFO:tensorflow:Assets written to: /content/drive/MyDrive/Grad2Models/genderGC/assets\n"
          ]
        }
      ]
    },
    {
      "cell_type": "code",
      "source": [
        "import os\n",
        "\n",
        "import tensorflow as tf\n",
        "from tensorflow import keras\n",
        "\n",
        "print(tf.version.VERSION)\n",
        "new_model = tf.keras.models.load_model('/content/drive/MyDrive/Grad2Models/genderGC', compile=False)\n",
        "\n",
        "# Check its architecture\n",
        "new_model.summary()"
      ],
      "metadata": {
        "colab": {
          "base_uri": "https://localhost:8080/"
        },
        "id": "BpkzVyman6ql",
        "outputId": "5e2c8156-d3d7-4934-b792-b032875e0cf2"
      },
      "execution_count": null,
      "outputs": [
        {
          "output_type": "stream",
          "name": "stdout",
          "text": [
            "2.8.2\n",
            "Model: \"sequential\"\n",
            "_________________________________________________________________\n",
            " Layer (type)                Output Shape              Param #   \n",
            "=================================================================\n",
            " conv1d (Conv1D)             (None, 322, 256)          1024      \n",
            "                                                                 \n",
            " conv1d_1 (Conv1D)           (None, 320, 256)          196864    \n",
            "                                                                 \n",
            " dropout (Dropout)           (None, 320, 256)          0         \n",
            "                                                                 \n",
            " max_pooling1d (MaxPooling1D  (None, 160, 256)         0         \n",
            " )                                                               \n",
            "                                                                 \n",
            " conv1d_2 (Conv1D)           (None, 158, 128)          98432     \n",
            "                                                                 \n",
            " max_pooling1d_1 (MaxPooling  (None, 79, 128)          0         \n",
            " 1D)                                                             \n",
            "                                                                 \n",
            " dropout_1 (Dropout)         (None, 79, 128)           0         \n",
            "                                                                 \n",
            " conv1d_3 (Conv1D)           (None, 77, 64)            24640     \n",
            "                                                                 \n",
            " max_pooling1d_2 (MaxPooling  (None, 38, 64)           0         \n",
            " 1D)                                                             \n",
            "                                                                 \n",
            " dropout_2 (Dropout)         (None, 38, 64)            0         \n",
            "                                                                 \n",
            " flatten (Flatten)           (None, 2432)              0         \n",
            "                                                                 \n",
            " dense (Dense)               (None, 16)                38928     \n",
            "                                                                 \n",
            " dense_1 (Dense)             (None, 1)                 17        \n",
            "                                                                 \n",
            "=================================================================\n",
            "Total params: 359,905\n",
            "Trainable params: 359,905\n",
            "Non-trainable params: 0\n",
            "_________________________________________________________________\n"
          ]
        }
      ]
    },
    {
      "cell_type": "code",
      "source": [
        "prediction=new_model.predict(X_test)\n",
        "\n",
        "for i in range (prediction.shape[0]):\n",
        "  if prediction[i]< 0.5:\n",
        "    prediction[i]=0\n",
        "  else:\n",
        "    prediction[i]=1  \n",
        "\n",
        "yout=y_test.to_numpy()    \n",
        "counter=0\n",
        "\n",
        "\n",
        "for i in range (prediction.shape[0]):\n",
        "  print(\"pred\",prediction[i],\"---- Real\",yout[i])\n",
        "  if prediction[i] == yout[i] :\n",
        "    counter=counter+1\n",
        "\n",
        "\n",
        "print(\"Accuracy is \",counter,\"%\")  "
      ],
      "metadata": {
        "colab": {
          "base_uri": "https://localhost:8080/"
        },
        "id": "sIKgjtoNWYaG",
        "outputId": "9c349e79-59a5-4b24-afee-5a3e0498436d"
      },
      "execution_count": null,
      "outputs": [
        {
          "output_type": "stream",
          "name": "stdout",
          "text": [
            "pred [0.] ---- Real [0.]\n",
            "pred [1.] ---- Real [0.]\n",
            "pred [1.] ---- Real [1.]\n",
            "pred [0.] ---- Real [0.]\n",
            "pred [0.] ---- Real [0.]\n",
            "pred [1.] ---- Real [1.]\n",
            "pred [1.] ---- Real [0.]\n",
            "pred [1.] ---- Real [1.]\n",
            "pred [0.] ---- Real [0.]\n",
            "pred [0.] ---- Real [0.]\n",
            "pred [0.] ---- Real [0.]\n",
            "pred [1.] ---- Real [1.]\n",
            "pred [1.] ---- Real [1.]\n",
            "pred [1.] ---- Real [1.]\n",
            "pred [0.] ---- Real [0.]\n",
            "pred [1.] ---- Real [0.]\n",
            "pred [0.] ---- Real [0.]\n",
            "pred [1.] ---- Real [0.]\n",
            "pred [0.] ---- Real [1.]\n",
            "pred [1.] ---- Real [1.]\n",
            "pred [1.] ---- Real [1.]\n",
            "pred [0.] ---- Real [0.]\n",
            "pred [0.] ---- Real [0.]\n",
            "pred [0.] ---- Real [0.]\n",
            "pred [0.] ---- Real [0.]\n",
            "pred [1.] ---- Real [0.]\n",
            "pred [0.] ---- Real [1.]\n",
            "pred [1.] ---- Real [1.]\n",
            "pred [1.] ---- Real [0.]\n",
            "pred [1.] ---- Real [1.]\n",
            "pred [0.] ---- Real [0.]\n",
            "pred [0.] ---- Real [0.]\n",
            "pred [1.] ---- Real [1.]\n",
            "pred [1.] ---- Real [0.]\n",
            "pred [1.] ---- Real [1.]\n",
            "pred [0.] ---- Real [0.]\n",
            "pred [0.] ---- Real [1.]\n",
            "pred [0.] ---- Real [1.]\n",
            "pred [1.] ---- Real [0.]\n",
            "pred [0.] ---- Real [0.]\n",
            "pred [0.] ---- Real [0.]\n",
            "pred [1.] ---- Real [0.]\n",
            "pred [0.] ---- Real [0.]\n",
            "pred [0.] ---- Real [0.]\n",
            "pred [1.] ---- Real [0.]\n",
            "pred [1.] ---- Real [0.]\n",
            "pred [1.] ---- Real [0.]\n",
            "pred [1.] ---- Real [1.]\n",
            "pred [0.] ---- Real [1.]\n",
            "pred [0.] ---- Real [0.]\n",
            "pred [1.] ---- Real [1.]\n",
            "pred [0.] ---- Real [0.]\n",
            "pred [1.] ---- Real [1.]\n",
            "pred [1.] ---- Real [1.]\n",
            "pred [0.] ---- Real [1.]\n",
            "pred [1.] ---- Real [1.]\n",
            "pred [1.] ---- Real [0.]\n",
            "pred [0.] ---- Real [0.]\n",
            "pred [0.] ---- Real [0.]\n",
            "pred [0.] ---- Real [1.]\n",
            "pred [0.] ---- Real [1.]\n",
            "pred [1.] ---- Real [1.]\n",
            "pred [0.] ---- Real [1.]\n",
            "pred [1.] ---- Real [0.]\n",
            "pred [1.] ---- Real [1.]\n",
            "pred [0.] ---- Real [0.]\n",
            "pred [0.] ---- Real [0.]\n",
            "pred [0.] ---- Real [1.]\n",
            "pred [1.] ---- Real [0.]\n",
            "pred [0.] ---- Real [0.]\n",
            "pred [0.] ---- Real [0.]\n",
            "pred [1.] ---- Real [1.]\n",
            "pred [0.] ---- Real [0.]\n",
            "pred [1.] ---- Real [1.]\n",
            "pred [1.] ---- Real [1.]\n",
            "pred [0.] ---- Real [0.]\n",
            "pred [0.] ---- Real [0.]\n",
            "pred [0.] ---- Real [1.]\n",
            "pred [0.] ---- Real [0.]\n",
            "pred [0.] ---- Real [0.]\n",
            "pred [1.] ---- Real [0.]\n",
            "pred [0.] ---- Real [1.]\n",
            "pred [0.] ---- Real [0.]\n",
            "pred [0.] ---- Real [1.]\n",
            "pred [0.] ---- Real [1.]\n",
            "pred [0.] ---- Real [0.]\n",
            "pred [0.] ---- Real [0.]\n",
            "pred [1.] ---- Real [1.]\n",
            "pred [1.] ---- Real [1.]\n",
            "pred [0.] ---- Real [0.]\n",
            "pred [1.] ---- Real [1.]\n",
            "pred [0.] ---- Real [0.]\n",
            "pred [1.] ---- Real [1.]\n",
            "pred [0.] ---- Real [0.]\n",
            "pred [0.] ---- Real [1.]\n",
            "pred [0.] ---- Real [0.]\n",
            "pred [1.] ---- Real [1.]\n",
            "pred [1.] ---- Real [1.]\n",
            "pred [0.] ---- Real [0.]\n",
            "pred [1.] ---- Real [1.]\n",
            "Accuracy is  69 %\n"
          ]
        }
      ]
    },
    {
      "cell_type": "code",
      "source": [
        "from sklearn.metrics import confusion_matrix\n",
        "import seaborn as sns\n",
        "sns.set()\n",
        "cm = confusion_matrix(yout, prediction)"
      ],
      "metadata": {
        "id": "0MDzMVuPWdeE"
      },
      "execution_count": null,
      "outputs": []
    },
    {
      "cell_type": "code",
      "source": [
        "p = sns.heatmap(pd.DataFrame(cm), annot=True, cmap=\"YlGnBu\" ,fmt='g')\n",
        "plt.title('Confusion matrix', y=1.1)\n",
        "plt.ylabel('Actual label')\n",
        "plt.xlabel('Predicted label')"
      ],
      "metadata": {
        "colab": {
          "base_uri": "https://localhost:8080/",
          "height": 318
        },
        "id": "JM-Hgt8GWhLg",
        "outputId": "d3b40d9c-2142-429c-b952-9a8d3eb1f983"
      },
      "execution_count": null,
      "outputs": [
        {
          "output_type": "execute_result",
          "data": {
            "text/plain": [
              "Text(0.5, 12.5, 'Predicted label')"
            ]
          },
          "metadata": {},
          "execution_count": 15
        },
        {
          "output_type": "display_data",
          "data": {
            "text/plain": [
              "<Figure size 432x288 with 2 Axes>"
            ],
            "image/png": "[encoded data removed]"
          },
          "metadata": {}
        }
      ]
    },
    {
      "cell_type": "code",
      "source": [
        "from sklearn.metrics import classification_report\n",
        "print(classification_report(yout,prediction))"
      ],
      "metadata": {
        "colab": {
          "base_uri": "https://localhost:8080/"
        },
        "id": "rEhY-STqWjns",
        "outputId": "3f2e47a4-4578-4d37-a2b7-89fba884148a"
      },
      "execution_count": null,
      "outputs": [
        {
          "output_type": "stream",
          "name": "stdout",
          "text": [
            "              precision    recall  f1-score   support\n",
            "\n",
            "         0.0       0.73      0.71      0.72        56\n",
            "         1.0       0.64      0.66      0.65        44\n",
            "\n",
            "    accuracy                           0.69       100\n",
            "   macro avg       0.69      0.69      0.69       100\n",
            "weighted avg       0.69      0.69      0.69       100\n",
            "\n"
          ]
        }
      ]
    },
    {
      "cell_type": "code",
      "source": [
        "from sklearn.metrics import roc_curve\n",
        "from sklearn.metrics import roc_auc_score\n",
        "from matplotlib import pyplot\n",
        "\n",
        "ns_probs = [0 for _ in range(len(yout))]\n",
        "\n",
        "ns_auc = roc_auc_score(yout, ns_probs)\n",
        "lr_auc = roc_auc_score(yout, prediction)\n",
        "\n",
        "ns_fpr, ns_tpr, _ = roc_curve(yout, ns_probs)\n",
        "lr_fpr, lr_tpr, _ = roc_curve(yout, prediction)\n",
        "\n",
        "pyplot.plot(ns_fpr, ns_tpr, linestyle='--', label='No Skill')\n",
        "pyplot.plot(lr_fpr, lr_tpr, marker='.', label='Logistic')\n",
        "# axis labels\n",
        "pyplot.xlabel('False Positive Rate')\n",
        "pyplot.ylabel('True Positive Rate')\n",
        "# show the legend\n",
        "pyplot.legend()\n",
        "# show the plot\n",
        "pyplot.show()"
      ],
      "metadata": {
        "id": "Jd1hqVKlZ85q",
        "outputId": "604071b6-1aca-4ecb-c70f-7a1f3088688e",
        "colab": {
          "base_uri": "https://localhost:8080/",
          "height": 279
        }
      },
      "execution_count": null,
      "outputs": [
        {
          "output_type": "display_data",
          "data": {
            "text/plain": [
              "<Figure size 432x288 with 1 Axes>"
            ],
            "image/png": "[encoded data removed]"
          },
          "metadata": {
            "needs_background": "light"
          }
        }
      ]
    }
  ]
}