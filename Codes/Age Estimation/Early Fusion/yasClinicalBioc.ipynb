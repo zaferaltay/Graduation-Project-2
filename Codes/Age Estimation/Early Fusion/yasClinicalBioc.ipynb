{
  "nbformat": 4,
  "nbformat_minor": 0,
  "metadata": {
    "colab": {
      "name": "yasClinicalBioc.ipynb",
      "provenance": []
    },
    "kernelspec": {
      "name": "python3",
      "display_name": "Python 3"
    },
    "language_info": {
      "name": "python"
    }
  },
  "cells": [
    {
      "cell_type": "code",
      "execution_count": null,
      "metadata": {
        "id": "Qx3XX-djclnP"
      },
      "outputs": [],
      "source": [
        "import pandas as pd\n",
        "import numpy as np\n",
        "\n",
        "urineDS=pd.read_csv(\"/content/drive/MyDrive/Grad2/lastUrine.csv\")\n",
        "urineDS=urineDS.iloc[:,1:]\n",
        "\n",
        "from sklearn.preprocessing import StandardScaler\n",
        "from sklearn import preprocessing\n",
        "min_max_scaler = preprocessing.MinMaxScaler()\n",
        "\n",
        "\n",
        "urineOutput=urineDS.iloc[2:,1:2]\n",
        "urineInput=urineDS.iloc[2:,525:]\n",
        "\n",
        "data = urineInput\n",
        "scaler = StandardScaler()\n",
        "scaler.fit(data)\n",
        "urineInput=scaler.transform(data)\n",
        "#urineInput=min_max_scaler.fit_transform(data)"
      ]
    },
    {
      "cell_type": "code",
      "source": [
        "import numpy as np\n",
        "from sklearn.model_selection import train_test_split\n",
        "X_train, X_test, y_train, y_test = train_test_split(urineInput, urineOutput, test_size=0.33, random_state=0)"
      ],
      "metadata": {
        "id": "TMJEJ8Dkcy2f"
      },
      "execution_count": null,
      "outputs": []
    },
    {
      "cell_type": "code",
      "source": [
        "X_train=X_train.astype(np.float64)\n",
        "X_test=X_test.astype(np.float64)\n",
        "y_train=y_train.astype(np.float64)\n",
        "y_test=y_test.astype(np.float64)\n",
        "\n",
        "X_train=X_train.astype(np.int64)\n",
        "y_train=y_train.astype(np.int64)\n",
        "X_train=X_train.astype(np.float64)\n",
        "y_train=y_train.astype(np.float64)\n",
        "print(y_train)"
      ],
      "metadata": {
        "colab": {
          "base_uri": "https://localhost:8080/"
        },
        "id": "a9-xCiWCc1A3",
        "outputId": "6a5ec98f-20ae-4357-d88b-b80a4b775950"
      },
      "execution_count": null,
      "outputs": [
        {
          "output_type": "stream",
          "name": "stdout",
          "text": [
            "     Unnamed: 1\n",
            "231        46.0\n",
            "20         52.0\n",
            "169        25.0\n",
            "254        50.0\n",
            "126        73.0\n",
            "..          ...\n",
            "253        30.0\n",
            "194        60.0\n",
            "119        61.0\n",
            "49         61.0\n",
            "174        62.0\n",
            "\n",
            "[201 rows x 1 columns]\n"
          ]
        }
      ]
    },
    {
      "cell_type": "code",
      "source": [
        "from tensorflow.keras.models import Sequential\n",
        "from tensorflow.keras.layers import Conv1D, Dense, MaxPooling1D, Flatten,concatenate\n",
        "\n",
        "from tensorflow.keras.optimizers import Adam\n",
        "from keras.layers import Dropout\n",
        "import keras\n",
        "from matplotlib import pyplot as plt\n",
        "\n",
        "model = Sequential()\n",
        "model.add(Conv1D(256, 3, activation='relu', input_shape=(8, 1)))\n",
        "model.add(Conv1D(256, 3, activation='relu'))\n",
        "model.add(Dropout(0.25))\n",
        "model.add(MaxPooling1D(2))\n",
        "model.add(Conv1D(128, 2, activation='relu'))\n",
        "model.add(MaxPooling1D(1))\n",
        "model.add(Dropout(0.25))\n",
        "model.add(Conv1D(64, 1, activation='relu'))\n",
        "model.add(MaxPooling1D(1))\n",
        "model.add(Dropout(0.5))\n",
        "model.add(Flatten())\n",
        "model.add(Dense(16, activation='relu'))\n",
        "model.add(Dense(1, activation='relu'))\n",
        "model.compile(optimizer='adam', loss='mean_absolute_error', metrics=['mean_absolute_error'])"
      ],
      "metadata": {
        "id": "dNoKvyK6c4mj"
      },
      "execution_count": null,
      "outputs": []
    },
    {
      "cell_type": "code",
      "source": [
        "history =model.fit(X_train,y_train, batch_size=32, epochs=40, validation_split=0.1)"
      ],
      "metadata": {
        "colab": {
          "base_uri": "https://localhost:8080/"
        },
        "id": "y33C9p7yc7cK",
        "outputId": "0029c6c5-dd0f-4320-9b4e-2646561c5b5a"
      },
      "execution_count": null,
      "outputs": [
        {
          "output_type": "stream",
          "name": "stdout",
          "text": [
            "Epoch 1/40\n",
            "6/6 [==============================] - 0s 48ms/step - loss: 17.1648 - mean_absolute_error: 17.1648 - val_loss: 18.7701 - val_mean_absolute_error: 18.7701\n",
            "Epoch 2/40\n",
            "6/6 [==============================] - 0s 59ms/step - loss: 16.0795 - mean_absolute_error: 16.0795 - val_loss: 19.3116 - val_mean_absolute_error: 19.3116\n",
            "Epoch 3/40\n",
            "6/6 [==============================] - 0s 49ms/step - loss: 15.6935 - mean_absolute_error: 15.6935 - val_loss: 18.7452 - val_mean_absolute_error: 18.7452\n",
            "Epoch 4/40\n",
            "6/6 [==============================] - 0s 43ms/step - loss: 14.8854 - mean_absolute_error: 14.8854 - val_loss: 18.9586 - val_mean_absolute_error: 18.9586\n",
            "Epoch 5/40\n",
            "6/6 [==============================] - 0s 41ms/step - loss: 16.9820 - mean_absolute_error: 16.9820 - val_loss: 19.3303 - val_mean_absolute_error: 19.3303\n",
            "Epoch 6/40\n",
            "6/6 [==============================] - 0s 35ms/step - loss: 15.9712 - mean_absolute_error: 15.9712 - val_loss: 18.9345 - val_mean_absolute_error: 18.9345\n",
            "Epoch 7/40\n",
            "6/6 [==============================] - 0s 41ms/step - loss: 15.3527 - mean_absolute_error: 15.3527 - val_loss: 19.1466 - val_mean_absolute_error: 19.1466\n",
            "Epoch 8/40\n",
            "6/6 [==============================] - 0s 40ms/step - loss: 16.1961 - mean_absolute_error: 16.1961 - val_loss: 19.1541 - val_mean_absolute_error: 19.1541\n",
            "Epoch 9/40\n",
            "6/6 [==============================] - 0s 36ms/step - loss: 16.6507 - mean_absolute_error: 16.6507 - val_loss: 19.2497 - val_mean_absolute_error: 19.2497\n",
            "Epoch 10/40\n",
            "6/6 [==============================] - 0s 49ms/step - loss: 15.6052 - mean_absolute_error: 15.6052 - val_loss: 19.4484 - val_mean_absolute_error: 19.4484\n",
            "Epoch 11/40\n",
            "6/6 [==============================] - 0s 39ms/step - loss: 17.3256 - mean_absolute_error: 17.3256 - val_loss: 19.5287 - val_mean_absolute_error: 19.5287\n",
            "Epoch 12/40\n",
            "6/6 [==============================] - 0s 58ms/step - loss: 17.5617 - mean_absolute_error: 17.5617 - val_loss: 19.9114 - val_mean_absolute_error: 19.9114\n",
            "Epoch 13/40\n",
            "6/6 [==============================] - 0s 63ms/step - loss: 16.3764 - mean_absolute_error: 16.3764 - val_loss: 19.7210 - val_mean_absolute_error: 19.7210\n",
            "Epoch 14/40\n",
            "6/6 [==============================] - 0s 54ms/step - loss: 15.9511 - mean_absolute_error: 15.9511 - val_loss: 19.7042 - val_mean_absolute_error: 19.7042\n",
            "Epoch 15/40\n",
            "6/6 [==============================] - 0s 38ms/step - loss: 16.3279 - mean_absolute_error: 16.3279 - val_loss: 19.8353 - val_mean_absolute_error: 19.8353\n",
            "Epoch 16/40\n",
            "6/6 [==============================] - 0s 29ms/step - loss: 16.4250 - mean_absolute_error: 16.4250 - val_loss: 19.4356 - val_mean_absolute_error: 19.4356\n",
            "Epoch 17/40\n",
            "6/6 [==============================] - 0s 26ms/step - loss: 15.9932 - mean_absolute_error: 15.9932 - val_loss: 19.7527 - val_mean_absolute_error: 19.7527\n",
            "Epoch 18/40\n",
            "6/6 [==============================] - 0s 26ms/step - loss: 14.6996 - mean_absolute_error: 14.6996 - val_loss: 18.9593 - val_mean_absolute_error: 18.9593\n",
            "Epoch 19/40\n",
            "6/6 [==============================] - 0s 31ms/step - loss: 16.5233 - mean_absolute_error: 16.5233 - val_loss: 19.7198 - val_mean_absolute_error: 19.7198\n",
            "Epoch 20/40\n",
            "6/6 [==============================] - 0s 32ms/step - loss: 17.0032 - mean_absolute_error: 17.0032 - val_loss: 19.8974 - val_mean_absolute_error: 19.8974\n",
            "Epoch 21/40\n",
            "6/6 [==============================] - 0s 30ms/step - loss: 16.6053 - mean_absolute_error: 16.6053 - val_loss: 19.3443 - val_mean_absolute_error: 19.3443\n",
            "Epoch 22/40\n",
            "6/6 [==============================] - 0s 26ms/step - loss: 17.0530 - mean_absolute_error: 17.0530 - val_loss: 19.4971 - val_mean_absolute_error: 19.4971\n",
            "Epoch 23/40\n",
            "6/6 [==============================] - 0s 27ms/step - loss: 17.0139 - mean_absolute_error: 17.0139 - val_loss: 20.4962 - val_mean_absolute_error: 20.4962\n",
            "Epoch 24/40\n",
            "6/6 [==============================] - 0s 30ms/step - loss: 16.7428 - mean_absolute_error: 16.7428 - val_loss: 19.6659 - val_mean_absolute_error: 19.6659\n",
            "Epoch 25/40\n",
            "6/6 [==============================] - 0s 28ms/step - loss: 15.7018 - mean_absolute_error: 15.7018 - val_loss: 19.3222 - val_mean_absolute_error: 19.3222\n",
            "Epoch 26/40\n",
            "6/6 [==============================] - 0s 29ms/step - loss: 16.1073 - mean_absolute_error: 16.1073 - val_loss: 20.7733 - val_mean_absolute_error: 20.7733\n",
            "Epoch 27/40\n",
            "6/6 [==============================] - 0s 26ms/step - loss: 16.2725 - mean_absolute_error: 16.2725 - val_loss: 19.8284 - val_mean_absolute_error: 19.8284\n",
            "Epoch 28/40\n",
            "6/6 [==============================] - 0s 28ms/step - loss: 16.5174 - mean_absolute_error: 16.5174 - val_loss: 19.4803 - val_mean_absolute_error: 19.4803\n",
            "Epoch 29/40\n",
            "6/6 [==============================] - 0s 28ms/step - loss: 15.8431 - mean_absolute_error: 15.8431 - val_loss: 19.8521 - val_mean_absolute_error: 19.8521\n",
            "Epoch 30/40\n",
            "6/6 [==============================] - 0s 29ms/step - loss: 15.9422 - mean_absolute_error: 15.9422 - val_loss: 19.8554 - val_mean_absolute_error: 19.8554\n",
            "Epoch 31/40\n",
            "6/6 [==============================] - 0s 29ms/step - loss: 15.1898 - mean_absolute_error: 15.1898 - val_loss: 19.5102 - val_mean_absolute_error: 19.5102\n",
            "Epoch 32/40\n",
            "6/6 [==============================] - 0s 28ms/step - loss: 15.4826 - mean_absolute_error: 15.4826 - val_loss: 18.8754 - val_mean_absolute_error: 18.8754\n",
            "Epoch 33/40\n",
            "6/6 [==============================] - 0s 28ms/step - loss: 15.1106 - mean_absolute_error: 15.1106 - val_loss: 19.7798 - val_mean_absolute_error: 19.7798\n",
            "Epoch 34/40\n",
            "6/6 [==============================] - 0s 28ms/step - loss: 16.9853 - mean_absolute_error: 16.9853 - val_loss: 19.6777 - val_mean_absolute_error: 19.6777\n",
            "Epoch 35/40\n",
            "6/6 [==============================] - 0s 26ms/step - loss: 15.2408 - mean_absolute_error: 15.2408 - val_loss: 18.5144 - val_mean_absolute_error: 18.5144\n",
            "Epoch 36/40\n",
            "6/6 [==============================] - 0s 29ms/step - loss: 18.4358 - mean_absolute_error: 18.4358 - val_loss: 19.4207 - val_mean_absolute_error: 19.4207\n",
            "Epoch 37/40\n",
            "6/6 [==============================] - 0s 33ms/step - loss: 15.6077 - mean_absolute_error: 15.6077 - val_loss: 19.8883 - val_mean_absolute_error: 19.8883\n",
            "Epoch 38/40\n",
            "6/6 [==============================] - 0s 27ms/step - loss: 17.0729 - mean_absolute_error: 17.0729 - val_loss: 19.0354 - val_mean_absolute_error: 19.0354\n",
            "Epoch 39/40\n",
            "6/6 [==============================] - 0s 30ms/step - loss: 16.8920 - mean_absolute_error: 16.8920 - val_loss: 19.9756 - val_mean_absolute_error: 19.9756\n",
            "Epoch 40/40\n",
            "6/6 [==============================] - 0s 27ms/step - loss: 16.4707 - mean_absolute_error: 16.4707 - val_loss: 19.4112 - val_mean_absolute_error: 19.4112\n"
          ]
        }
      ]
    },
    {
      "cell_type": "code",
      "source": [
        "#!pip install pyyaml h5py\n",
        "import os\n",
        "\n",
        "import tensorflow as tf\n",
        "from tensorflow import keras\n",
        "\n",
        "print(tf.version.VERSION)\n",
        "model.save('/content/drive/MyDrive/Grad2Models/yasClinicalBioc')"
      ],
      "metadata": {
        "colab": {
          "base_uri": "https://localhost:8080/"
        },
        "id": "ZUoXHOpNM_Jo",
        "outputId": "c93ffdb7-f119-4373-f324-b1d5af0001c6"
      },
      "execution_count": null,
      "outputs": [
        {
          "output_type": "stream",
          "name": "stdout",
          "text": [
            "2.8.2\n",
            "INFO:tensorflow:Assets written to: /content/drive/MyDrive/Grad2Models/yasClinicalBioc/assets\n"
          ]
        }
      ]
    },
    {
      "cell_type": "code",
      "source": [
        "new_model = tf.keras.models.load_model('/content/drive/MyDrive/Grad2Models/yasClinicalBioc')\n",
        "\n",
        "# Check its architecture\n",
        "new_model.summary()"
      ],
      "metadata": {
        "colab": {
          "base_uri": "https://localhost:8080/"
        },
        "id": "4XTICM1pOuHO",
        "outputId": "64758e8f-ab38-4fde-d290-f0607916b07d"
      },
      "execution_count": null,
      "outputs": [
        {
          "output_type": "stream",
          "name": "stdout",
          "text": [
            "Model: \"sequential_2\"\n",
            "_________________________________________________________________\n",
            " Layer (type)                Output Shape              Param #   \n",
            "=================================================================\n",
            " conv1d_8 (Conv1D)           (None, 6, 256)            1024      \n",
            "                                                                 \n",
            " conv1d_9 (Conv1D)           (None, 4, 256)            196864    \n",
            "                                                                 \n",
            " dropout_6 (Dropout)         (None, 4, 256)            0         \n",
            "                                                                 \n",
            " max_pooling1d_6 (MaxPooling  (None, 2, 256)           0         \n",
            " 1D)                                                             \n",
            "                                                                 \n",
            " conv1d_10 (Conv1D)          (None, 1, 128)            65664     \n",
            "                                                                 \n",
            " max_pooling1d_7 (MaxPooling  (None, 1, 128)           0         \n",
            " 1D)                                                             \n",
            "                                                                 \n",
            " dropout_7 (Dropout)         (None, 1, 128)            0         \n",
            "                                                                 \n",
            " conv1d_11 (Conv1D)          (None, 1, 64)             8256      \n",
            "                                                                 \n",
            " max_pooling1d_8 (MaxPooling  (None, 1, 64)            0         \n",
            " 1D)                                                             \n",
            "                                                                 \n",
            " dropout_8 (Dropout)         (None, 1, 64)             0         \n",
            "                                                                 \n",
            " flatten_2 (Flatten)         (None, 64)                0         \n",
            "                                                                 \n",
            " dense_4 (Dense)             (None, 16)                1040      \n",
            "                                                                 \n",
            " dense_5 (Dense)             (None, 1)                 17        \n",
            "                                                                 \n",
            "=================================================================\n",
            "Total params: 272,865\n",
            "Trainable params: 272,865\n",
            "Non-trainable params: 0\n",
            "_________________________________________________________________\n"
          ]
        }
      ]
    },
    {
      "cell_type": "code",
      "source": [
        "import matplotlib.pyplot as plt\n",
        "print(history.history.keys())\n",
        "\n",
        "plt.plot(history.history['mean_absolute_error'])\n",
        "plt.plot(history.history['val_mean_absolute_error'])\n",
        "plt.title('model mae')\n",
        "plt.ylabel('mae')\n",
        "plt.xlabel('epoch')\n",
        "plt.legend(['train', 'test'], loc='upper left')\n",
        "plt.show()\n",
        "# summarize history for loss\n",
        "plt.plot(history.history['loss'])\n",
        "plt.plot(history.history['val_loss'])\n",
        "plt.title('model loss')\n",
        "plt.ylabel('loss')\n",
        "plt.xlabel('epoch')\n",
        "plt.legend(['train', 'test'], loc='upper left')\n",
        "plt.show()"
      ],
      "metadata": {
        "id": "qoVK5-wHc_Gf"
      },
      "execution_count": null,
      "outputs": []
    },
    {
      "cell_type": "code",
      "source": [
        "prediction=new_model.predict(X_test)\n",
        "\n",
        "\n",
        "yout=y_test.to_numpy()    \n",
        "counter=0\n",
        "counter2=0\n",
        "counter3=0\n",
        "yout = yout. astype(int)\n",
        "total=0\n",
        "for i in range (prediction.shape[0]):\n",
        "  if prediction[i]%1>=0.5:\n",
        "    prediction[i]=int(prediction[i])+1\n",
        "  else :\n",
        "     prediction[i]=int(prediction[i])  \n",
        "\n",
        "for i in range (prediction.shape[0]):\n",
        "  if prediction[i]>yout[i]:\n",
        "    total=total+prediction[i]-yout[i]\n",
        "  else:\n",
        "    total=total+yout[i]-prediction[i]\n",
        "\n",
        "print(\"Hata Payı = %\",total/100)    "
      ],
      "metadata": {
        "colab": {
          "base_uri": "https://localhost:8080/"
        },
        "id": "X1I3BsIbdBvx",
        "outputId": "83d1a058-b646-4e50-8a25-bb75d4b75145"
      },
      "execution_count": null,
      "outputs": [
        {
          "output_type": "stream",
          "name": "stdout",
          "text": [
            "Hata Payı = % [16.37]\n"
          ]
        }
      ]
    }
  ]
}